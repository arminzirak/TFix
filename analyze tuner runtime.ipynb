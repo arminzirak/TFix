{
 "cells": [
  {
   "cell_type": "code",
   "execution_count": 1,
   "id": "ec95eed9",
   "metadata": {},
   "outputs": [],
   "source": [
    "import pandas as pd"
   ]
  },
  {
   "cell_type": "code",
   "execution_count": 2,
   "id": "00f082e4",
   "metadata": {},
   "outputs": [
    {
     "data": {
      "text/html": [
       "<div>\n",
       "<style scoped>\n",
       "    .dataframe tbody tr th:only-of-type {\n",
       "        vertical-align: middle;\n",
       "    }\n",
       "\n",
       "    .dataframe tbody tr th {\n",
       "        vertical-align: top;\n",
       "    }\n",
       "\n",
       "    .dataframe thead th {\n",
       "        text-align: right;\n",
       "    }\n",
       "</style>\n",
       "<table border=\"1\" class=\"dataframe\">\n",
       "  <thead>\n",
       "    <tr style=\"text-align: right;\">\n",
       "      <th></th>\n",
       "      <th>repo</th>\n",
       "      <th>train_size</th>\n",
       "      <th>val_size</th>\n",
       "      <th>model</th>\n",
       "      <th>start_all</th>\n",
       "      <th>start_train</th>\n",
       "      <th>end_train</th>\n",
       "      <th>end_all</th>\n",
       "    </tr>\n",
       "  </thead>\n",
       "  <tbody>\n",
       "    <tr>\n",
       "      <th>0</th>\n",
       "      <td>/data/all/data/qooxdoo/qooxdoo</td>\n",
       "      <td>322</td>\n",
       "      <td>110</td>\n",
       "      <td>training/t5-small_repo-based_21-01-2022_10-29-...</td>\n",
       "      <td>2022-01-25 12:25:21.078229</td>\n",
       "      <td>2022-01-25 12:25:43.360902</td>\n",
       "      <td>2022-01-25 12:26:36.368447</td>\n",
       "      <td>2022-01-25 12:26:39.673392</td>\n",
       "    </tr>\n",
       "  </tbody>\n",
       "</table>\n",
       "</div>"
      ],
      "text/plain": [
       "                             repo  train_size  val_size  \\\n",
       "0  /data/all/data/qooxdoo/qooxdoo         322       110   \n",
       "\n",
       "                                               model  \\\n",
       "0  training/t5-small_repo-based_21-01-2022_10-29-...   \n",
       "\n",
       "                    start_all                 start_train  \\\n",
       "0  2022-01-25 12:25:21.078229  2022-01-25 12:25:43.360902   \n",
       "\n",
       "                    end_train                     end_all  \n",
       "0  2022-01-25 12:26:36.368447  2022-01-25 12:26:39.673392  "
      ]
     },
     "execution_count": 2,
     "metadata": {},
     "output_type": "execute_result"
    }
   ],
   "source": [
    "tuner_runtime = pd.read_csv('./tuner_runtime.csv', names=['repo', 'train_size', 'val_size', 'model', 'start_all', 'start_train', 'end_train', 'end_all'])\n",
    "tuner_runtime.head(1)"
   ]
  },
  {
   "cell_type": "code",
   "execution_count": 3,
   "id": "91c39a6b",
   "metadata": {},
   "outputs": [
    {
     "data": {
      "text/html": [
       "<div>\n",
       "<style scoped>\n",
       "    .dataframe tbody tr th:only-of-type {\n",
       "        vertical-align: middle;\n",
       "    }\n",
       "\n",
       "    .dataframe tbody tr th {\n",
       "        vertical-align: top;\n",
       "    }\n",
       "\n",
       "    .dataframe thead th {\n",
       "        text-align: right;\n",
       "    }\n",
       "</style>\n",
       "<table border=\"1\" class=\"dataframe\">\n",
       "  <thead>\n",
       "    <tr style=\"text-align: right;\">\n",
       "      <th></th>\n",
       "      <th>repo</th>\n",
       "      <th>train_size</th>\n",
       "      <th>val_size</th>\n",
       "      <th>model</th>\n",
       "      <th>start_all</th>\n",
       "      <th>start_train</th>\n",
       "      <th>end_train</th>\n",
       "      <th>end_all</th>\n",
       "      <th>time_all</th>\n",
       "      <th>time_train</th>\n",
       "    </tr>\n",
       "  </thead>\n",
       "  <tbody>\n",
       "    <tr>\n",
       "      <th>0</th>\n",
       "      <td>/data/all/data/qooxdoo/qooxdoo</td>\n",
       "      <td>322</td>\n",
       "      <td>110</td>\n",
       "      <td>training/t5-small_repo-based_21-01-2022_10-29-...</td>\n",
       "      <td>2022-01-25 12:25:21.078229</td>\n",
       "      <td>2022-01-25 12:25:43.360902</td>\n",
       "      <td>2022-01-25 12:26:36.368447</td>\n",
       "      <td>2022-01-25 12:26:39.673392</td>\n",
       "      <td>0 days 00:01:18.595163</td>\n",
       "      <td>0 days 00:00:53.007545</td>\n",
       "    </tr>\n",
       "  </tbody>\n",
       "</table>\n",
       "</div>"
      ],
      "text/plain": [
       "                             repo  train_size  val_size  \\\n",
       "0  /data/all/data/qooxdoo/qooxdoo         322       110   \n",
       "\n",
       "                                               model  \\\n",
       "0  training/t5-small_repo-based_21-01-2022_10-29-...   \n",
       "\n",
       "                    start_all                 start_train  \\\n",
       "0  2022-01-25 12:25:21.078229  2022-01-25 12:25:43.360902   \n",
       "\n",
       "                    end_train                     end_all  \\\n",
       "0  2022-01-25 12:26:36.368447  2022-01-25 12:26:39.673392   \n",
       "\n",
       "                time_all             time_train  \n",
       "0 0 days 00:01:18.595163 0 days 00:00:53.007545  "
      ]
     },
     "execution_count": 3,
     "metadata": {},
     "output_type": "execute_result"
    }
   ],
   "source": [
    "tuner_runtime['time_all'] = pd.to_datetime(tuner_runtime['end_all']) - pd.to_datetime(tuner_runtime['start_all'])\n",
    "tuner_runtime['time_train'] = pd.to_datetime(tuner_runtime['end_train']) - pd.to_datetime(tuner_runtime['start_train'])\n",
    "tuner_runtime.head(1)"
   ]
  },
  {
   "cell_type": "code",
   "execution_count": 4,
   "id": "1fdfc035",
   "metadata": {},
   "outputs": [
    {
     "data": {
      "text/plain": [
       "Timedelta('0 days 00:00:59.185669200')"
      ]
     },
     "execution_count": 4,
     "metadata": {},
     "output_type": "execute_result"
    }
   ],
   "source": [
    "tuner_runtime['time_all'].mean()"
   ]
  },
  {
   "cell_type": "code",
   "execution_count": 5,
   "id": "50539447",
   "metadata": {},
   "outputs": [
    {
     "data": {
      "text/plain": [
       "Timedelta('0 days 00:00:38.363861800')"
      ]
     },
     "execution_count": 5,
     "metadata": {},
     "output_type": "execute_result"
    }
   ],
   "source": [
    "tuner_runtime['time_train'].mean()"
   ]
  },
  {
   "cell_type": "code",
   "execution_count": null,
   "id": "6044cd9a",
   "metadata": {},
   "outputs": [],
   "source": []
  }
 ],
 "metadata": {
  "kernelspec": {
   "display_name": "Python 3",
   "language": "python",
   "name": "python3"
  },
  "language_info": {
   "codemirror_mode": {
    "name": "ipython",
    "version": 3
   },
   "file_extension": ".py",
   "mimetype": "text/x-python",
   "name": "python",
   "nbconvert_exporter": "python",
   "pygments_lexer": "ipython3",
   "version": "3.8.5"
  }
 },
 "nbformat": 4,
 "nbformat_minor": 5
}
