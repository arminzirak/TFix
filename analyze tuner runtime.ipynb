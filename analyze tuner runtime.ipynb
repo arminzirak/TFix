{
 "cells": [
  {
   "cell_type": "code",
   "execution_count": 1,
   "id": "ec95eed9",
   "metadata": {},
   "outputs": [],
   "source": [
    "import pandas as pd"
   ]
  },
  {
   "cell_type": "code",
   "execution_count": 30,
   "id": "00f082e4",
   "metadata": {},
   "outputs": [
    {
     "data": {
      "text/html": [
       "<div>\n",
       "<style scoped>\n",
       "    .dataframe tbody tr th:only-of-type {\n",
       "        vertical-align: middle;\n",
       "    }\n",
       "\n",
       "    .dataframe tbody tr th {\n",
       "        vertical-align: top;\n",
       "    }\n",
       "\n",
       "    .dataframe thead th {\n",
       "        text-align: right;\n",
       "    }\n",
       "</style>\n",
       "<table border=\"1\" class=\"dataframe\">\n",
       "  <thead>\n",
       "    <tr style=\"text-align: right;\">\n",
       "      <th></th>\n",
       "      <th>name</th>\n",
       "      <th>repo</th>\n",
       "      <th>train_size</th>\n",
       "      <th>val_size</th>\n",
       "      <th>model</th>\n",
       "      <th>start_all</th>\n",
       "      <th>start_train</th>\n",
       "      <th>end_train</th>\n",
       "      <th>end_all</th>\n",
       "    </tr>\n",
       "  </thead>\n",
       "  <tbody>\n",
       "    <tr>\n",
       "      <th>0</th>\n",
       "      <td>NaN</td>\n",
       "      <td>/data/all/data/qooxdoo/qooxdoo</td>\n",
       "      <td>322</td>\n",
       "      <td>110</td>\n",
       "      <td>training/t5-large_global_repo-based_25-01-2022...</td>\n",
       "      <td>2022-01-28 11:04:07.669853</td>\n",
       "      <td>2022-01-28 11:05:15.420979</td>\n",
       "      <td>2022-01-28 11:12:04.140188</td>\n",
       "      <td>2022-01-28 11:12:35.469396</td>\n",
       "    </tr>\n",
       "  </tbody>\n",
       "</table>\n",
       "</div>"
      ],
      "text/plain": [
       "  name                            repo  train_size  val_size  \\\n",
       "0  NaN  /data/all/data/qooxdoo/qooxdoo         322       110   \n",
       "\n",
       "                                               model  \\\n",
       "0  training/t5-large_global_repo-based_25-01-2022...   \n",
       "\n",
       "                    start_all                 start_train  \\\n",
       "0  2022-01-28 11:04:07.669853  2022-01-28 11:05:15.420979   \n",
       "\n",
       "                    end_train                     end_all  \n",
       "0  2022-01-28 11:12:04.140188  2022-01-28 11:12:35.469396  "
      ]
     },
     "execution_count": 30,
     "metadata": {},
     "output_type": "execute_result"
    }
   ],
   "source": [
    "tuner_runtime = pd.read_csv('./tuner_runtime_large.csv', names=['name', 'repo', 'train_size', 'val_size', 'model', 'start_all', 'start_train', 'end_train', 'end_all'])\n",
    "tuner_runtime.head(1)"
   ]
  },
  {
   "cell_type": "code",
   "execution_count": 31,
   "id": "91c39a6b",
   "metadata": {},
   "outputs": [
    {
     "data": {
      "text/html": [
       "<div>\n",
       "<style scoped>\n",
       "    .dataframe tbody tr th:only-of-type {\n",
       "        vertical-align: middle;\n",
       "    }\n",
       "\n",
       "    .dataframe tbody tr th {\n",
       "        vertical-align: top;\n",
       "    }\n",
       "\n",
       "    .dataframe thead th {\n",
       "        text-align: right;\n",
       "    }\n",
       "</style>\n",
       "<table border=\"1\" class=\"dataframe\">\n",
       "  <thead>\n",
       "    <tr style=\"text-align: right;\">\n",
       "      <th></th>\n",
       "      <th>name</th>\n",
       "      <th>repo</th>\n",
       "      <th>train_size</th>\n",
       "      <th>val_size</th>\n",
       "      <th>model</th>\n",
       "      <th>start_all</th>\n",
       "      <th>start_train</th>\n",
       "      <th>end_train</th>\n",
       "      <th>end_all</th>\n",
       "      <th>time_all</th>\n",
       "      <th>time_train</th>\n",
       "    </tr>\n",
       "  </thead>\n",
       "  <tbody>\n",
       "    <tr>\n",
       "      <th>0</th>\n",
       "      <td>NaN</td>\n",
       "      <td>/data/all/data/qooxdoo/qooxdoo</td>\n",
       "      <td>322</td>\n",
       "      <td>110</td>\n",
       "      <td>training/t5-large_global_repo-based_25-01-2022...</td>\n",
       "      <td>2022-01-28 11:04:07.669853</td>\n",
       "      <td>2022-01-28 11:05:15.420979</td>\n",
       "      <td>2022-01-28 11:12:04.140188</td>\n",
       "      <td>2022-01-28 11:12:35.469396</td>\n",
       "      <td>0 days 00:08:27.799543</td>\n",
       "      <td>0 days 00:06:48.719209</td>\n",
       "    </tr>\n",
       "  </tbody>\n",
       "</table>\n",
       "</div>"
      ],
      "text/plain": [
       "  name                            repo  train_size  val_size  \\\n",
       "0  NaN  /data/all/data/qooxdoo/qooxdoo         322       110   \n",
       "\n",
       "                                               model  \\\n",
       "0  training/t5-large_global_repo-based_25-01-2022...   \n",
       "\n",
       "                    start_all                 start_train  \\\n",
       "0  2022-01-28 11:04:07.669853  2022-01-28 11:05:15.420979   \n",
       "\n",
       "                    end_train                     end_all  \\\n",
       "0  2022-01-28 11:12:04.140188  2022-01-28 11:12:35.469396   \n",
       "\n",
       "                time_all             time_train  \n",
       "0 0 days 00:08:27.799543 0 days 00:06:48.719209  "
      ]
     },
     "execution_count": 31,
     "metadata": {},
     "output_type": "execute_result"
    }
   ],
   "source": [
    "tuner_runtime['time_all'] = pd.to_datetime(tuner_runtime['end_all']) - pd.to_datetime(tuner_runtime['start_all'])\n",
    "tuner_runtime['time_train'] = pd.to_datetime(tuner_runtime['end_train']) - pd.to_datetime(tuner_runtime['start_train'])\n",
    "tuner_runtime.head(1)"
   ]
  },
  {
   "cell_type": "code",
   "execution_count": 40,
   "id": "50539447",
   "metadata": {},
   "outputs": [
    {
     "data": {
      "text/plain": [
       "Timedelta('0 days 00:07:09.991777300')"
      ]
     },
     "execution_count": 40,
     "metadata": {},
     "output_type": "execute_result"
    }
   ],
   "source": [
    "tuner_runtime[tuner_runtime['name'].isna()]['time_train'].mean()"
   ]
  },
  {
   "cell_type": "code",
   "execution_count": 36,
   "id": "8613a934",
   "metadata": {},
   "outputs": [],
   "source": [
    "#Volume: 2MB of adapters compared to 250MB of the model itself"
   ]
  },
  {
   "cell_type": "code",
   "execution_count": 37,
   "id": "77cffd43",
   "metadata": {},
   "outputs": [
    {
     "data": {
      "text/plain": [
       "Timedelta('0 days 00:01:31.395098500')"
      ]
     },
     "execution_count": 37,
     "metadata": {},
     "output_type": "execute_result"
    }
   ],
   "source": [
    "tuner_runtime[tuner_runtime['name'] == 'curr_distance_based']['time_train'].mean()"
   ]
  },
  {
   "cell_type": "code",
   "execution_count": 38,
   "id": "1fd0507f",
   "metadata": {},
   "outputs": [
    {
     "data": {
      "text/plain": [
       "Timedelta('0 days 00:00:46.964425')"
      ]
     },
     "execution_count": 38,
     "metadata": {},
     "output_type": "execute_result"
    }
   ],
   "source": [
    "tuner_runtime[tuner_runtime['name'] == 'curr_length_label']['time_train'].mean()"
   ]
  },
  {
   "cell_type": "code",
   "execution_count": 39,
   "id": "f447c7cb",
   "metadata": {},
   "outputs": [
    {
     "data": {
      "text/plain": [
       "Timedelta('0 days 00:00:59.477972')"
      ]
     },
     "execution_count": 39,
     "metadata": {},
     "output_type": "execute_result"
    }
   ],
   "source": [
    "tuner_runtime[tuner_runtime['name'] == 'curr_conf']['time_train'].mean()"
   ]
  },
  {
   "cell_type": "code",
   "execution_count": null,
   "id": "f5a8e61f",
   "metadata": {},
   "outputs": [],
   "source": []
  },
  {
   "cell_type": "code",
   "execution_count": null,
   "id": "4ddf7570",
   "metadata": {},
   "outputs": [],
   "source": []
  },
  {
   "cell_type": "code",
   "execution_count": null,
   "id": "ee70ed48",
   "metadata": {},
   "outputs": [],
   "source": []
  },
  {
   "cell_type": "code",
   "execution_count": null,
   "id": "69caaa9d",
   "metadata": {},
   "outputs": [],
   "source": []
  },
  {
   "cell_type": "code",
   "execution_count": null,
   "id": "86d0f491",
   "metadata": {},
   "outputs": [],
   "source": []
  },
  {
   "cell_type": "code",
   "execution_count": null,
   "id": "bce08eb4",
   "metadata": {},
   "outputs": [],
   "source": []
  },
  {
   "cell_type": "code",
   "execution_count": null,
   "id": "b309d9b0",
   "metadata": {},
   "outputs": [],
   "source": []
  },
  {
   "cell_type": "code",
   "execution_count": null,
   "id": "78ff0f49",
   "metadata": {},
   "outputs": [],
   "source": []
  },
  {
   "cell_type": "code",
   "execution_count": null,
   "id": "fbb1d691",
   "metadata": {},
   "outputs": [],
   "source": []
  },
  {
   "cell_type": "code",
   "execution_count": null,
   "id": "0fad19c9",
   "metadata": {},
   "outputs": [],
   "source": []
  },
  {
   "cell_type": "code",
   "execution_count": null,
   "id": "780f0ce2",
   "metadata": {},
   "outputs": [],
   "source": []
  }
 ],
 "metadata": {
  "kernelspec": {
   "display_name": "Python 3",
   "language": "python",
   "name": "python3"
  },
  "language_info": {
   "codemirror_mode": {
    "name": "ipython",
    "version": 3
   },
   "file_extension": ".py",
   "mimetype": "text/x-python",
   "name": "python",
   "nbconvert_exporter": "python",
   "pygments_lexer": "ipython3",
   "version": "3.8.10"
  }
 },
 "nbformat": 4,
 "nbformat_minor": 5
}
