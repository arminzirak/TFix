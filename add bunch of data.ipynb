{
 "cells": [
  {
   "cell_type": "code",
   "execution_count": 1,
   "id": "557172ec",
   "metadata": {},
   "outputs": [],
   "source": [
    "%load_ext autoreload\n",
    "%autoreload 2"
   ]
  },
  {
   "cell_type": "code",
   "execution_count": 2,
   "id": "9e205e0c",
   "metadata": {},
   "outputs": [],
   "source": [
    "from IPython.display import clear_output"
   ]
  },
  {
   "cell_type": "code",
   "execution_count": 3,
   "id": "026b8e94",
   "metadata": {},
   "outputs": [],
   "source": [
    "from transformers import Seq2SeqTrainer\n",
    "from transformers import Seq2SeqTrainingArguments\n",
    "from transformers import T5Config\n",
    "from transformers import T5ForConditionalGeneration\n",
    "from transformers import T5Tokenizer\n",
    "from transformers import set_seed"
   ]
  },
  {
   "cell_type": "code",
   "execution_count": 4,
   "id": "a101993c",
   "metadata": {},
   "outputs": [],
   "source": [
    "from datetime import datetime\n",
    "import argparse\n",
    "import os\n",
    "import sys\n",
    "\n",
    "sys.path.append(\"./hf_transformers/\")"
   ]
  },
  {
   "cell_type": "code",
   "execution_count": 5,
   "id": "82e078ba",
   "metadata": {},
   "outputs": [],
   "source": [
    "import torch\n",
    "\n",
    "from data_reader import GetDataAsPython\n",
    "from prepare_data import create_data\n",
    "from prepare_data import create_dataset\n",
    "from prepare_data import extract_warning_types\n",
    "from utils import boolean_string\n",
    "from utils import get_current_time\n",
    "import csv\n",
    "import numpy as np"
   ]
  },
  {
   "cell_type": "code",
   "execution_count": 6,
   "id": "2cc8e6c3",
   "metadata": {},
   "outputs": [],
   "source": [
    "storage_directory = './storage/'"
   ]
  },
  {
   "cell_type": "code",
   "execution_count": 7,
   "id": "8b7a2bd6",
   "metadata": {},
   "outputs": [],
   "source": [
    "import random"
   ]
  },
  {
   "cell_type": "code",
   "execution_count": 8,
   "id": "e6178f1b",
   "metadata": {},
   "outputs": [
    {
     "data": {
      "text/plain": [
       "10"
      ]
     },
     "execution_count": 8,
     "metadata": {},
     "output_type": "execute_result"
    }
   ],
   "source": [
    "exec_number = random.randint(0, 1000)\n",
    "exec_number"
   ]
  },
  {
   "cell_type": "code",
   "execution_count": 9,
   "id": "39260e34",
   "metadata": {},
   "outputs": [
    {
     "data": {
      "text/plain": [
       "'/data/all/data/zloirock/core-js'"
      ]
     },
     "execution_count": 9,
     "metadata": {},
     "output_type": "execute_result"
    }
   ],
   "source": [
    "repo = '/data/all/data/zloirock/core-js'\n",
    "repo"
   ]
  },
  {
   "cell_type": "code",
   "execution_count": 10,
   "id": "5df74c5b",
   "metadata": {},
   "outputs": [
    {
     "data": {
      "text/plain": [
       "0.0"
      ]
     },
     "execution_count": 10,
     "metadata": {},
     "output_type": "execute_result"
    }
   ],
   "source": [
    "sample_percent = 0.0\n",
    "sample_percent"
   ]
  },
  {
   "cell_type": "code",
   "execution_count": 11,
   "id": "2f4c2265",
   "metadata": {},
   "outputs": [
    {
     "data": {
      "text/plain": [
       "'added'"
      ]
     },
     "execution_count": 11,
     "metadata": {},
     "output_type": "execute_result"
    }
   ],
   "source": [
    "name='added'\n",
    "name"
   ]
  },
  {
   "cell_type": "code",
   "execution_count": 12,
   "id": "c1e840d5",
   "metadata": {},
   "outputs": [],
   "source": [
    "# Read and prepare data\n",
    "data = GetDataAsPython(f\"{storage_directory}/data_and_models/data/data_autofix_tracking_repo_specific_final.json\")\n",
    "data_eslint = GetDataAsPython(f\"{storage_directory}/data_and_models/data/data_autofix_tracking_eslint_final.json\")\n",
    "data += data_eslint"
   ]
  },
  {
   "cell_type": "code",
   "execution_count": 13,
   "id": "a1a5fbaf",
   "metadata": {},
   "outputs": [
    {
     "data": {
      "text/plain": [
       "104804"
      ]
     },
     "execution_count": 13,
     "metadata": {},
     "output_type": "execute_result"
    }
   ],
   "source": [
    "len(data)"
   ]
  },
  {
   "cell_type": "code",
   "execution_count": 14,
   "id": "31c8c56a",
   "metadata": {},
   "outputs": [],
   "source": [
    "all_warning_types = extract_warning_types(data)"
   ]
  },
  {
   "cell_type": "code",
   "execution_count": 15,
   "id": "5e85c0cc",
   "metadata": {},
   "outputs": [
    {
     "name": "stdout",
     "output_type": "stream",
     "text": [
      "splitting by : repo-based-included\n",
      "train size: 136\n",
      "val size: 13\n",
      "test size: 52\n"
     ]
    }
   ],
   "source": [
    "(repo_train_inputs, repo_train_labels, repo_val_inputs, repo_val_labels, repo_test_inputs, repo_test_labels, repo_train_info, repo_val_info, repo_test_info, ) =\\\n",
    "    create_data(data, all_warning_types, include_warning=True, design='repo-based-included', select_repo=repo)"
   ]
  },
  {
   "cell_type": "code",
   "execution_count": 16,
   "id": "34170791",
   "metadata": {},
   "outputs": [
    {
     "name": "stdout",
     "output_type": "stream",
     "text": [
      "splitting by : repo-based\n",
      "train size: 95109\n",
      "val size: 5033\n",
      "test size: 1262\n"
     ]
    }
   ],
   "source": [
    "(general_train_inputs, general_train_labels, general_val_inputs, general_val_labels, general_test_inputs, general_test_labels, general_train_info, general_val_info, general_test_info, ) =\\\n",
    "    create_data(data, all_warning_types, include_warning=True, design='repo-based')"
   ]
  },
  {
   "cell_type": "code",
   "execution_count": 17,
   "id": "85dc38f0",
   "metadata": {},
   "outputs": [],
   "source": [
    "from transformers import AutoTokenizer, AutoModel\n",
    "\n",
    "code_bert_model = AutoModel.from_pretrained(\"microsoft/codebert-base\")\n",
    "code_bert_model.to('cuda')\n",
    "\n",
    "code_bert_tokenizer = AutoTokenizer.from_pretrained(\"microsoft/codebert-base\")"
   ]
  },
  {
   "cell_type": "code",
   "execution_count": 18,
   "id": "d409ac8e",
   "metadata": {},
   "outputs": [],
   "source": [
    "def code_to_vec(code): # probably need a normalization\n",
    "    code_tokens=code_bert_tokenizer.tokenize(code)\n",
    "    tokens=[code_bert_tokenizer.cls_token]+code_tokens+[code_bert_tokenizer.sep_token]\n",
    "    tokens_ids=code_bert_tokenizer.convert_tokens_to_ids(tokens)\n",
    "    context_embeddings=code_bert_model(torch.tensor(tokens_ids).to('cuda')[None,:])[0]\n",
    "    return context_embeddings[0][0].cpu().detach().numpy()\n",
    "def vec_distance(code1, code2):\n",
    "    n_code1 = code1/np.linalg.norm(code1)\n",
    "    n_code2 = code1/np.linalg.norm(code2)\n",
    "    return np.linalg.norm(n_code1 - n_code2)"
   ]
  },
  {
   "cell_type": "code",
   "execution_count": 19,
   "id": "1034e9cc",
   "metadata": {},
   "outputs": [],
   "source": [
    "repo_vecs = np.array([code_to_vec(item) for item in repo_train_inputs])"
   ]
  },
  {
   "cell_type": "code",
   "execution_count": 20,
   "id": "f368129b",
   "metadata": {},
   "outputs": [
    {
     "data": {
      "text/plain": [
       "(136, 768)"
      ]
     },
     "execution_count": 20,
     "metadata": {},
     "output_type": "execute_result"
    }
   ],
   "source": [
    "repo_vecs.shape"
   ]
  },
  {
   "cell_type": "code",
   "execution_count": 21,
   "id": "82f5af84",
   "metadata": {},
   "outputs": [],
   "source": [
    "from sklearn.neighbors import NearestNeighbors"
   ]
  },
  {
   "cell_type": "code",
   "execution_count": 22,
   "id": "44a03a7f",
   "metadata": {},
   "outputs": [],
   "source": [
    "# repo_center = np.average(repo_vecs, axis=0)"
   ]
  },
  {
   "cell_type": "code",
   "execution_count": 23,
   "id": "239a264a",
   "metadata": {},
   "outputs": [],
   "source": [
    "# %%time\n",
    "# general_vecs = np.array([code_to_vec(item[:512]) for item in general_train_inputs[:]])"
   ]
  },
  {
   "cell_type": "code",
   "execution_count": 24,
   "id": "15f703b8",
   "metadata": {},
   "outputs": [],
   "source": [
    "# general_vecs.shape"
   ]
  },
  {
   "cell_type": "code",
   "execution_count": 25,
   "id": "1829a4f3",
   "metadata": {},
   "outputs": [],
   "source": [
    "# np.save('general_arr_all.npy', general_vecs)"
   ]
  },
  {
   "cell_type": "code",
   "execution_count": 26,
   "id": "7ce866bb",
   "metadata": {},
   "outputs": [
    {
     "data": {
      "text/plain": [
       "(95109, 768)"
      ]
     },
     "execution_count": 26,
     "metadata": {},
     "output_type": "execute_result"
    }
   ],
   "source": [
    "general_vecs = np.load('general_arr_all.npy')\n",
    "general_vecs.shape"
   ]
  },
  {
   "cell_type": "code",
   "execution_count": 27,
   "id": "216fac25",
   "metadata": {},
   "outputs": [],
   "source": [
    "nbrs = NearestNeighbors(n_neighbors=1, algorithm='ball_tree').fit(repo_vecs)"
   ]
  },
  {
   "cell_type": "code",
   "execution_count": 28,
   "id": "a438c207",
   "metadata": {},
   "outputs": [],
   "source": [
    "distances, indices = nbrs.kneighbors(general_vecs)"
   ]
  },
  {
   "cell_type": "code",
   "execution_count": 29,
   "id": "75229a0e",
   "metadata": {},
   "outputs": [],
   "source": [
    "# diffs = [vec_distance(general_vec, repo_center) for general_vec in general_vecs]"
   ]
  },
  {
   "cell_type": "code",
   "execution_count": 30,
   "id": "66500243",
   "metadata": {},
   "outputs": [
    {
     "data": {
      "text/plain": [
       "(array([1.4000e+01, 3.4500e+02, 6.7190e+03, 6.1043e+04, 2.4028e+04,\n",
       "        2.6840e+03, 2.4500e+02, 2.2000e+01, 4.0000e+00, 5.0000e+00]),\n",
       " array([0.        , 0.50694202, 1.01388403, 1.52082605, 2.02776807,\n",
       "        2.53471008, 3.0416521 , 3.54859412, 4.05553613, 4.56247815,\n",
       "        5.06942017]),\n",
       " <BarContainer object of 10 artists>)"
      ]
     },
     "execution_count": 30,
     "metadata": {},
     "output_type": "execute_result"
    },
    {
     "data": {
      "image/png": "[encoded data removed]",
      "text/plain": [
       "<Figure size 432x288 with 2 Axes>"
      ]
     },
     "metadata": {
      "needs_background": "light"
     },
     "output_type": "display_data"
    }
   ],
   "source": [
    "import matplotlib.pyplot as plt\n",
    "plt.subplot(2, 1, 1)\n",
    "plt.boxplot(distances)\n",
    "plt.subplot(2, 1, 2)\n",
    "plt.hist(distances)"
   ]
  },
  {
   "cell_type": "code",
   "execution_count": 31,
   "id": "85ae24a8",
   "metadata": {},
   "outputs": [
    {
     "data": {
      "text/plain": [
       "(136, 2)"
      ]
     },
     "execution_count": 31,
     "metadata": {},
     "output_type": "execute_result"
    }
   ],
   "source": [
    "repo_nbrs = NearestNeighbors(n_neighbors=2, algorithm='ball_tree').fit(repo_vecs)\n",
    "repo_distances, index = repo_nbrs.kneighbors(repo_vecs)\n",
    "repo_distances.shape"
   ]
  },
  {
   "cell_type": "code",
   "execution_count": 32,
   "id": "db5dc9c6",
   "metadata": {},
   "outputs": [
    {
     "data": {
      "text/plain": [
       "(array([17., 18., 16., 10., 23., 24., 17.,  2.,  5.,  4.]),\n",
       " array([0.32845291, 0.53171225, 0.73497158, 0.93823092, 1.14149026,\n",
       "        1.34474959, 1.54800893, 1.75126826, 1.9545276 , 2.15778693,\n",
       "        2.36104627]),\n",
       " <BarContainer object of 10 artists>)"
      ]
     },
     "execution_count": 32,
     "metadata": {},
     "output_type": "execute_result"
    },
    {
     "data": {
      "image/png": "[encoded data removed]",
      "text/plain": [
       "<Figure size 432x288 with 1 Axes>"
      ]
     },
     "metadata": {
      "needs_background": "light"
     },
     "output_type": "display_data"
    }
   ],
   "source": [
    "plt.hist(repo_distances[:,1])"
   ]
  },
  {
   "cell_type": "code",
   "execution_count": 33,
   "id": "6dd30887",
   "metadata": {},
   "outputs": [],
   "source": [
    "# top_n = 597#int(len(diffs) / 10)\n",
    "# top_n"
   ]
  },
  {
   "cell_type": "code",
   "execution_count": 41,
   "id": "1cb3e309",
   "metadata": {},
   "outputs": [
    {
     "data": {
      "text/plain": [
       "172"
      ]
     },
     "execution_count": 41,
     "metadata": {},
     "output_type": "execute_result"
    }
   ],
   "source": [
    "selected = (distances < 0.93)\n",
    "selected.sum()"
   ]
  },
  {
   "cell_type": "code",
   "execution_count": 42,
   "id": "48615f31",
   "metadata": {},
   "outputs": [],
   "source": [
    "# selected_ind = np.argpartition(diffs, top_n)[:top_n]"
   ]
  },
  {
   "cell_type": "code",
   "execution_count": 43,
   "id": "6c7f1120",
   "metadata": {},
   "outputs": [],
   "source": [
    "# np.array(diffs)[selected_ind].mean(), np.array(diffs).mean()"
   ]
  },
  {
   "cell_type": "code",
   "execution_count": 44,
   "id": "818c83c1",
   "metadata": {},
   "outputs": [],
   "source": [
    "added_inputs = list()\n",
    "added_labels = list()\n",
    "added_info = list()\n",
    "for ind in range(len(general_train_inputs)):\n",
    "    if selected[ind]:\n",
    "        added_inputs.append(general_train_inputs[ind])\n",
    "        added_labels.append(general_train_labels[ind])\n",
    "        added_info.append(general_train_info[ind])"
   ]
  },
  {
   "cell_type": "code",
   "execution_count": 45,
   "id": "2b82bf06",
   "metadata": {},
   "outputs": [
    {
     "name": "stdout",
     "output_type": "stream",
     "text": [
      "136 0 0.0\n"
     ]
    }
   ],
   "source": [
    "# Create dataset required by pytorch\n",
    "samples = int(sample_percent * len(repo_train_inputs))\n",
    "print(f'{len(repo_train_inputs)} {samples} {sample_percent}')"
   ]
  },
  {
   "cell_type": "code",
   "execution_count": 46,
   "id": "602bd0fc",
   "metadata": {},
   "outputs": [
    {
     "data": {
      "text/plain": [
       "(136, 172)"
      ]
     },
     "execution_count": 46,
     "metadata": {},
     "output_type": "execute_result"
    }
   ],
   "source": [
    "len(repo_train_inputs), len(added_inputs)"
   ]
  },
  {
   "cell_type": "code",
   "execution_count": 47,
   "id": "b84df8ee",
   "metadata": {},
   "outputs": [],
   "source": [
    "added_inputs += repo_train_inputs[:samples]\n",
    "added_labels += repo_train_labels[:samples]\n",
    "added_info += repo_train_info[:samples]"
   ]
  },
  {
   "cell_type": "code",
   "execution_count": 48,
   "id": "78aaf55b",
   "metadata": {},
   "outputs": [],
   "source": [
    "validation_point = int((len(added_inputs) * 4) / 5)"
   ]
  },
  {
   "cell_type": "code",
   "execution_count": 49,
   "id": "626f2d81",
   "metadata": {},
   "outputs": [
    {
     "data": {
      "text/plain": [
       "172"
      ]
     },
     "execution_count": 49,
     "metadata": {},
     "output_type": "execute_result"
    }
   ],
   "source": [
    "len(added_inputs)"
   ]
  },
  {
   "cell_type": "code",
   "execution_count": 50,
   "id": "850a57c1",
   "metadata": {},
   "outputs": [],
   "source": [
    "load_model = f'./{storage_directory}/checkpoint-37375'\n",
    "tokenizer = T5Tokenizer.from_pretrained(load_model)"
   ]
  },
  {
   "cell_type": "code",
   "execution_count": 51,
   "id": "c9aa42f2",
   "metadata": {},
   "outputs": [
    {
     "name": "stderr",
     "output_type": "stream",
     "text": [
      "/home/armin/TFix/env/lib/python3.8/site-packages/transformers/models/t5/tokenization_t5.py:181: UserWarning: This sequence already has </s>. In future versions this behavior may lead to duplicated eos tokens being added.\n",
      "  warnings.warn(\n"
     ]
    }
   ],
   "source": [
    "train_dataset = create_dataset(added_inputs[:validation_point], added_labels[:validation_point], tokenizer, pad_truncate=True, max_length=128)\n",
    "val_dataset = create_dataset(added_inputs[validation_point:], added_labels[validation_point:], tokenizer, pad_truncate=True)\n",
    "test_dataset = create_dataset(repo_val_inputs, repo_val_labels, tokenizer, pad_truncate=True)"
   ]
  },
  {
   "cell_type": "code",
   "execution_count": 52,
   "id": "62a42ffc",
   "metadata": {},
   "outputs": [
    {
     "data": {
      "text/plain": [
       "'./storage//tmp/added_10_core-js_0.0_172'"
      ]
     },
     "execution_count": 52,
     "metadata": {},
     "output_type": "execute_result"
    }
   ],
   "source": [
    "now = datetime.now()\n",
    "test_result_directory = f'{storage_directory}/fine-tune-result'\n",
    "full_name = f'{name}_{exec_number}_{repo.rsplit(\"/\", 1)[1][-20:]}_{sample_percent}_{selected.sum()}'\n",
    "model_directory = f'{storage_directory}/tmp/{full_name}'\n",
    "model_directory"
   ]
  },
  {
   "cell_type": "code",
   "execution_count": 53,
   "id": "ce789f87",
   "metadata": {},
   "outputs": [
    {
     "data": {
      "text/plain": [
       "(0.004, 0.4, 300)"
      ]
     },
     "execution_count": 53,
     "metadata": {},
     "output_type": "execute_result"
    }
   ],
   "source": [
    "lr = 4e-3\n",
    "ws = 300\n",
    "wd = 0.4\n",
    "lr, wd, ws"
   ]
  },
  {
   "cell_type": "code",
   "execution_count": 54,
   "id": "e8ed18b8",
   "metadata": {},
   "outputs": [
    {
     "data": {
      "text/plain": [
       "Embedding(32104, 512)"
      ]
     },
     "execution_count": 54,
     "metadata": {},
     "output_type": "execute_result"
    }
   ],
   "source": [
    "tokenizer = T5Tokenizer.from_pretrained(load_model)\n",
    "model = T5ForConditionalGeneration.from_pretrained(load_model)\n",
    "model.resize_token_embeddings(len(tokenizer))\n",
    "# model.eval()"
   ]
  },
  {
   "cell_type": "code",
   "execution_count": 55,
   "id": "c7272675",
   "metadata": {},
   "outputs": [],
   "source": [
    "from transformers import EarlyStoppingCallback\n",
    "\n",
    "training_args = Seq2SeqTrainingArguments(\n",
    "    output_dir=model_directory,\n",
    "    num_train_epochs=15,\n",
    "    per_device_train_batch_size=16,\n",
    "    per_device_eval_batch_size=16,\n",
    "    warmup_steps=ws,\n",
    "    weight_decay=wd,\n",
    "    logging_dir=model_directory,\n",
    "    logging_steps=100,\n",
    "    do_eval=True,\n",
    "    evaluation_strategy=\"epoch\",\n",
    "    learning_rate=lr,\n",
    "    load_best_model_at_end=True,\n",
    "    metric_for_best_model=\"eval_loss\",\n",
    "    greater_is_better=False,\n",
    "    save_total_limit=1,\n",
    "    eval_accumulation_steps=1,  # set this lower, if testing or validation crashes\n",
    "    disable_tqdm=False,\n",
    "    predict_with_generate=True,  # never set this to false.\n",
    "    seed=42,  # default value\n",
    ")"
   ]
  },
  {
   "cell_type": "code",
   "execution_count": 56,
   "id": "a9618af7",
   "metadata": {},
   "outputs": [],
   "source": [
    "# from sklearn.metrics import accuracy_score\n",
    "# import numpy as np\n",
    "# def compute_metrics(p):\n",
    "#     target_max_length = 256\n",
    "#     predictions, labels = p.predictions, p.label_ids\n",
    "    \n",
    "#     predictions = np.pad(predictions, ((0, 0), (0, target_max_length - predictions.shape[1])), mode=\"constant\")\n",
    "#     predictions = np.delete(predictions, 0, axis=1)\n",
    "#     predictions = np.insert(predictions, target_max_length - 1, 0, axis=1)\n",
    "\n",
    "#     labels = np.array(labels)\n",
    "#     labels = np.pad(labels, ((0, 0), (0, target_max_length - labels.shape[1])), mode=\"constant\")\n",
    "#     labels = np.delete(labels, 0, axis=1)\n",
    "#     labels = np.insert(labels, target_max_length - 1, 0, axis=1)\n",
    "\n",
    "#     correct_counter = np.sum(np.all(np.equal(labels, predictions), axis=1))\n",
    "#     return {'acc': int(correct_counter)}"
   ]
  },
  {
   "cell_type": "code",
   "execution_count": 57,
   "id": "74605553",
   "metadata": {},
   "outputs": [],
   "source": [
    "trainer = Seq2SeqTrainer(\n",
    "    model=model,\n",
    "    args=training_args,\n",
    "    train_dataset=train_dataset,\n",
    "    eval_dataset=val_dataset,\n",
    "    optimizers=[torch.optim.Adam(params=model.parameters(), lr=lr), None],\n",
    "    tokenizer=tokenizer,\n",
    "    callbacks = [EarlyStoppingCallback(early_stopping_patience=5)]\n",
    "#     compute_metrics=compute_metrics\n",
    ")"
   ]
  },
  {
   "cell_type": "code",
   "execution_count": 58,
   "id": "be664a15",
   "metadata": {
    "scrolled": true
   },
   "outputs": [
    {
     "data": {
      "text/html": [
       "\n",
       "    <div>\n",
       "        <style>\n",
       "            /* Turns off some styling */\n",
       "            progress {\n",
       "                /* gets rid of default border in Firefox and Opera. */\n",
       "                border: none;\n",
       "                /* Needs to be in here for Safari polyfill so background images work as expected. */\n",
       "                background-size: auto;\n",
       "            }\n",
       "        </style>\n",
       "      \n",
       "      <progress value='63' max='135' style='width:300px; height:20px; vertical-align: middle;'></progress>\n",
       "      [ 63/135 00:16 < 00:19, 3.64 it/s, Epoch 7/15]\n",
       "    </div>\n",
       "    <table border=\"1\" class=\"dataframe\">\n",
       "  <thead>\n",
       "    <tr style=\"text-align: left;\">\n",
       "      <th>Epoch</th>\n",
       "      <th>Training Loss</th>\n",
       "      <th>Validation Loss</th>\n",
       "      <th>Runtime</th>\n",
       "      <th>Samples Per Second</th>\n",
       "    </tr>\n",
       "  </thead>\n",
       "  <tbody>\n",
       "    <tr>\n",
       "      <td>1</td>\n",
       "      <td>No log</td>\n",
       "      <td>0.052705</td>\n",
       "      <td>0.109200</td>\n",
       "      <td>320.530000</td>\n",
       "    </tr>\n",
       "    <tr>\n",
       "      <td>2</td>\n",
       "      <td>No log</td>\n",
       "      <td>0.051527</td>\n",
       "      <td>0.112900</td>\n",
       "      <td>309.940000</td>\n",
       "    </tr>\n",
       "    <tr>\n",
       "      <td>3</td>\n",
       "      <td>No log</td>\n",
       "      <td>0.062978</td>\n",
       "      <td>0.110800</td>\n",
       "      <td>315.742000</td>\n",
       "    </tr>\n",
       "    <tr>\n",
       "      <td>4</td>\n",
       "      <td>No log</td>\n",
       "      <td>0.062700</td>\n",
       "      <td>0.110100</td>\n",
       "      <td>317.767000</td>\n",
       "    </tr>\n",
       "    <tr>\n",
       "      <td>5</td>\n",
       "      <td>No log</td>\n",
       "      <td>0.064449</td>\n",
       "      <td>0.111500</td>\n",
       "      <td>313.974000</td>\n",
       "    </tr>\n",
       "    <tr>\n",
       "      <td>6</td>\n",
       "      <td>No log</td>\n",
       "      <td>0.068093</td>\n",
       "      <td>0.110500</td>\n",
       "      <td>316.825000</td>\n",
       "    </tr>\n",
       "    <tr>\n",
       "      <td>7</td>\n",
       "      <td>No log</td>\n",
       "      <td>0.069507</td>\n",
       "      <td>0.110800</td>\n",
       "      <td>315.749000</td>\n",
       "    </tr>\n",
       "  </tbody>\n",
       "</table><p>"
      ],
      "text/plain": [
       "<IPython.core.display.HTML object>"
      ]
     },
     "metadata": {},
     "output_type": "display_data"
    },
    {
     "data": {
      "text/plain": [
       "TrainOutput(global_step=63, training_loss=0.056056809803796195, metrics={'train_runtime': 16.9118, 'train_samples_per_second': 7.983, 'total_flos': 44554804396032, 'epoch': 7.0})"
      ]
     },
     "execution_count": 58,
     "metadata": {},
     "output_type": "execute_result"
    }
   ],
   "source": [
    "trainer.train()"
   ]
  },
  {
   "cell_type": "code",
   "execution_count": 59,
   "id": "9d799cd9",
   "metadata": {},
   "outputs": [
    {
     "data": {
      "text/html": [
       "\n",
       "    <div>\n",
       "        <style>\n",
       "            /* Turns off some styling */\n",
       "            progress {\n",
       "                /* gets rid of default border in Firefox and Opera. */\n",
       "                border: none;\n",
       "                /* Needs to be in here for Safari polyfill so background images work as expected. */\n",
       "                background-size: auto;\n",
       "            }\n",
       "        </style>\n",
       "      \n",
       "      <progress value='4' max='3' style='width:300px; height:20px; vertical-align: middle;'></progress>\n",
       "      [3/3 00:01]\n",
       "    </div>\n",
       "    "
      ],
      "text/plain": [
       "<IPython.core.display.HTML object>"
      ]
     },
     "metadata": {},
     "output_type": "display_data"
    },
    {
     "data": {
      "text/plain": [
       "0.05152716487646103"
      ]
     },
     "execution_count": 59,
     "metadata": {},
     "output_type": "execute_result"
    }
   ],
   "source": [
    "trainer.evaluate()['eval_loss']"
   ]
  },
  {
   "cell_type": "code",
   "execution_count": 60,
   "id": "a5af0349",
   "metadata": {},
   "outputs": [
    {
     "data": {
      "text/plain": [
       "{'eval_loss': 0.2893669903278351,\n",
       " 'eval_runtime': 0.2373,\n",
       " 'eval_samples_per_second': 54.783}"
      ]
     },
     "execution_count": 60,
     "metadata": {},
     "output_type": "execute_result"
    }
   ],
   "source": [
    "trainer.predict(test_dataset).metrics"
   ]
  },
  {
   "cell_type": "code",
   "execution_count": 61,
   "id": "e8d7c520",
   "metadata": {},
   "outputs": [
    {
     "data": {
      "text/plain": [
       "'./storage//tmp/added_10_core-js_0.0_172/best'"
      ]
     },
     "execution_count": 61,
     "metadata": {},
     "output_type": "execute_result"
    }
   ],
   "source": [
    "best_model_dir = f'{model_directory}/best'\n",
    "trainer.save_model(best_model_dir)\n",
    "best_model_dir"
   ]
  },
  {
   "cell_type": "code",
   "execution_count": 62,
   "id": "b1f0b6e5",
   "metadata": {},
   "outputs": [],
   "source": [
    "# del train_dataset\n",
    "# del test_dataset\n",
    "# del val_dataset\n",
    "# del trainer"
   ]
  },
  {
   "cell_type": "code",
   "execution_count": 63,
   "id": "3eec0686",
   "metadata": {},
   "outputs": [],
   "source": [
    "from numba import cuda \n",
    "device = cuda.get_current_device()\n",
    "device.reset()"
   ]
  },
  {
   "cell_type": "code",
   "execution_count": 64,
   "id": "2c6d027e",
   "metadata": {},
   "outputs": [
    {
     "name": "stdout",
     "output_type": "stream",
     "text": [
      "huggingface/tokenizers: The current process just got forked, after parallelism has already been used. Disabling parallelism to avoid deadlocks...\n",
      "To disable this warning, you can either:\n",
      "\t- Avoid using `tokenizers` before the fork if possible\n",
      "\t- Explicitly set the environment variable TOKENIZERS_PARALLELISM=(true | false)\n",
      "start time:  18:30:41\n",
      "['no-invalid-this', 'no-throw-literal', 'no-new-wrappers', 'guard-for-in', 'no-new-object', 'comma-style', 'prefer-spread', 'no-caller', 'no-extra-bind', 'no-array-constructor', 'prefer-rest-params', 'generator-star-spacing', 'no-this-before-super', 'no-extend-native', 'no-undef', 'no-useless-escape', 'no-dupe-keys', 'no-console', 'no-constant-condition', 'no-duplicate-case', 'no-empty', 'no-extra-semi', 'no-redeclare', 'no-cond-assign', 'no-extra-boolean-cast', 'no-fallthrough', 'no-unreachable', 'valid-typeof', 'no-unsafe-finally', 'no-unused-vars', 'no-debugger', 'no-unsafe-negation', 'no-case-declarations', 'no-self-assign', 'no-process-exit', 'no-inner-declarations', 'for-direction', 'no-compare-neg-zero', 'no-sparse-arrays', 'no-func-assign', 'no-const-assign', 'no-global-assign', 'use-isnan', 'no-unused-labels', 'require-yield', 'getter-return', 'no-dupe-class-members', 'no-ex-assign', 'constructor-super', 'no-new-symbol', 'no-empty-pattern', 'no-class-assign']\n",
      "splitting by : repo-based-included\n",
      "train size: 136\n",
      "val size: 13\n",
      "test size: 52\n",
      "Loaded tokenizer from directory ./storage//tmp/added_10_core-js_0.0_172/best\n",
      "Loaded model from directory ./storage//tmp/added_10_core-js_0.0_172/best\n",
      "cuda:0\n",
      "/home/armin/TFix/env/lib/python3.8/site-packages/transformers/models/t5/tokenization_t5.py:181: UserWarning: This sequence already has </s>. In future versions this behavior may lead to duplicated eos tokens being added.\n",
      "  warnings.warn(\n",
      "Testing has started\n",
      "Number of testing samples:  52\n",
      "10it [00:09,  1.51it/s]                                                         score average 0.40384615384615385\n",
      "result : ./storage//2/per-repo/t5-small_test_core-js_02-12-2021_18-30-41\n",
      "end time:  18:30:59\n"
     ]
    }
   ],
   "source": [
    "!python hf_transformers/tfix_testing.py --load-model $best_model_dir -bs 16 --model-name t5-small -d repo-based-included -r $repo"
   ]
  },
  {
   "cell_type": "code",
   "execution_count": 65,
   "id": "6ef3e347",
   "metadata": {},
   "outputs": [
    {
     "name": "stdout",
     "output_type": "stream",
     "text": [
      "huggingface/tokenizers: The current process just got forked, after parallelism has already been used. Disabling parallelism to avoid deadlocks...\n",
      "To disable this warning, you can either:\n",
      "\t- Avoid using `tokenizers` before the fork if possible\n",
      "\t- Explicitly set the environment variable TOKENIZERS_PARALLELISM=(true | false)\n",
      "./storage//tmp/added_10_core-js_0.0_172/best /data/all/data/zloirock/core-js\r\n"
     ]
    }
   ],
   "source": [
    "!echo $best_model_dir $repo "
   ]
  },
  {
   "cell_type": "code",
   "execution_count": null,
   "id": "6a82217b",
   "metadata": {},
   "outputs": [],
   "source": []
  },
  {
   "cell_type": "code",
   "execution_count": null,
   "id": "857787ac",
   "metadata": {},
   "outputs": [],
   "source": []
  }
 ],
 "metadata": {
  "kernelspec": {
   "display_name": "Python 3",
   "language": "python",
   "name": "python3"
  },
  "language_info": {
   "codemirror_mode": {
    "name": "ipython",
    "version": 3
   },
   "file_extension": ".py",
   "mimetype": "text/x-python",
   "name": "python",
   "nbconvert_exporter": "python",
   "pygments_lexer": "ipython3",
   "version": "3.8.5"
  }
 },
 "nbformat": 4,
 "nbformat_minor": 5
}
