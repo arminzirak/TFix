{
 "cells": [
  {
   "cell_type": "code",
   "execution_count": 72,
   "id": "dd866d51",
   "metadata": {},
   "outputs": [],
   "source": [
    "from datetime import datetime\n",
    "import argparse\n",
    "import os\n",
    "import sys\n",
    "\n",
    "sys.path.append(\".\")\n",
    "sys.path.append('./hf_transformers')\n",
    "\n",
    "from transformers import Seq2SeqTrainer\n",
    "from transformers import Seq2SeqTrainingArguments\n",
    "from transformers import T5Config\n",
    "from transformers import T5ForConditionalGeneration\n",
    "from transformers import T5Tokenizer\n",
    "from transformers import set_seed\n",
    "import torch\n",
    "\n",
    "from data_reader import GetDataAsPython\n",
    "from prepare_data import create_data\n",
    "from prepare_data import create_dataset\n",
    "from prepare_data import extract_warning_types\n",
    "from utils import boolean_string\n",
    "from utils import get_current_time\n"
   ]
  },
  {
   "cell_type": "code",
   "execution_count": 73,
   "id": "1f3d4a6a",
   "metadata": {},
   "outputs": [],
   "source": [
    "import numpy as np"
   ]
  },
  {
   "cell_type": "code",
   "execution_count": 74,
   "id": "2c98f280",
   "metadata": {},
   "outputs": [
    {
     "data": {
      "text/plain": [
       "device(type='cuda')"
      ]
     },
     "execution_count": 74,
     "metadata": {},
     "output_type": "execute_result"
    }
   ],
   "source": [
    "device = torch.device(\"cuda\" if torch.cuda.is_available() else \"cpu\")\n",
    "device"
   ]
  },
  {
   "cell_type": "code",
   "execution_count": 4,
   "id": "a03273b2",
   "metadata": {},
   "outputs": [],
   "source": [
    "from transformers import AutoTokenizer, AutoModel\n",
    "\n",
    "model = AutoModel.from_pretrained(\"microsoft/codebert-base\")\n",
    "model.to(device)\n",
    "\n",
    "tokenizer = AutoTokenizer.from_pretrained(\"microsoft/codebert-base\")"
   ]
  },
  {
   "cell_type": "code",
   "execution_count": 75,
   "id": "4f1e1123",
   "metadata": {},
   "outputs": [],
   "source": [
    "local = True\n",
    "\n",
    "model_name = 't5-small'#args.model_name\n",
    "\n",
    "if local:\n",
    "    storage_directory = './storage/'\n",
    "    pretrained_model = model_name\n",
    "else:\n",
    "    storage_directory = '/scratch/arminz/'\n",
    "    pretrained_model = f'{storage_directory}/pretrained/{model_name}'"
   ]
  },
  {
   "cell_type": "code",
   "execution_count": 76,
   "id": "2ef4d7ec",
   "metadata": {},
   "outputs": [],
   "source": [
    "data = GetDataAsPython(f\"{storage_directory}/data_and_models/data/data_autofix_tracking_repo_specific_final.json\")\n",
    "data_eslint = GetDataAsPython(f\"{storage_directory}/data_and_models/data/data_autofix_tracking_eslint_final.json\")"
   ]
  },
  {
   "cell_type": "code",
   "execution_count": 77,
   "id": "fa8ba5a9",
   "metadata": {},
   "outputs": [
    {
     "name": "stdout",
     "output_type": "stream",
     "text": [
      "['no-invalid-this', 'no-throw-literal', 'no-new-wrappers', 'guard-for-in', 'no-new-object', 'comma-style', 'prefer-spread', 'no-caller', 'no-extra-bind', 'no-array-constructor', 'prefer-rest-params', 'generator-star-spacing', 'no-this-before-super', 'no-extend-native', 'no-undef', 'no-useless-escape', 'no-dupe-keys', 'no-console', 'no-constant-condition', 'no-duplicate-case', 'no-empty', 'no-extra-semi', 'no-redeclare', 'no-cond-assign', 'no-extra-boolean-cast', 'no-fallthrough', 'no-unreachable', 'valid-typeof', 'no-unsafe-finally', 'no-unused-vars', 'no-debugger', 'no-unsafe-negation', 'no-case-declarations', 'no-self-assign', 'no-process-exit', 'no-inner-declarations', 'for-direction', 'no-compare-neg-zero', 'no-sparse-arrays', 'no-func-assign', 'no-const-assign', 'no-global-assign', 'use-isnan', 'no-unused-labels', 'require-yield', 'getter-return', 'no-dupe-class-members', 'no-ex-assign', 'constructor-super', 'no-new-symbol', 'no-empty-pattern', 'no-class-assign']\n",
      "splitting by : repo-based\n",
      "train size: 95109\n",
      "val size: 5033\n",
      "test size: 1262\n"
     ]
    }
   ],
   "source": [
    "data += data_eslint\n",
    "all_warning_types = extract_warning_types(data)\n",
    "# if args.error_type != \"\":\n",
    "#     all_warning_types = [args.error_type]\n",
    "print(all_warning_types)\n",
    "(\n",
    "    train_inputs,\n",
    "    train_labels,\n",
    "    val_inputs,\n",
    "    val_labels,\n",
    "    test_inputs,\n",
    "    test_labels,\n",
    "    train_info,\n",
    "    val_info,\n",
    "    test_info,\n",
    ") = create_data(data, all_warning_types, include_warning=True, design='repo-based')\n"
   ]
  },
  {
   "cell_type": "code",
   "execution_count": 14,
   "id": "0a807f39",
   "metadata": {},
   "outputs": [],
   "source": [
    "def code_to_vec(code):\n",
    "    code_tokens=tokenizer.tokenize(code)\n",
    "    tokens=[tokenizer.cls_token]+code_tokens+[tokenizer.sep_token]\n",
    "    tokens_ids=tokenizer.convert_tokens_to_ids(tokens)\n",
    "    context_embeddings=model(torch.tensor(tokens_ids).to(device)[None,:])[0]\n",
    "    return context_embeddings[0][0].cpu().detach().numpy()"
   ]
  },
  {
   "cell_type": "code",
   "execution_count": 15,
   "id": "4f6dae66",
   "metadata": {},
   "outputs": [],
   "source": [
    "def vec_distance(code1, code2):\n",
    "    return np.linalg.norm(code1 - code2)"
   ]
  },
  {
   "cell_type": "code",
   "execution_count": 16,
   "id": "f485b3d3",
   "metadata": {},
   "outputs": [],
   "source": [
    "sample1 = [data_point.source_code for data_point in train_info][0]\n",
    "sample2 = [data_point.source_code for data_point in train_info][1]"
   ]
  },
  {
   "cell_type": "code",
   "execution_count": 17,
   "id": "5fef2785",
   "metadata": {},
   "outputs": [
    {
     "data": {
      "text/plain": [
       "95109"
      ]
     },
     "execution_count": 17,
     "metadata": {},
     "output_type": "execute_result"
    }
   ],
   "source": [
    "len(train_info)"
   ]
  },
  {
   "cell_type": "code",
   "execution_count": 18,
   "id": "2f97e7a5",
   "metadata": {},
   "outputs": [],
   "source": [
    "arr = [(data_point.source_code, ind) for (ind, data_point) in enumerate(train_info)]"
   ]
  },
  {
   "cell_type": "code",
   "execution_count": 29,
   "id": "81840910",
   "metadata": {},
   "outputs": [
    {
     "name": "stdout",
     "output_type": "stream",
     "text": [
      "CPU times: user 16min 9s, sys: 457 ms, total: 16min 9s\n",
      "Wall time: 16min 9s\n"
     ]
    }
   ],
   "source": [
    "%%time\n",
    "vecs = [(code_to_vec(code), ind) for (code, ind) in arr]"
   ]
  },
  {
   "cell_type": "code",
   "execution_count": 20,
   "id": "6ddaab90",
   "metadata": {},
   "outputs": [
    {
     "data": {
      "text/plain": [
       "0.26419166666666666"
      ]
     },
     "execution_count": 20,
     "metadata": {},
     "output_type": "execute_result"
    }
   ],
   "source": [
    "((len(train_info) / 1000) * 10) / 3600"
   ]
  },
  {
   "cell_type": "code",
   "execution_count": 31,
   "id": "cd861233",
   "metadata": {},
   "outputs": [
    {
     "data": {
      "text/plain": [
       "95109"
      ]
     },
     "execution_count": 31,
     "metadata": {},
     "output_type": "execute_result"
    }
   ],
   "source": [
    "len(vecs)"
   ]
  },
  {
   "cell_type": "code",
   "execution_count": 67,
   "id": "c815d4c8",
   "metadata": {},
   "outputs": [
    {
     "name": "stdout",
     "output_type": "stream",
     "text": [
      "93848 0.99134284 56959 10.311465 8 7\n"
     ]
    }
   ],
   "source": [
    "min_distance = 5\n",
    "max_distance = -5\n",
    "\n",
    "vec_sample1 = code_to_vec(sample1)\n",
    "vec_sample2 = code_to_vec(sample2)\n",
    "\n",
    "for vec1 in vecs[:50]:\n",
    "    this_vec = vec1[0]\n",
    "    for vec in vecs:\n",
    "        if (vec[0] == vec1[0]).all() or (train_info[vec[1]].repo == train_info[vec1[1]].repo):\n",
    "            continue\n",
    "        if vec_distance(this_vec, vec[0]) < min_distance:\n",
    "            closest_code = vec[1]\n",
    "            closest_this = vec1[1]\n",
    "            min_distance = vec_distance(this_vec, vec[0])\n",
    "        if vec_distance(this_vec, vec[0]) > max_distance:\n",
    "            furthest_code = vec[1]\n",
    "            furthest_this = vec1[1]\n",
    "            max_distance = vec_distance(this_vec, vec[0])\n",
    "print(closest_code, min_distance, furthest_code, max_distance, closest_this, furthest_this)"
   ]
  },
  {
   "cell_type": "code",
   "execution_count": 68,
   "id": "90ff665f",
   "metadata": {},
   "outputs": [
    {
     "data": {
      "text/plain": [
       "('\\n\\tthis.start = function*() {\\n\\t\\treturn true;\\n',\n",
       " '/data/all/data/Coonti/Coonti')"
      ]
     },
     "execution_count": 68,
     "metadata": {},
     "output_type": "execute_result"
    }
   ],
   "source": [
    "train_info[closest_code].source_code, train_info[closest_code].repo"
   ]
  },
  {
   "cell_type": "code",
   "execution_count": 69,
   "id": "e8bfd8bc",
   "metadata": {},
   "outputs": [
    {
     "data": {
      "text/plain": [
       "('\\t\\t\\n\\t\\tthis.prototype.hello = function (){\\n\\t\\t\\treturn true;\\n',\n",
       " '/data/all/data/imba/imba')"
      ]
     },
     "execution_count": 69,
     "metadata": {},
     "output_type": "execute_result"
    }
   ],
   "source": [
    "train_info[closest_this].source_code, train_info[closest_this].repo"
   ]
  },
  {
   "cell_type": "code",
   "execution_count": 70,
   "id": "47cfd24c",
   "metadata": {},
   "outputs": [
    {
     "data": {
      "text/plain": [
       "'{}\\n'"
      ]
     },
     "execution_count": 70,
     "metadata": {},
     "output_type": "execute_result"
    }
   ],
   "source": [
    "train_info[furthest_code].source_code"
   ]
  },
  {
   "cell_type": "code",
   "execution_count": 71,
   "id": "cacd5c9d",
   "metadata": {},
   "outputs": [
    {
     "data": {
      "text/plain": [
       "\"        attachDatePickerEvents = function () {\\n            var self = this, $this, $parent, expanded, closed, collapseData;\\n            picker.widget.on('click', '.datepicker *', $.proxy(click, this)); \\n\""
      ]
     },
     "execution_count": 71,
     "metadata": {},
     "output_type": "execute_result"
    }
   ],
   "source": [
    "train_info[furthest_this].source_code"
   ]
  },
  {
   "cell_type": "code",
   "execution_count": 43,
   "id": "e092aa4b",
   "metadata": {},
   "outputs": [],
   "source": [
    "# Curriculum Learning for Domain Adaptation\n",
    "# in Neural Machine Translation"
   ]
  },
  {
   "cell_type": "code",
   "execution_count": 45,
   "id": "92650b75",
   "metadata": {},
   "outputs": [
    {
     "data": {
      "text/plain": [
       "['Ġ',\n",
       " 'Ġ',\n",
       " 'Ċ',\n",
       " 'Ġ',\n",
       " 'Ġ',\n",
       " 'Ġ',\n",
       " 'Ġ',\n",
       " 'Ġ',\n",
       " 'Ġ',\n",
       " 'Ġ',\n",
       " 'Ġ',\n",
       " 'Ġ',\n",
       " 'Ġ',\n",
       " 'Ġ',\n",
       " 'Ġ',\n",
       " 'Ġ',\n",
       " 'Ġ',\n",
       " 'Ġ',\n",
       " 'Ġ',\n",
       " 'Ġ',\n",
       " 'Ġ}',\n",
       " 'Ġelse',\n",
       " 'Ġ{',\n",
       " 'Ċ',\n",
       " 'Ġ',\n",
       " 'Ġ',\n",
       " 'Ġ',\n",
       " 'Ġ',\n",
       " 'Ġ',\n",
       " 'Ġ',\n",
       " 'Ġ',\n",
       " 'Ġ',\n",
       " 'Ġ',\n",
       " 'Ġ',\n",
       " 'Ġ',\n",
       " 'Ġ',\n",
       " 'Ġ',\n",
       " 'Ġ',\n",
       " 'Ġ',\n",
       " 'Ġ',\n",
       " 'Ġ',\n",
       " 'Ġ',\n",
       " 'Ġ',\n",
       " 'Ġ',\n",
       " 'Ġ',\n",
       " 'Ġ',\n",
       " 'Ġ',\n",
       " 'Ġu',\n",
       " 'i',\n",
       " 'Fun',\n",
       " 'ctions',\n",
       " '.',\n",
       " 'complete',\n",
       " 'Action',\n",
       " '($',\n",
       " '(',\n",
       " 'this',\n",
       " '),',\n",
       " 'Ġaction',\n",
       " ');',\n",
       " 'Ċ',\n",
       " 'Ġ',\n",
       " 'Ġ',\n",
       " 'Ġ',\n",
       " 'Ġ',\n",
       " 'Ġ',\n",
       " 'Ġ',\n",
       " 'Ġ',\n",
       " 'Ġ',\n",
       " 'Ġ',\n",
       " 'Ġ',\n",
       " 'Ġ',\n",
       " 'Ġ',\n",
       " 'Ġ',\n",
       " 'Ġ',\n",
       " 'Ġ',\n",
       " 'Ġ',\n",
       " 'Ġ',\n",
       " 'Ġ',\n",
       " 'Ġ',\n",
       " 'Ġ}',\n",
       " 'Ċ']"
      ]
     },
     "execution_count": 45,
     "metadata": {},
     "output_type": "execute_result"
    }
   ],
   "source": [
    "tokenizer.tokenize('                    } else {\\n                        uiFunctions.completeAction($(this), action);\\n                    }\\n')"
   ]
  }
 ],
 "metadata": {
  "kernelspec": {
   "display_name": "Python 3",
   "language": "python",
   "name": "python3"
  },
  "language_info": {
   "codemirror_mode": {
    "name": "ipython",
    "version": 3
   },
   "file_extension": ".py",
   "mimetype": "text/x-python",
   "name": "python",
   "nbconvert_exporter": "python",
   "pygments_lexer": "ipython3",
   "version": "3.8.5"
  }
 },
 "nbformat": 4,
 "nbformat_minor": 5
}
