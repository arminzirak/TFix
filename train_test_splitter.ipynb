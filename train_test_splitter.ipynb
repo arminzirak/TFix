{
 "cells": [
  {
   "cell_type": "code",
   "execution_count": 1,
   "id": "8d3a5331",
   "metadata": {},
   "outputs": [],
   "source": [
    "import pandas as pd\n",
    "from collections import Counter\n",
    "from data_reader import GetDataAsPython\n",
    "\n",
    "storage_directory = './storage/'\n",
    "data = GetDataAsPython(f\"{storage_directory}/data_and_models/data/data_autofix_tracking_repo_specific_final.json\")\n",
    "data_eslint = GetDataAsPython(f\"{storage_directory}/data_and_models/data/data_autofix_tracking_eslint_final.json\")"
   ]
  },
  {
   "cell_type": "code",
   "execution_count": 2,
   "id": "b1edec00",
   "metadata": {},
   "outputs": [],
   "source": [
    "repos = Counter([item.repo for item in data])\n",
    "sorted_repos = sorted(repos.items(), key=lambda d: d[1], reverse=True)"
   ]
  },
  {
   "cell_type": "code",
   "execution_count": 3,
   "id": "a7683022",
   "metadata": {},
   "outputs": [
    {
     "data": {
      "text/plain": [
       "[('/data/all/data/oroinc/platform', 196),\n",
       " ('/data/all/data/Encapsule-Annex/onm', 191),\n",
       " ('/data/all/data/cscheid/lux', 185),\n",
       " ('/data/all/data/emberjs/ember.js', 168),\n",
       " ('/data/all/data/zloirock/core-js', 168),\n",
       " ('/data/all/data/dcos/dcos-ui', 145),\n",
       " ('/data/all/data/appium/appium', 141),\n",
       " ('/data/all/data/sequelize/sequelize', 137),\n",
       " ('/data/all/data/svgdotjs/svg.js', 134),\n",
       " ('/data/all/data/openlayers/openlayers', 126)]"
      ]
     },
     "execution_count": 3,
     "metadata": {},
     "output_type": "execute_result"
    }
   ],
   "source": [
    "sorted_repos[:10]"
   ]
  },
  {
   "cell_type": "code",
   "execution_count": 4,
   "id": "3bf71263",
   "metadata": {},
   "outputs": [
    {
     "data": {
      "text/plain": [
       "(10884, 42171)"
      ]
     },
     "execution_count": 4,
     "metadata": {},
     "output_type": "execute_result"
    }
   ],
   "source": [
    "len(sorted_repos), sum([value for key,value in sorted_repos])"
   ]
  },
  {
   "cell_type": "code",
   "execution_count": 5,
   "id": "0b7a489b",
   "metadata": {},
   "outputs": [],
   "source": [
    "import matplotlib.pyplot as plt"
   ]
  },
  {
   "cell_type": "code",
   "execution_count": 6,
   "id": "e2f598a9",
   "metadata": {},
   "outputs": [
    {
     "data": {
      "text/plain": [
       "(array([8., 6., 3., 3., 2., 3., 0., 2., 0., 3.]),\n",
       " array([ 74. ,  86.2,  98.4, 110.6, 122.8, 135. , 147.2, 159.4, 171.6,\n",
       "        183.8, 196. ]),\n",
       " <BarContainer object of 10 artists>)"
      ]
     },
     "execution_count": 6,
     "metadata": {},
     "output_type": "execute_result"
    },
    {
     "data": {
      "image/png": "[encoded data removed]",
      "text/plain": [
       "<Figure size 432x288 with 1 Axes>"
      ]
     },
     "metadata": {
      "needs_background": "light"
     },
     "output_type": "display_data"
    }
   ],
   "source": [
    "plt.hist([value for key,value in sorted_repos][:30])"
   ]
  },
  {
   "cell_type": "code",
   "execution_count": 7,
   "id": "85d21710",
   "metadata": {},
   "outputs": [
    {
     "data": {
      "text/plain": [
       "[('/data/all/data/oroinc/platform', 196),\n",
       " ('/data/all/data/Encapsule-Annex/onm', 191),\n",
       " ('/data/all/data/cscheid/lux', 185),\n",
       " ('/data/all/data/emberjs/ember.js', 168),\n",
       " ('/data/all/data/zloirock/core-js', 168),\n",
       " ('/data/all/data/dcos/dcos-ui', 145),\n",
       " ('/data/all/data/appium/appium', 141),\n",
       " ('/data/all/data/sequelize/sequelize', 137),\n",
       " ('/data/all/data/svgdotjs/svg.js', 134),\n",
       " ('/data/all/data/openlayers/openlayers', 126),\n",
       " ('/data/all/data/graalvm/graaljs', 118),\n",
       " ('/data/all/data/qooxdoo/qooxdoo', 117),\n",
       " ('/data/all/data/saitoha/tanasinn', 112),\n",
       " ('/data/all/data/SnakeskinTpl/Snakeskin', 109),\n",
       " ('/data/all/data/byteball/ocore', 103),\n",
       " ('/data/all/data/medikoo/es5-ext', 102),\n",
       " ('/data/all/data/jquense/react-widgets', 97),\n",
       " ('/data/all/data/mongodb/node-mongodb-native', 96),\n",
       " ('/data/all/data/eclipse/scout.rt', 90),\n",
       " ('/data/all/data/handshake-org/hsd', 89),\n",
       " ('/data/all/data/girder/girder', 88),\n",
       " ('/data/all/data/wsick/Fayde', 88),\n",
       " ('/data/all/data/winderica/KanColleSource', 86),\n",
       " ('/data/all/data/eclipse/orion.client', 84),\n",
       " ('/data/all/data/kuzzleio/kuzzle', 80),\n",
       " ('/data/all/data/request/request', 80)]"
      ]
     },
     "execution_count": 7,
     "metadata": {},
     "output_type": "execute_result"
    }
   ],
   "source": [
    "sorted_repos[:26]"
   ]
  },
  {
   "cell_type": "code",
   "execution_count": 8,
   "id": "99892a6a",
   "metadata": {},
   "outputs": [
    {
     "data": {
      "text/plain": [
       "([('/data/all/data/oroinc/platform', 196),\n",
       "  ('/data/all/data/emberjs/ember.js', 168),\n",
       "  ('/data/all/data/appium/appium', 141),\n",
       "  ('/data/all/data/openlayers/openlayers', 126),\n",
       "  ('/data/all/data/saitoha/tanasinn', 112),\n",
       "  ('/data/all/data/medikoo/es5-ext', 102),\n",
       "  ('/data/all/data/eclipse/scout.rt', 90),\n",
       "  ('/data/all/data/wsick/Fayde', 88),\n",
       "  ('/data/all/data/kuzzleio/kuzzle', 80)],\n",
       " 9,\n",
       " 1103)"
      ]
     },
     "execution_count": 8,
     "metadata": {},
     "output_type": "execute_result"
    }
   ],
   "source": [
    "target_big = sorted_repos[:26:3]\n",
    "target_big, len(target_big), sum([value for key,value in target_big])"
   ]
  },
  {
   "cell_type": "code",
   "execution_count": 9,
   "id": "f7feb3fe",
   "metadata": {},
   "outputs": [
    {
     "data": {
      "text/plain": [
       "([('/data/all/data/Encapsule-Annex/onm', 191),\n",
       "  ('/data/all/data/cscheid/lux', 185),\n",
       "  ('/data/all/data/zloirock/core-js', 168)],\n",
       " 17,\n",
       " 2027)"
      ]
     },
     "execution_count": 9,
     "metadata": {},
     "output_type": "execute_result"
    }
   ],
   "source": [
    "source_big = [item for item in sorted_repos[:26] if item not in target_big]\n",
    "source_big[:3], len(source_big), sum([value for key,value in source_big])"
   ]
  },
  {
   "cell_type": "code",
   "execution_count": 10,
   "id": "2e93bbd6",
   "metadata": {},
   "outputs": [
    {
     "data": {
      "text/plain": [
       "([('/data/all/data/rancher/ui', 77), ('/data/all/data/milojs/milo', 71)],\n",
       " 1552,\n",
       " 5607)"
      ]
     },
     "execution_count": 10,
     "metadata": {},
     "output_type": "execute_result"
    }
   ],
   "source": [
    "target_small = sorted_repos[26::7]\n",
    "target_small[:2], len(target_small), sum([value for key,value in target_small])"
   ]
  },
  {
   "cell_type": "code",
   "execution_count": 11,
   "id": "bfa7d76f",
   "metadata": {},
   "outputs": [
    {
     "data": {
      "text/plain": [
       "([('/data/all/data/openstf/stf', 76),\n",
       "  ('/data/all/data/Vincit/objection.js', 75),\n",
       "  ('/data/all/data/wikimedia/mediawiki-extensions-VisualEditor', 74)],\n",
       " 9306,\n",
       " 33434)"
      ]
     },
     "execution_count": 11,
     "metadata": {},
     "output_type": "execute_result"
    }
   ],
   "source": [
    "source_small = [item for item in sorted_repos[26:] if item not in target_small]\n",
    "source_small[:3], len(source_small), sum([value for key,value in source_small])"
   ]
  },
  {
   "cell_type": "code",
   "execution_count": 12,
   "id": "7216d0ef",
   "metadata": {},
   "outputs": [
    {
     "data": {
      "text/html": [
       "<div>\n",
       "<style scoped>\n",
       "    .dataframe tbody tr th:only-of-type {\n",
       "        vertical-align: middle;\n",
       "    }\n",
       "\n",
       "    .dataframe tbody tr th {\n",
       "        vertical-align: top;\n",
       "    }\n",
       "\n",
       "    .dataframe thead th {\n",
       "        text-align: right;\n",
       "    }\n",
       "</style>\n",
       "<table border=\"1\" class=\"dataframe\">\n",
       "  <thead>\n",
       "    <tr style=\"text-align: right;\">\n",
       "      <th></th>\n",
       "      <th>repo</th>\n",
       "      <th>samples</th>\n",
       "      <th>category</th>\n",
       "      <th>size</th>\n",
       "    </tr>\n",
       "  </thead>\n",
       "  <tbody>\n",
       "    <tr>\n",
       "      <th>0</th>\n",
       "      <td>/data/all/data/openstf/stf</td>\n",
       "      <td>76</td>\n",
       "      <td>source</td>\n",
       "      <td>small</td>\n",
       "    </tr>\n",
       "  </tbody>\n",
       "</table>\n",
       "</div>"
      ],
      "text/plain": [
       "                         repo  samples category   size\n",
       "0  /data/all/data/openstf/stf       76   source  small"
      ]
     },
     "execution_count": 12,
     "metadata": {},
     "output_type": "execute_result"
    }
   ],
   "source": [
    "source_small_df = pd.DataFrame(source_small, columns=['repo', 'samples'])\n",
    "source_small_df['category'] = 'source'\n",
    "source_small_df['size'] = 'small'\n",
    "source_big_df = pd.DataFrame(source_big, columns=['repo', 'samples'])\n",
    "source_big_df['category'] = 'source'\n",
    "source_big_df['size'] = 'big'\n",
    "target_small_df = pd.DataFrame(target_small, columns=['repo', 'samples'])\n",
    "target_small_df['category'] = 'target'\n",
    "target_small_df['size'] = 'small'\n",
    "target_big_df = pd.DataFrame(target_big, columns=['repo', 'samples'])\n",
    "target_big_df['category'] = 'target'\n",
    "target_big_df['size'] = 'big'\n",
    "\n",
    "repos_df = pd.concat([source_small_df, source_big_df, target_small_df, target_big_df], ignore_index=True)\n",
    "repos_df.head(1)"
   ]
  },
  {
   "cell_type": "code",
   "execution_count": 13,
   "id": "b5199d0d",
   "metadata": {},
   "outputs": [],
   "source": [
    "repos_df.to_csv('./repos_3.csv')"
   ]
  },
  {
   "cell_type": "code",
   "execution_count": null,
   "id": "5affa1a1",
   "metadata": {},
   "outputs": [],
   "source": []
  },
  {
   "cell_type": "code",
   "execution_count": null,
   "id": "3290d3ee",
   "metadata": {},
   "outputs": [],
   "source": []
  }
 ],
 "metadata": {
  "kernelspec": {
   "display_name": "Python 3",
   "language": "python",
   "name": "python3"
  },
  "language_info": {
   "codemirror_mode": {
    "name": "ipython",
    "version": 3
   },
   "file_extension": ".py",
   "mimetype": "text/x-python",
   "name": "python",
   "nbconvert_exporter": "python",
   "pygments_lexer": "ipython3",
   "version": "3.8.5"
  }
 },
 "nbformat": 4,
 "nbformat_minor": 5
}
