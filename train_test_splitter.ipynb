{
 "cells": [
  {
   "cell_type": "code",
   "execution_count": 1,
   "id": "196c1f51",
   "metadata": {},
   "outputs": [],
   "source": [
    "import pandas as pd\n",
    "from collections import Counter\n",
    "from data_reader import GetDataAsPython\n",
    "\n",
    "storage_directory = './storage/'\n",
    "data = GetDataAsPython(f\"{storage_directory}/data_and_models/data/data_autofix_tracking_repo_specific_final.json\")\n",
    "data_eslint = GetDataAsPython(f\"{storage_directory}/data_and_models/data/data_autofix_tracking_eslint_final.json\")\n",
    "data+=data_eslint"
   ]
  },
  {
   "cell_type": "code",
   "execution_count": 2,
   "id": "7a5f51bf",
   "metadata": {},
   "outputs": [],
   "source": [
    "repos = Counter([item.repo for item in data])\n",
    "sorted_repos = sorted(repos.items(), key=lambda d: d[1], reverse=True)"
   ]
  },
  {
   "cell_type": "code",
   "execution_count": 3,
   "id": "55c97338",
   "metadata": {},
   "outputs": [
    {
     "name": "stdout",
     "output_type": "stream",
     "text": [
      "[('/data/all/data/qooxdoo/qooxdoo', 547), ('/data/all/data/ElevenGiants/eleven-gsjs', 254), ('/data/all/data/openlayers/openlayers', 236), ('/data/all/data/elastic/kibana', 231), ('/data/all/data/SAP/openui5', 227), ('/data/all/data/graalvm/graaljs', 220), ('/data/all/data/emberjs/ember.js', 218), ('/data/all/data/oroinc/platform', 216), ('/data/all/data/oskariorg/oskari-frontend', 201), ('/data/all/data/zloirock/core-js', 201)]\n"
     ]
    }
   ],
   "source": [
    "print(sorted_repos[:10])"
   ]
  },
  {
   "cell_type": "code",
   "execution_count": 4,
   "id": "fc3a0323",
   "metadata": {},
   "outputs": [
    {
     "name": "stdout",
     "output_type": "stream",
     "text": [
      "23285 104804\n"
     ]
    }
   ],
   "source": [
    "print(len(sorted_repos), sum([value for key,value in sorted_repos]))"
   ]
  },
  {
   "cell_type": "code",
   "execution_count": 5,
   "id": "a2ddf7d8",
   "metadata": {},
   "outputs": [],
   "source": [
    "import matplotlib.pyplot as plt"
   ]
  },
  {
   "cell_type": "code",
   "execution_count": 7,
   "id": "dd555d30",
   "metadata": {},
   "outputs": [
    {
     "data": {
      "text/plain": [
       "(array([9.822e+03, 1.370e+02, 2.200e+01, 1.300e+01, 5.000e+00, 0.000e+00,\n",
       "        0.000e+00, 0.000e+00, 0.000e+00, 1.000e+00]),\n",
       " array([  2. ,  56.5, 111. , 165.5, 220. , 274.5, 329. , 383.5, 438. ,\n",
       "        492.5, 547. ]),\n",
       " <BarContainer object of 10 artists>)"
      ]
     },
     "execution_count": 7,
     "metadata": {},
     "output_type": "execute_result"
    },
    {
     "data": {
      "image/png": "[encoded data removed]",
      "text/plain": [
       "<Figure size 432x288 with 1 Axes>"
      ]
     },
     "metadata": {
      "needs_background": "light"
     },
     "output_type": "display_data"
    }
   ],
   "source": [
    "plt.hist([value for key,value in sorted_repos][:10*1000])"
   ]
  },
  {
   "cell_type": "code",
   "execution_count": 8,
   "id": "1af36105",
   "metadata": {},
   "outputs": [
    {
     "name": "stdout",
     "output_type": "stream",
     "text": [
      "[('/data/all/data/qooxdoo/qooxdoo', 547), ('/data/all/data/ElevenGiants/eleven-gsjs', 254), ('/data/all/data/openlayers/openlayers', 236), ('/data/all/data/elastic/kibana', 231), ('/data/all/data/SAP/openui5', 227), ('/data/all/data/graalvm/graaljs', 220), ('/data/all/data/emberjs/ember.js', 218), ('/data/all/data/oroinc/platform', 216), ('/data/all/data/oskariorg/oskari-frontend', 201), ('/data/all/data/zloirock/core-js', 201), ('/data/all/data/cscheid/lux', 198), ('/data/all/data/handshake-org/hsd', 196), ('/data/all/data/Encapsule-Annex/onm', 194), ('/data/all/data/NPellet/visualizer', 192), ('/data/all/data/quailjs/quail', 182), ('/data/all/data/sequelize/sequelize', 180), ('/data/all/data/mrdoob/three.js', 173), ('/data/all/data/eclipse/orion.client', 170), ('/data/all/data/dcos/dcos-ui', 166), ('/data/all/data/binaryage/dirac', 165), ('/data/all/data/eclipse/scout.rt', 162), ('/data/all/data/LivelyKernel/LivelyKernel', 159), ('/data/all/data/appium/appium', 155), ('/data/all/data/tc39/test262', 154), ('/data/all/data/svgdotjs/svg.js', 149), ('/data/all/data/mongodb/node-mongodb-native', 145), ('/data/all/data/angular/angular.js', 138), ('/data/all/data/foam-framework/foam', 135), ('/data/all/data/rancher/ui', 135), ('/data/all/data/SnakeskinTpl/Snakeskin', 134)]\n"
     ]
    }
   ],
   "source": [
    "print(sorted_repos[:30])"
   ]
  },
  {
   "cell_type": "code",
   "execution_count": 9,
   "id": "94850a57",
   "metadata": {},
   "outputs": [
    {
     "name": "stdout",
     "output_type": "stream",
     "text": [
      "[('/data/all/data/qooxdoo/qooxdoo', 547), ('/data/all/data/elastic/kibana', 231), ('/data/all/data/emberjs/ember.js', 218), ('/data/all/data/zloirock/core-js', 201), ('/data/all/data/Encapsule-Annex/onm', 194), ('/data/all/data/sequelize/sequelize', 180), ('/data/all/data/dcos/dcos-ui', 166), ('/data/all/data/LivelyKernel/LivelyKernel', 159), ('/data/all/data/svgdotjs/svg.js', 149), ('/data/all/data/foam-framework/foam', 135)] 10 2180\n"
     ]
    }
   ],
   "source": [
    "target_big = sorted_repos[:30:3]\n",
    "print(target_big, len(target_big), sum([value for key,value in target_big]))"
   ]
  },
  {
   "cell_type": "code",
   "execution_count": 10,
   "id": "92c41c67",
   "metadata": {},
   "outputs": [
    {
     "name": "stdout",
     "output_type": "stream",
     "text": [
      "[('/data/all/data/ElevenGiants/eleven-gsjs', 254), ('/data/all/data/openlayers/openlayers', 236), ('/data/all/data/SAP/openui5', 227)] 20 3653\n"
     ]
    }
   ],
   "source": [
    "source_big = [item for item in sorted_repos[:30] if item not in target_big]\n",
    "print(source_big[:3], len(source_big), sum([value for key,value in source_big]))"
   ]
  },
  {
   "cell_type": "code",
   "execution_count": 11,
   "id": "3f9f8b9c",
   "metadata": {},
   "outputs": [
    {
     "name": "stdout",
     "output_type": "stream",
     "text": [
      "[('/data/all/data/dojo/dojox-oldmirror', 125), ('/data/all/data/infernojs/inferno', 116)] 3323 14197\n"
     ]
    }
   ],
   "source": [
    "target_small = sorted_repos[30::7]\n",
    "print(target_small[:2], len(target_small), sum([value for key,value in target_small]))"
   ]
  },
  {
   "cell_type": "code",
   "execution_count": 12,
   "id": "b944208f",
   "metadata": {},
   "outputs": [
    {
     "name": "stdout",
     "output_type": "stream",
     "text": [
      "[('/data/all/data/basisjs/basisjs', 124), ('/data/all/data/meteor/meteor', 123), ('/data/all/data/mozilla-b2g/gaia', 120)] 19932 84774\n"
     ]
    }
   ],
   "source": [
    "source_small = [item for item in sorted_repos[30:] if item not in target_small]\n",
    "print(source_small[:3], len(source_small), sum([value for key,value in source_small]))"
   ]
  },
  {
   "cell_type": "code",
   "execution_count": 13,
   "id": "37336160",
   "metadata": {},
   "outputs": [
    {
     "data": {
      "text/html": [
       "<div>\n",
       "<style scoped>\n",
       "    .dataframe tbody tr th:only-of-type {\n",
       "        vertical-align: middle;\n",
       "    }\n",
       "\n",
       "    .dataframe tbody tr th {\n",
       "        vertical-align: top;\n",
       "    }\n",
       "\n",
       "    .dataframe thead th {\n",
       "        text-align: right;\n",
       "    }\n",
       "</style>\n",
       "<table border=\"1\" class=\"dataframe\">\n",
       "  <thead>\n",
       "    <tr style=\"text-align: right;\">\n",
       "      <th></th>\n",
       "      <th>repo</th>\n",
       "      <th>samples</th>\n",
       "      <th>category</th>\n",
       "      <th>size</th>\n",
       "    </tr>\n",
       "  </thead>\n",
       "  <tbody>\n",
       "    <tr>\n",
       "      <th>0</th>\n",
       "      <td>/data/all/data/basisjs/basisjs</td>\n",
       "      <td>124</td>\n",
       "      <td>source</td>\n",
       "      <td>small</td>\n",
       "    </tr>\n",
       "  </tbody>\n",
       "</table>\n",
       "</div>"
      ],
      "text/plain": [
       "                             repo  samples category   size\n",
       "0  /data/all/data/basisjs/basisjs      124   source  small"
      ]
     },
     "execution_count": 13,
     "metadata": {},
     "output_type": "execute_result"
    }
   ],
   "source": [
    "source_small_df = pd.DataFrame(source_small, columns=['repo', 'samples'])\n",
    "source_small_df['category'] = 'source'\n",
    "source_small_df['size'] = 'small'\n",
    "source_big_df = pd.DataFrame(source_big, columns=['repo', 'samples'])\n",
    "source_big_df['category'] = 'source'\n",
    "source_big_df['size'] = 'big'\n",
    "target_small_df = pd.DataFrame(target_small, columns=['repo', 'samples'])\n",
    "target_small_df['category'] = 'target'\n",
    "target_small_df['size'] = 'small'\n",
    "target_big_df = pd.DataFrame(target_big, columns=['repo', 'samples'])\n",
    "target_big_df['category'] = 'target'\n",
    "target_big_df['size'] = 'big'\n",
    "\n",
    "repos_df = pd.concat([source_small_df, source_big_df, target_small_df, target_big_df], ignore_index=True)\n",
    "repos_df.head(1)"
   ]
  },
  {
   "cell_type": "code",
   "execution_count": 14,
   "id": "fd3568e2",
   "metadata": {},
   "outputs": [],
   "source": [
    "repos_df.to_csv('./repos_3.csv')"
   ]
  },
  {
   "cell_type": "code",
   "execution_count": null,
   "id": "d5704ead",
   "metadata": {},
   "outputs": [],
   "source": []
  },
  {
   "cell_type": "code",
   "execution_count": null,
   "id": "99b0d4f1",
   "metadata": {},
   "outputs": [],
   "source": []
  },
  {
   "cell_type": "code",
   "execution_count": null,
   "id": "e8a9f15c",
   "metadata": {},
   "outputs": [],
   "source": []
  },
  {
   "cell_type": "code",
   "execution_count": null,
   "id": "13898fa4",
   "metadata": {},
   "outputs": [],
   "source": []
  }
 ],
 "metadata": {
  "kernelspec": {
   "display_name": "Python 3",
   "language": "python",
   "name": "python3"
  },
  "language_info": {
   "codemirror_mode": {
    "name": "ipython",
    "version": 3
   },
   "file_extension": ".py",
   "mimetype": "text/x-python",
   "name": "python",
   "nbconvert_exporter": "python",
   "pygments_lexer": "ipython3",
   "version": "3.8.5"
  }
 },
 "nbformat": 4,
 "nbformat_minor": 5
}
