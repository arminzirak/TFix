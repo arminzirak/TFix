{
 "cells": [
  {
   "cell_type": "code",
   "execution_count": 1,
   "id": "3457da68",
   "metadata": {},
   "outputs": [],
   "source": [
    "import pandas as pd"
   ]
  },
  {
   "cell_type": "code",
   "execution_count": 2,
   "id": "4845eec1",
   "metadata": {},
   "outputs": [],
   "source": [
    "large = True"
   ]
  },
  {
   "cell_type": "code",
   "execution_count": 8,
   "id": "1d3551f8",
   "metadata": {},
   "outputs": [
    {
     "data": {
      "text/html": [
       "<div>\n",
       "<style scoped>\n",
       "    .dataframe tbody tr th:only-of-type {\n",
       "        vertical-align: middle;\n",
       "    }\n",
       "\n",
       "    .dataframe tbody tr th {\n",
       "        vertical-align: top;\n",
       "    }\n",
       "\n",
       "    .dataframe thead th {\n",
       "        text-align: right;\n",
       "    }\n",
       "</style>\n",
       "<table border=\"1\" class=\"dataframe\">\n",
       "  <thead>\n",
       "    <tr style=\"text-align: right;\">\n",
       "      <th></th>\n",
       "      <th>name</th>\n",
       "      <th>repo</th>\n",
       "      <th>acc</th>\n",
       "      <th>#w</th>\n",
       "      <th>samples</th>\n",
       "      <th>time</th>\n",
       "      <th>model</th>\n",
       "      <th>model_address</th>\n",
       "      <th>split</th>\n",
       "    </tr>\n",
       "  </thead>\n",
       "  <tbody>\n",
       "    <tr>\n",
       "      <th>50</th>\n",
       "      <td>normal</td>\n",
       "      <td>/data/all/data/foam-framework/foam</td>\n",
       "      <td>0.3</td>\n",
       "      <td>13</td>\n",
       "      <td>33</td>\n",
       "      <td>12-04-2022_16-04-38</td>\n",
       "      <td>t5-large</td>\n",
       "      <td>/scratch/arminz//tmp/ft1_540_foam_0_1/best/</td>\n",
       "      <td>NaN</td>\n",
       "    </tr>\n",
       "  </tbody>\n",
       "</table>\n",
       "</div>"
      ],
      "text/plain": [
       "      name                                repo  acc  #w  samples  \\\n",
       "50  normal  /data/all/data/foam-framework/foam  0.3  13       33   \n",
       "\n",
       "                   time     model  \\\n",
       "50  12-04-2022_16-04-38  t5-large   \n",
       "\n",
       "                                  model_address split  \n",
       "50  /scratch/arminz//tmp/ft1_540_foam_0_1/best/   NaN  "
      ]
     },
     "execution_count": 8,
     "metadata": {},
     "output_type": "execute_result"
    }
   ],
   "source": [
    "results = pd.read_csv('./results_large.csv' if large else './results.csv', names=['name', 'repo', 'acc', '#w', 'samples', 'time', 'model', 'model_address', 'split'])\n",
    "results.tail(1)"
   ]
  },
  {
   "cell_type": "code",
   "execution_count": 9,
   "id": "5a2a95d4",
   "metadata": {},
   "outputs": [],
   "source": [
    "results['type'] = results['model_address'].apply(lambda s: 'finetuned' if 'finetuned' in s else 'included' if 'included' in s else 'ft' if 'ft' in s else 'excluded')"
   ]
  },
  {
   "cell_type": "code",
   "execution_count": 10,
   "id": "7434efa0",
   "metadata": {},
   "outputs": [
    {
     "data": {
      "text/html": [
       "<div>\n",
       "<style scoped>\n",
       "    .dataframe tbody tr th:only-of-type {\n",
       "        vertical-align: middle;\n",
       "    }\n",
       "\n",
       "    .dataframe tbody tr th {\n",
       "        vertical-align: top;\n",
       "    }\n",
       "\n",
       "    .dataframe thead th {\n",
       "        text-align: right;\n",
       "    }\n",
       "</style>\n",
       "<table border=\"1\" class=\"dataframe\">\n",
       "  <thead>\n",
       "    <tr style=\"text-align: right;\">\n",
       "      <th></th>\n",
       "      <th>name</th>\n",
       "      <th>repo</th>\n",
       "      <th>acc</th>\n",
       "      <th>#w</th>\n",
       "      <th>samples</th>\n",
       "      <th>time</th>\n",
       "      <th>model</th>\n",
       "      <th>model_address</th>\n",
       "      <th>split</th>\n",
       "      <th>type</th>\n",
       "    </tr>\n",
       "  </thead>\n",
       "  <tbody>\n",
       "    <tr>\n",
       "      <th>48</th>\n",
       "      <td>normal</td>\n",
       "      <td>/data/all/data/LivelyKernel/LivelyKernel</td>\n",
       "      <td>0.56</td>\n",
       "      <td>12</td>\n",
       "      <td>36</td>\n",
       "      <td>12-04-2022_15-48-06</td>\n",
       "      <td>t5-large</td>\n",
       "      <td>/scratch/arminz//tmp/ft1_807_LivelyKernel_0_1/...</td>\n",
       "      <td>NaN</td>\n",
       "      <td>ft</td>\n",
       "    </tr>\n",
       "    <tr>\n",
       "      <th>49</th>\n",
       "      <td>normal</td>\n",
       "      <td>/data/all/data/svgdotjs/svg.js</td>\n",
       "      <td>0.10</td>\n",
       "      <td>5</td>\n",
       "      <td>31</td>\n",
       "      <td>12-04-2022_15-55-32</td>\n",
       "      <td>t5-large</td>\n",
       "      <td>/scratch/arminz//tmp/ft1_75_svg.js_0_1/best/</td>\n",
       "      <td>NaN</td>\n",
       "      <td>ft</td>\n",
       "    </tr>\n",
       "    <tr>\n",
       "      <th>50</th>\n",
       "      <td>normal</td>\n",
       "      <td>/data/all/data/foam-framework/foam</td>\n",
       "      <td>0.30</td>\n",
       "      <td>13</td>\n",
       "      <td>33</td>\n",
       "      <td>12-04-2022_16-04-38</td>\n",
       "      <td>t5-large</td>\n",
       "      <td>/scratch/arminz//tmp/ft1_540_foam_0_1/best/</td>\n",
       "      <td>NaN</td>\n",
       "      <td>ft</td>\n",
       "    </tr>\n",
       "  </tbody>\n",
       "</table>\n",
       "</div>"
      ],
      "text/plain": [
       "      name                                      repo   acc  #w  samples  \\\n",
       "48  normal  /data/all/data/LivelyKernel/LivelyKernel  0.56  12       36   \n",
       "49  normal            /data/all/data/svgdotjs/svg.js  0.10   5       31   \n",
       "50  normal        /data/all/data/foam-framework/foam  0.30  13       33   \n",
       "\n",
       "                   time     model  \\\n",
       "48  12-04-2022_15-48-06  t5-large   \n",
       "49  12-04-2022_15-55-32  t5-large   \n",
       "50  12-04-2022_16-04-38  t5-large   \n",
       "\n",
       "                                        model_address split type  \n",
       "48  /scratch/arminz//tmp/ft1_807_LivelyKernel_0_1/...   NaN   ft  \n",
       "49       /scratch/arminz//tmp/ft1_75_svg.js_0_1/best/   NaN   ft  \n",
       "50        /scratch/arminz//tmp/ft1_540_foam_0_1/best/   NaN   ft  "
      ]
     },
     "execution_count": 10,
     "metadata": {},
     "output_type": "execute_result"
    }
   ],
   "source": [
    "results.tail(3)"
   ]
  },
  {
   "cell_type": "code",
   "execution_count": 11,
   "id": "fee75d6c",
   "metadata": {},
   "outputs": [],
   "source": [
    "if not large:\n",
    "    good_5 = results[results['name'].isna() & (results['split'] == 0.5) & (results['type'] == 'good') & (results['repo'] != 'all')]\n",
    "    good_2 = results[results['name'].isna() & (results['split'] == 0.2) & (results['type'] == 'good') & (results['repo'] != 'all')]\n",
    "    inc_2 = results[results['name'].isna() & (results['split'] == 0.2) & (results['type'] == 'included') & (results['repo'] != 'all')]\n",
    "    inc_5 = results[results['name'].isna() & (results['split'] == 0.5) & (results['type'] == 'included') & (results['repo'] != 'all')]\n",
    "    exc_5 = results[results['name'].isna() & (results['split'] == 0.5) & (results['type'] == 'excluded') & (results['repo'] != 'all')]\n",
    "    exc_2 = results[results['name'].isna() & (results['split'] == 0.2) & (results['type'] == 'excluded') & (results['repo'] != 'all')]\n",
    "    ft_2 = results[(results['name'] == 'normal') & (results['type'] == 'ft') & (results['repo'] != 'all')]\n",
    "else:\n",
    "    good_2 = results[(results['name'] == 'normal') & (results['type'] == 'finetuned') & (results['repo'] != 'all')]\n",
    "    inc_2 = results[(results['name'] == 'normal') & (results['type'] == 'included') & (results['repo'] != 'all')]\n",
    "    exc_2 = results[(results['name'] == 'normal') & (results['type'] == 'excluded') & (results['repo'] != 'all')]\n",
    "    ft_2 = results[(results['name'] == 'normal') & (results['type'] == 'ft') & (results['repo'] != 'all')]\n",
    "\n",
    "adapter = results[(results['name'] == 'withAdapter')]"
   ]
  },
  {
   "cell_type": "code",
   "execution_count": 14,
   "id": "200d2605",
   "metadata": {},
   "outputs": [
    {
     "name": "stdout",
     "output_type": "stream",
     "text": [
      "8 10 11 10 10\n"
     ]
    }
   ],
   "source": [
    "if not large:\n",
    "    print(len(good_5), len(good_2), len(inc_2), len(inc_5), len(exc_2), len(exc_5), len(adapter), len(ft_2))\n",
    "else:\n",
    "    print(len(good_2), len(inc_2), len(exc_2), len(adapter), len(ft_2))"
   ]
  },
  {
   "cell_type": "code",
   "execution_count": 15,
   "id": "54ab9749",
   "metadata": {},
   "outputs": [
    {
     "data": {
      "text/plain": [
       "(0.651, 0.6376382978723404, 0.615)"
      ]
     },
     "execution_count": 15,
     "metadata": {},
     "output_type": "execute_result"
    }
   ],
   "source": [
    "inc_2['acc'].mean(), (inc_2['acc'] * inc_2['samples']).sum() / inc_2['samples'].sum(), inc_2['acc'].median()"
   ]
  },
  {
   "cell_type": "code",
   "execution_count": 16,
   "id": "41d756e8",
   "metadata": {},
   "outputs": [],
   "source": [
    "# inc_5['acc'].mean(), (inc_5['acc'] * inc_5['samples']).sum() / inc_5['samples'].sum()"
   ]
  },
  {
   "cell_type": "code",
   "execution_count": 17,
   "id": "f029e21c",
   "metadata": {},
   "outputs": [
    {
     "data": {
      "text/plain": [
       "(0.4854545454545454, 0.4873161033797217, 0.45)"
      ]
     },
     "execution_count": 17,
     "metadata": {},
     "output_type": "execute_result"
    }
   ],
   "source": [
    "exc_2['acc'].mean(), (exc_2['acc'] * exc_2['samples']).sum() / exc_2['samples'].sum(), exc_2['acc'].median()"
   ]
  },
  {
   "cell_type": "code",
   "execution_count": 18,
   "id": "f9def823",
   "metadata": {},
   "outputs": [],
   "source": [
    "# exc_5['acc'].mean(), (exc_5['acc'] * exc_5['samples']).sum() / exc_5['samples'].sum()"
   ]
  },
  {
   "cell_type": "code",
   "execution_count": 19,
   "id": "8803447c",
   "metadata": {},
   "outputs": [
    {
     "data": {
      "text/plain": [
       "(0.70375, 0.6962111801242237, 0.66)"
      ]
     },
     "execution_count": 19,
     "metadata": {},
     "output_type": "execute_result"
    }
   ],
   "source": [
    "good_2['acc'].mean(), (good_2['acc'] * good_2['samples']).sum() / good_2['samples'].sum(), good_2['acc'].median()"
   ]
  },
  {
   "cell_type": "code",
   "execution_count": 20,
   "id": "00870453",
   "metadata": {},
   "outputs": [],
   "source": [
    "# good_5['acc'].mean(), (good_5['acc'] * good_5['samples']).sum() / good_5['samples'].sum()"
   ]
  },
  {
   "cell_type": "code",
   "execution_count": 21,
   "id": "db68c1d9",
   "metadata": {},
   "outputs": [
    {
     "data": {
      "text/plain": [
       "(0.6679999999999999, 0.6538085106382978, 0.6)"
      ]
     },
     "execution_count": 21,
     "metadata": {},
     "output_type": "execute_result"
    }
   ],
   "source": [
    "adapter['acc'].mean(), (adapter['acc'] * adapter['samples']).sum() / adapter['samples'].sum(), adapter['acc'].median()"
   ]
  },
  {
   "cell_type": "code",
   "execution_count": 22,
   "id": "c66dc1f5",
   "metadata": {},
   "outputs": [
    {
     "data": {
      "text/plain": [
       "(0.404, 0.4277659574468085, 0.43)"
      ]
     },
     "execution_count": 22,
     "metadata": {},
     "output_type": "execute_result"
    }
   ],
   "source": [
    "ft_2['acc'].mean(), (ft_2['acc'] * ft_2['samples']).sum() / ft_2['samples'].sum(), ft_2['acc'].median()"
   ]
  },
  {
   "cell_type": "code",
   "execution_count": 44,
   "id": "633474a4",
   "metadata": {},
   "outputs": [
    {
     "data": {
      "text/html": [
       "<div>\n",
       "<style scoped>\n",
       "    .dataframe tbody tr th:only-of-type {\n",
       "        vertical-align: middle;\n",
       "    }\n",
       "\n",
       "    .dataframe tbody tr th {\n",
       "        vertical-align: top;\n",
       "    }\n",
       "\n",
       "    .dataframe thead th {\n",
       "        text-align: right;\n",
       "    }\n",
       "</style>\n",
       "<table border=\"1\" class=\"dataframe\">\n",
       "  <thead>\n",
       "    <tr style=\"text-align: right;\">\n",
       "      <th></th>\n",
       "      <th>name</th>\n",
       "      <th>repo</th>\n",
       "      <th>acc</th>\n",
       "      <th>#w</th>\n",
       "      <th>samples</th>\n",
       "      <th>time</th>\n",
       "      <th>model</th>\n",
       "      <th>model_address</th>\n",
       "      <th>split</th>\n",
       "      <th>type</th>\n",
       "    </tr>\n",
       "  </thead>\n",
       "  <tbody>\n",
       "    <tr>\n",
       "      <th>50</th>\n",
       "      <td>NaN</td>\n",
       "      <td>/data/all/data/qooxdoo/qooxdoo</td>\n",
       "      <td>0.53</td>\n",
       "      <td>18</td>\n",
       "      <td>115</td>\n",
       "      <td>25-01-2022_09-42-10</td>\n",
       "      <td>t5-small</td>\n",
       "      <td>/scratch/arminz/training/t5-small_repo-based-i...</td>\n",
       "      <td>0.2</td>\n",
       "      <td>included</td>\n",
       "    </tr>\n",
       "    <tr>\n",
       "      <th>51</th>\n",
       "      <td>NaN</td>\n",
       "      <td>/data/all/data/elastic/kibana</td>\n",
       "      <td>0.45</td>\n",
       "      <td>17</td>\n",
       "      <td>51</td>\n",
       "      <td>25-01-2022_09-43-03</td>\n",
       "      <td>t5-small</td>\n",
       "      <td>/scratch/arminz/training/t5-small_repo-based-i...</td>\n",
       "      <td>0.2</td>\n",
       "      <td>included</td>\n",
       "    </tr>\n",
       "    <tr>\n",
       "      <th>52</th>\n",
       "      <td>NaN</td>\n",
       "      <td>/data/all/data/emberjs/ember.js</td>\n",
       "      <td>0.53</td>\n",
       "      <td>11</td>\n",
       "      <td>47</td>\n",
       "      <td>25-01-2022_09-43-44</td>\n",
       "      <td>t5-small</td>\n",
       "      <td>/scratch/arminz/training/t5-small_repo-based-i...</td>\n",
       "      <td>0.2</td>\n",
       "      <td>included</td>\n",
       "    </tr>\n",
       "    <tr>\n",
       "      <th>53</th>\n",
       "      <td>NaN</td>\n",
       "      <td>/data/all/data/zloirock/core-js</td>\n",
       "      <td>0.24</td>\n",
       "      <td>8</td>\n",
       "      <td>41</td>\n",
       "      <td>25-01-2022_09-44-17</td>\n",
       "      <td>t5-small</td>\n",
       "      <td>/scratch/arminz/training/t5-small_repo-based-i...</td>\n",
       "      <td>0.2</td>\n",
       "      <td>included</td>\n",
       "    </tr>\n",
       "    <tr>\n",
       "      <th>54</th>\n",
       "      <td>NaN</td>\n",
       "      <td>/data/all/data/Encapsule-Annex/onm</td>\n",
       "      <td>1.00</td>\n",
       "      <td>1</td>\n",
       "      <td>39</td>\n",
       "      <td>25-01-2022_09-44-43</td>\n",
       "      <td>t5-small</td>\n",
       "      <td>/scratch/arminz/training/t5-small_repo-based-i...</td>\n",
       "      <td>0.2</td>\n",
       "      <td>included</td>\n",
       "    </tr>\n",
       "    <tr>\n",
       "      <th>55</th>\n",
       "      <td>NaN</td>\n",
       "      <td>/data/all/data/sequelize/sequelize</td>\n",
       "      <td>0.35</td>\n",
       "      <td>12</td>\n",
       "      <td>40</td>\n",
       "      <td>25-01-2022_09-45-06</td>\n",
       "      <td>t5-small</td>\n",
       "      <td>/scratch/arminz/training/t5-small_repo-based-i...</td>\n",
       "      <td>0.2</td>\n",
       "      <td>included</td>\n",
       "    </tr>\n",
       "    <tr>\n",
       "      <th>56</th>\n",
       "      <td>NaN</td>\n",
       "      <td>/data/all/data/dcos/dcos-ui</td>\n",
       "      <td>0.92</td>\n",
       "      <td>9</td>\n",
       "      <td>37</td>\n",
       "      <td>25-01-2022_09-45-43</td>\n",
       "      <td>t5-small</td>\n",
       "      <td>/scratch/arminz/training/t5-small_repo-based-i...</td>\n",
       "      <td>0.2</td>\n",
       "      <td>included</td>\n",
       "    </tr>\n",
       "    <tr>\n",
       "      <th>57</th>\n",
       "      <td>NaN</td>\n",
       "      <td>/data/all/data/LivelyKernel/LivelyKernel</td>\n",
       "      <td>0.61</td>\n",
       "      <td>12</td>\n",
       "      <td>36</td>\n",
       "      <td>25-01-2022_09-46-15</td>\n",
       "      <td>t5-small</td>\n",
       "      <td>/scratch/arminz/training/t5-small_repo-based-i...</td>\n",
       "      <td>0.2</td>\n",
       "      <td>included</td>\n",
       "    </tr>\n",
       "    <tr>\n",
       "      <th>58</th>\n",
       "      <td>NaN</td>\n",
       "      <td>/data/all/data/svgdotjs/svg.js</td>\n",
       "      <td>0.13</td>\n",
       "      <td>5</td>\n",
       "      <td>31</td>\n",
       "      <td>25-01-2022_09-46-51</td>\n",
       "      <td>t5-small</td>\n",
       "      <td>/scratch/arminz/training/t5-small_repo-based-i...</td>\n",
       "      <td>0.2</td>\n",
       "      <td>included</td>\n",
       "    </tr>\n",
       "    <tr>\n",
       "      <th>59</th>\n",
       "      <td>NaN</td>\n",
       "      <td>/data/all/data/foam-framework/foam</td>\n",
       "      <td>0.33</td>\n",
       "      <td>13</td>\n",
       "      <td>33</td>\n",
       "      <td>25-01-2022_09-47-17</td>\n",
       "      <td>t5-small</td>\n",
       "      <td>/scratch/arminz/training/t5-small_repo-based-i...</td>\n",
       "      <td>0.2</td>\n",
       "      <td>included</td>\n",
       "    </tr>\n",
       "  </tbody>\n",
       "</table>\n",
       "</div>"
      ],
      "text/plain": [
       "   name                                      repo   acc  #w  samples  \\\n",
       "50  NaN            /data/all/data/qooxdoo/qooxdoo  0.53  18      115   \n",
       "51  NaN             /data/all/data/elastic/kibana  0.45  17       51   \n",
       "52  NaN           /data/all/data/emberjs/ember.js  0.53  11       47   \n",
       "53  NaN           /data/all/data/zloirock/core-js  0.24   8       41   \n",
       "54  NaN        /data/all/data/Encapsule-Annex/onm  1.00   1       39   \n",
       "55  NaN        /data/all/data/sequelize/sequelize  0.35  12       40   \n",
       "56  NaN               /data/all/data/dcos/dcos-ui  0.92   9       37   \n",
       "57  NaN  /data/all/data/LivelyKernel/LivelyKernel  0.61  12       36   \n",
       "58  NaN            /data/all/data/svgdotjs/svg.js  0.13   5       31   \n",
       "59  NaN        /data/all/data/foam-framework/foam  0.33  13       33   \n",
       "\n",
       "                   time     model  \\\n",
       "50  25-01-2022_09-42-10  t5-small   \n",
       "51  25-01-2022_09-43-03  t5-small   \n",
       "52  25-01-2022_09-43-44  t5-small   \n",
       "53  25-01-2022_09-44-17  t5-small   \n",
       "54  25-01-2022_09-44-43  t5-small   \n",
       "55  25-01-2022_09-45-06  t5-small   \n",
       "56  25-01-2022_09-45-43  t5-small   \n",
       "57  25-01-2022_09-46-15  t5-small   \n",
       "58  25-01-2022_09-46-51  t5-small   \n",
       "59  25-01-2022_09-47-17  t5-small   \n",
       "\n",
       "                                        model_address  split      type  \n",
       "50  /scratch/arminz/training/t5-small_repo-based-i...    0.2  included  \n",
       "51  /scratch/arminz/training/t5-small_repo-based-i...    0.2  included  \n",
       "52  /scratch/arminz/training/t5-small_repo-based-i...    0.2  included  \n",
       "53  /scratch/arminz/training/t5-small_repo-based-i...    0.2  included  \n",
       "54  /scratch/arminz/training/t5-small_repo-based-i...    0.2  included  \n",
       "55  /scratch/arminz/training/t5-small_repo-based-i...    0.2  included  \n",
       "56  /scratch/arminz/training/t5-small_repo-based-i...    0.2  included  \n",
       "57  /scratch/arminz/training/t5-small_repo-based-i...    0.2  included  \n",
       "58  /scratch/arminz/training/t5-small_repo-based-i...    0.2  included  \n",
       "59  /scratch/arminz/training/t5-small_repo-based-i...    0.2  included  "
      ]
     },
     "execution_count": 44,
     "metadata": {},
     "output_type": "execute_result"
    }
   ],
   "source": [
    "inc_2"
   ]
  },
  {
   "cell_type": "code",
   "execution_count": 45,
   "id": "b864b4a7",
   "metadata": {},
   "outputs": [
    {
     "data": {
      "text/html": [
       "<div>\n",
       "<style scoped>\n",
       "    .dataframe tbody tr th:only-of-type {\n",
       "        vertical-align: middle;\n",
       "    }\n",
       "\n",
       "    .dataframe tbody tr th {\n",
       "        vertical-align: top;\n",
       "    }\n",
       "\n",
       "    .dataframe thead th {\n",
       "        text-align: right;\n",
       "    }\n",
       "</style>\n",
       "<table border=\"1\" class=\"dataframe\">\n",
       "  <thead>\n",
       "    <tr style=\"text-align: right;\">\n",
       "      <th></th>\n",
       "      <th>name</th>\n",
       "      <th>repo</th>\n",
       "      <th>acc</th>\n",
       "      <th>#w</th>\n",
       "      <th>samples</th>\n",
       "      <th>time</th>\n",
       "      <th>model</th>\n",
       "      <th>model_address</th>\n",
       "      <th>split</th>\n",
       "      <th>type</th>\n",
       "    </tr>\n",
       "  </thead>\n",
       "  <tbody>\n",
       "    <tr>\n",
       "      <th>20</th>\n",
       "      <td>NaN</td>\n",
       "      <td>/data/all/data/qooxdoo/qooxdoo</td>\n",
       "      <td>0.48</td>\n",
       "      <td>18</td>\n",
       "      <td>115</td>\n",
       "      <td>24-01-2022_16-16-11</td>\n",
       "      <td>t5-small</td>\n",
       "      <td>t5-small_repo-based_21-01-2022_10-29-42/checkp...</td>\n",
       "      <td>0.2</td>\n",
       "      <td>excluded</td>\n",
       "    </tr>\n",
       "    <tr>\n",
       "      <th>21</th>\n",
       "      <td>NaN</td>\n",
       "      <td>/data/all/data/elastic/kibana</td>\n",
       "      <td>0.43</td>\n",
       "      <td>17</td>\n",
       "      <td>51</td>\n",
       "      <td>24-01-2022_16-17-24</td>\n",
       "      <td>t5-small</td>\n",
       "      <td>t5-small_repo-based_21-01-2022_10-29-42/checkp...</td>\n",
       "      <td>0.2</td>\n",
       "      <td>excluded</td>\n",
       "    </tr>\n",
       "    <tr>\n",
       "      <th>22</th>\n",
       "      <td>NaN</td>\n",
       "      <td>/data/all/data/emberjs/ember.js</td>\n",
       "      <td>0.51</td>\n",
       "      <td>11</td>\n",
       "      <td>47</td>\n",
       "      <td>24-01-2022_16-18-12</td>\n",
       "      <td>t5-small</td>\n",
       "      <td>t5-small_repo-based_21-01-2022_10-29-42/checkp...</td>\n",
       "      <td>0.2</td>\n",
       "      <td>excluded</td>\n",
       "    </tr>\n",
       "    <tr>\n",
       "      <th>23</th>\n",
       "      <td>NaN</td>\n",
       "      <td>/data/all/data/zloirock/core-js</td>\n",
       "      <td>0.20</td>\n",
       "      <td>8</td>\n",
       "      <td>41</td>\n",
       "      <td>24-01-2022_16-19-13</td>\n",
       "      <td>t5-small</td>\n",
       "      <td>t5-small_repo-based_21-01-2022_10-29-42/checkp...</td>\n",
       "      <td>0.2</td>\n",
       "      <td>excluded</td>\n",
       "    </tr>\n",
       "    <tr>\n",
       "      <th>24</th>\n",
       "      <td>NaN</td>\n",
       "      <td>/data/all/data/Encapsule-Annex/onm</td>\n",
       "      <td>1.00</td>\n",
       "      <td>1</td>\n",
       "      <td>39</td>\n",
       "      <td>24-01-2022_16-19-55</td>\n",
       "      <td>t5-small</td>\n",
       "      <td>t5-small_repo-based_21-01-2022_10-29-42/checkp...</td>\n",
       "      <td>0.2</td>\n",
       "      <td>excluded</td>\n",
       "    </tr>\n",
       "    <tr>\n",
       "      <th>25</th>\n",
       "      <td>NaN</td>\n",
       "      <td>/data/all/data/sequelize/sequelize</td>\n",
       "      <td>0.38</td>\n",
       "      <td>12</td>\n",
       "      <td>40</td>\n",
       "      <td>24-01-2022_16-20-31</td>\n",
       "      <td>t5-small</td>\n",
       "      <td>t5-small_repo-based_21-01-2022_10-29-42/checkp...</td>\n",
       "      <td>0.2</td>\n",
       "      <td>excluded</td>\n",
       "    </tr>\n",
       "    <tr>\n",
       "      <th>26</th>\n",
       "      <td>NaN</td>\n",
       "      <td>/data/all/data/dcos/dcos-ui</td>\n",
       "      <td>0.92</td>\n",
       "      <td>9</td>\n",
       "      <td>37</td>\n",
       "      <td>24-01-2022_16-21-14</td>\n",
       "      <td>t5-small</td>\n",
       "      <td>t5-small_repo-based_21-01-2022_10-29-42/checkp...</td>\n",
       "      <td>0.2</td>\n",
       "      <td>excluded</td>\n",
       "    </tr>\n",
       "    <tr>\n",
       "      <th>27</th>\n",
       "      <td>NaN</td>\n",
       "      <td>/data/all/data/LivelyKernel/LivelyKernel</td>\n",
       "      <td>0.61</td>\n",
       "      <td>12</td>\n",
       "      <td>36</td>\n",
       "      <td>24-01-2022_16-21-52</td>\n",
       "      <td>t5-small</td>\n",
       "      <td>t5-small_repo-based_21-01-2022_10-29-42/checkp...</td>\n",
       "      <td>0.2</td>\n",
       "      <td>excluded</td>\n",
       "    </tr>\n",
       "    <tr>\n",
       "      <th>28</th>\n",
       "      <td>NaN</td>\n",
       "      <td>/data/all/data/svgdotjs/svg.js</td>\n",
       "      <td>0.10</td>\n",
       "      <td>5</td>\n",
       "      <td>31</td>\n",
       "      <td>24-01-2022_16-22-35</td>\n",
       "      <td>t5-small</td>\n",
       "      <td>t5-small_repo-based_21-01-2022_10-29-42/checkp...</td>\n",
       "      <td>0.2</td>\n",
       "      <td>excluded</td>\n",
       "    </tr>\n",
       "    <tr>\n",
       "      <th>29</th>\n",
       "      <td>NaN</td>\n",
       "      <td>/data/all/data/foam-framework/foam</td>\n",
       "      <td>0.30</td>\n",
       "      <td>13</td>\n",
       "      <td>33</td>\n",
       "      <td>24-01-2022_16-23-19</td>\n",
       "      <td>t5-small</td>\n",
       "      <td>t5-small_repo-based_21-01-2022_10-29-42/checkp...</td>\n",
       "      <td>0.2</td>\n",
       "      <td>excluded</td>\n",
       "    </tr>\n",
       "  </tbody>\n",
       "</table>\n",
       "</div>"
      ],
      "text/plain": [
       "   name                                      repo   acc  #w  samples  \\\n",
       "20  NaN            /data/all/data/qooxdoo/qooxdoo  0.48  18      115   \n",
       "21  NaN             /data/all/data/elastic/kibana  0.43  17       51   \n",
       "22  NaN           /data/all/data/emberjs/ember.js  0.51  11       47   \n",
       "23  NaN           /data/all/data/zloirock/core-js  0.20   8       41   \n",
       "24  NaN        /data/all/data/Encapsule-Annex/onm  1.00   1       39   \n",
       "25  NaN        /data/all/data/sequelize/sequelize  0.38  12       40   \n",
       "26  NaN               /data/all/data/dcos/dcos-ui  0.92   9       37   \n",
       "27  NaN  /data/all/data/LivelyKernel/LivelyKernel  0.61  12       36   \n",
       "28  NaN            /data/all/data/svgdotjs/svg.js  0.10   5       31   \n",
       "29  NaN        /data/all/data/foam-framework/foam  0.30  13       33   \n",
       "\n",
       "                   time     model  \\\n",
       "20  24-01-2022_16-16-11  t5-small   \n",
       "21  24-01-2022_16-17-24  t5-small   \n",
       "22  24-01-2022_16-18-12  t5-small   \n",
       "23  24-01-2022_16-19-13  t5-small   \n",
       "24  24-01-2022_16-19-55  t5-small   \n",
       "25  24-01-2022_16-20-31  t5-small   \n",
       "26  24-01-2022_16-21-14  t5-small   \n",
       "27  24-01-2022_16-21-52  t5-small   \n",
       "28  24-01-2022_16-22-35  t5-small   \n",
       "29  24-01-2022_16-23-19  t5-small   \n",
       "\n",
       "                                        model_address  split      type  \n",
       "20  t5-small_repo-based_21-01-2022_10-29-42/checkp...    0.2  excluded  \n",
       "21  t5-small_repo-based_21-01-2022_10-29-42/checkp...    0.2  excluded  \n",
       "22  t5-small_repo-based_21-01-2022_10-29-42/checkp...    0.2  excluded  \n",
       "23  t5-small_repo-based_21-01-2022_10-29-42/checkp...    0.2  excluded  \n",
       "24  t5-small_repo-based_21-01-2022_10-29-42/checkp...    0.2  excluded  \n",
       "25  t5-small_repo-based_21-01-2022_10-29-42/checkp...    0.2  excluded  \n",
       "26  t5-small_repo-based_21-01-2022_10-29-42/checkp...    0.2  excluded  \n",
       "27  t5-small_repo-based_21-01-2022_10-29-42/checkp...    0.2  excluded  \n",
       "28  t5-small_repo-based_21-01-2022_10-29-42/checkp...    0.2  excluded  \n",
       "29  t5-small_repo-based_21-01-2022_10-29-42/checkp...    0.2  excluded  "
      ]
     },
     "execution_count": 45,
     "metadata": {},
     "output_type": "execute_result"
    }
   ],
   "source": [
    "exc_2"
   ]
  },
  {
   "cell_type": "code",
   "execution_count": 46,
   "id": "4df36576",
   "metadata": {},
   "outputs": [
    {
     "data": {
      "text/html": [
       "<div>\n",
       "<style scoped>\n",
       "    .dataframe tbody tr th:only-of-type {\n",
       "        vertical-align: middle;\n",
       "    }\n",
       "\n",
       "    .dataframe tbody tr th {\n",
       "        vertical-align: top;\n",
       "    }\n",
       "\n",
       "    .dataframe thead th {\n",
       "        text-align: right;\n",
       "    }\n",
       "</style>\n",
       "<table border=\"1\" class=\"dataframe\">\n",
       "  <thead>\n",
       "    <tr style=\"text-align: right;\">\n",
       "      <th></th>\n",
       "      <th>name</th>\n",
       "      <th>repo</th>\n",
       "      <th>acc</th>\n",
       "      <th>#w</th>\n",
       "      <th>samples</th>\n",
       "      <th>time</th>\n",
       "      <th>model</th>\n",
       "      <th>model_address</th>\n",
       "      <th>split</th>\n",
       "      <th>type</th>\n",
       "    </tr>\n",
       "  </thead>\n",
       "  <tbody>\n",
       "  </tbody>\n",
       "</table>\n",
       "</div>"
      ],
      "text/plain": [
       "Empty DataFrame\n",
       "Columns: [name, repo, acc, #w, samples, time, model, model_address, split, type]\n",
       "Index: []"
      ]
     },
     "execution_count": 46,
     "metadata": {},
     "output_type": "execute_result"
    }
   ],
   "source": [
    "good_2"
   ]
  },
  {
   "cell_type": "code",
   "execution_count": 47,
   "id": "8dd7919e",
   "metadata": {},
   "outputs": [
    {
     "data": {
      "text/html": [
       "<div>\n",
       "<style scoped>\n",
       "    .dataframe tbody tr th:only-of-type {\n",
       "        vertical-align: middle;\n",
       "    }\n",
       "\n",
       "    .dataframe tbody tr th {\n",
       "        vertical-align: top;\n",
       "    }\n",
       "\n",
       "    .dataframe thead th {\n",
       "        text-align: right;\n",
       "    }\n",
       "</style>\n",
       "<table border=\"1\" class=\"dataframe\">\n",
       "  <thead>\n",
       "    <tr style=\"text-align: right;\">\n",
       "      <th></th>\n",
       "      <th>name</th>\n",
       "      <th>repo</th>\n",
       "      <th>acc</th>\n",
       "      <th>#w</th>\n",
       "      <th>samples</th>\n",
       "      <th>time</th>\n",
       "      <th>model</th>\n",
       "      <th>model_address</th>\n",
       "      <th>split</th>\n",
       "      <th>type</th>\n",
       "    </tr>\n",
       "  </thead>\n",
       "  <tbody>\n",
       "    <tr>\n",
       "      <th>64</th>\n",
       "      <td>withAdapter</td>\n",
       "      <td>/data/all/data/qooxdoo/qooxdoo</td>\n",
       "      <td>0.57</td>\n",
       "      <td>18</td>\n",
       "      <td>115</td>\n",
       "      <td>25-01-2022_18-37-47</td>\n",
       "      <td>t5-small</td>\n",
       "      <td>/scratch/arminz//tmp/adapted</td>\n",
       "      <td>NaN</td>\n",
       "      <td>excluded</td>\n",
       "    </tr>\n",
       "    <tr>\n",
       "      <th>65</th>\n",
       "      <td>withAdapter</td>\n",
       "      <td>/data/all/data/elastic/kibana</td>\n",
       "      <td>0.47</td>\n",
       "      <td>17</td>\n",
       "      <td>51</td>\n",
       "      <td>25-01-2022_18-41-01</td>\n",
       "      <td>t5-small</td>\n",
       "      <td>/scratch/arminz//tmp/adapted</td>\n",
       "      <td>NaN</td>\n",
       "      <td>excluded</td>\n",
       "    </tr>\n",
       "    <tr>\n",
       "      <th>66</th>\n",
       "      <td>withAdapter</td>\n",
       "      <td>/data/all/data/emberjs/ember.js</td>\n",
       "      <td>0.57</td>\n",
       "      <td>11</td>\n",
       "      <td>47</td>\n",
       "      <td>25-01-2022_19-40-30</td>\n",
       "      <td>t5-small</td>\n",
       "      <td>/scratch/arminz//tmp/adapted</td>\n",
       "      <td>NaN</td>\n",
       "      <td>excluded</td>\n",
       "    </tr>\n",
       "    <tr>\n",
       "      <th>67</th>\n",
       "      <td>withAdapter</td>\n",
       "      <td>/data/all/data/zloirock/core-js</td>\n",
       "      <td>0.49</td>\n",
       "      <td>8</td>\n",
       "      <td>41</td>\n",
       "      <td>25-01-2022_20-09-49</td>\n",
       "      <td>t5-small</td>\n",
       "      <td>/scratch/arminz//tmp/adapted</td>\n",
       "      <td>NaN</td>\n",
       "      <td>excluded</td>\n",
       "    </tr>\n",
       "    <tr>\n",
       "      <th>68</th>\n",
       "      <td>withAdapter</td>\n",
       "      <td>/data/all/data/Encapsule-Annex/onm</td>\n",
       "      <td>1.00</td>\n",
       "      <td>1</td>\n",
       "      <td>39</td>\n",
       "      <td>25-01-2022_18-50-58</td>\n",
       "      <td>t5-small</td>\n",
       "      <td>/scratch/arminz//tmp/adapted</td>\n",
       "      <td>NaN</td>\n",
       "      <td>excluded</td>\n",
       "    </tr>\n",
       "    <tr>\n",
       "      <th>69</th>\n",
       "      <td>withAdapter</td>\n",
       "      <td>/data/all/data/sequelize/sequelize</td>\n",
       "      <td>0.35</td>\n",
       "      <td>12</td>\n",
       "      <td>40</td>\n",
       "      <td>25-01-2022_18-53-57</td>\n",
       "      <td>t5-small</td>\n",
       "      <td>/scratch/arminz//tmp/adapted</td>\n",
       "      <td>NaN</td>\n",
       "      <td>excluded</td>\n",
       "    </tr>\n",
       "    <tr>\n",
       "      <th>70</th>\n",
       "      <td>withAdapter</td>\n",
       "      <td>/data/all/data/dcos/dcos-ui</td>\n",
       "      <td>0.86</td>\n",
       "      <td>9</td>\n",
       "      <td>37</td>\n",
       "      <td>25-01-2022_18-57-25</td>\n",
       "      <td>t5-small</td>\n",
       "      <td>/scratch/arminz//tmp/adapted</td>\n",
       "      <td>NaN</td>\n",
       "      <td>excluded</td>\n",
       "    </tr>\n",
       "    <tr>\n",
       "      <th>71</th>\n",
       "      <td>withAdapter</td>\n",
       "      <td>/data/all/data/LivelyKernel/LivelyKernel</td>\n",
       "      <td>0.67</td>\n",
       "      <td>12</td>\n",
       "      <td>36</td>\n",
       "      <td>25-01-2022_19-00-44</td>\n",
       "      <td>t5-small</td>\n",
       "      <td>/scratch/arminz//tmp/adapted</td>\n",
       "      <td>NaN</td>\n",
       "      <td>excluded</td>\n",
       "    </tr>\n",
       "    <tr>\n",
       "      <th>72</th>\n",
       "      <td>withAdapter</td>\n",
       "      <td>/data/all/data/svgdotjs/svg.js</td>\n",
       "      <td>0.74</td>\n",
       "      <td>5</td>\n",
       "      <td>31</td>\n",
       "      <td>25-01-2022_22-10-19</td>\n",
       "      <td>t5-small</td>\n",
       "      <td>/scratch/arminz//tmp/adapted</td>\n",
       "      <td>NaN</td>\n",
       "      <td>excluded</td>\n",
       "    </tr>\n",
       "    <tr>\n",
       "      <th>73</th>\n",
       "      <td>withAdapter</td>\n",
       "      <td>/data/all/data/foam-framework/foam</td>\n",
       "      <td>0.36</td>\n",
       "      <td>13</td>\n",
       "      <td>33</td>\n",
       "      <td>25-01-2022_19-07-00</td>\n",
       "      <td>t5-small</td>\n",
       "      <td>/scratch/arminz//tmp/adapted</td>\n",
       "      <td>NaN</td>\n",
       "      <td>excluded</td>\n",
       "    </tr>\n",
       "  </tbody>\n",
       "</table>\n",
       "</div>"
      ],
      "text/plain": [
       "           name                                      repo   acc  #w  samples  \\\n",
       "64  withAdapter            /data/all/data/qooxdoo/qooxdoo  0.57  18      115   \n",
       "65  withAdapter             /data/all/data/elastic/kibana  0.47  17       51   \n",
       "66  withAdapter           /data/all/data/emberjs/ember.js  0.57  11       47   \n",
       "67  withAdapter           /data/all/data/zloirock/core-js  0.49   8       41   \n",
       "68  withAdapter        /data/all/data/Encapsule-Annex/onm  1.00   1       39   \n",
       "69  withAdapter        /data/all/data/sequelize/sequelize  0.35  12       40   \n",
       "70  withAdapter               /data/all/data/dcos/dcos-ui  0.86   9       37   \n",
       "71  withAdapter  /data/all/data/LivelyKernel/LivelyKernel  0.67  12       36   \n",
       "72  withAdapter            /data/all/data/svgdotjs/svg.js  0.74   5       31   \n",
       "73  withAdapter        /data/all/data/foam-framework/foam  0.36  13       33   \n",
       "\n",
       "                   time     model                 model_address  split  \\\n",
       "64  25-01-2022_18-37-47  t5-small  /scratch/arminz//tmp/adapted    NaN   \n",
       "65  25-01-2022_18-41-01  t5-small  /scratch/arminz//tmp/adapted    NaN   \n",
       "66  25-01-2022_19-40-30  t5-small  /scratch/arminz//tmp/adapted    NaN   \n",
       "67  25-01-2022_20-09-49  t5-small  /scratch/arminz//tmp/adapted    NaN   \n",
       "68  25-01-2022_18-50-58  t5-small  /scratch/arminz//tmp/adapted    NaN   \n",
       "69  25-01-2022_18-53-57  t5-small  /scratch/arminz//tmp/adapted    NaN   \n",
       "70  25-01-2022_18-57-25  t5-small  /scratch/arminz//tmp/adapted    NaN   \n",
       "71  25-01-2022_19-00-44  t5-small  /scratch/arminz//tmp/adapted    NaN   \n",
       "72  25-01-2022_22-10-19  t5-small  /scratch/arminz//tmp/adapted    NaN   \n",
       "73  25-01-2022_19-07-00  t5-small  /scratch/arminz//tmp/adapted    NaN   \n",
       "\n",
       "        type  \n",
       "64  excluded  \n",
       "65  excluded  \n",
       "66  excluded  \n",
       "67  excluded  \n",
       "68  excluded  \n",
       "69  excluded  \n",
       "70  excluded  \n",
       "71  excluded  \n",
       "72  excluded  \n",
       "73  excluded  "
      ]
     },
     "execution_count": 47,
     "metadata": {},
     "output_type": "execute_result"
    }
   ],
   "source": [
    "adapter"
   ]
  },
  {
   "cell_type": "code",
   "execution_count": 48,
   "id": "168ff43b",
   "metadata": {},
   "outputs": [
    {
     "data": {
      "text/html": [
       "<div>\n",
       "<style scoped>\n",
       "    .dataframe tbody tr th:only-of-type {\n",
       "        vertical-align: middle;\n",
       "    }\n",
       "\n",
       "    .dataframe tbody tr th {\n",
       "        vertical-align: top;\n",
       "    }\n",
       "\n",
       "    .dataframe thead th {\n",
       "        text-align: right;\n",
       "    }\n",
       "</style>\n",
       "<table border=\"1\" class=\"dataframe\">\n",
       "  <thead>\n",
       "    <tr style=\"text-align: right;\">\n",
       "      <th></th>\n",
       "      <th>name</th>\n",
       "      <th>repo</th>\n",
       "      <th>acc</th>\n",
       "      <th>#w</th>\n",
       "      <th>samples</th>\n",
       "      <th>time</th>\n",
       "      <th>model</th>\n",
       "      <th>model_address</th>\n",
       "      <th>split</th>\n",
       "      <th>type</th>\n",
       "    </tr>\n",
       "  </thead>\n",
       "  <tbody>\n",
       "    <tr>\n",
       "      <th>60</th>\n",
       "      <td>NaN</td>\n",
       "      <td>all</td>\n",
       "      <td>0.40</td>\n",
       "      <td>48</td>\n",
       "      <td>3374</td>\n",
       "      <td>25-01-2022_10-31-49</td>\n",
       "      <td>t5-small</td>\n",
       "      <td>/scratch/arminz/training/t5-small_repo-based-i...</td>\n",
       "      <td>0.2</td>\n",
       "      <td>included</td>\n",
       "    </tr>\n",
       "    <tr>\n",
       "      <th>61</th>\n",
       "      <td>NaN</td>\n",
       "      <td>all</td>\n",
       "      <td>0.38</td>\n",
       "      <td>48</td>\n",
       "      <td>3374</td>\n",
       "      <td>25-01-2022_10-35-54</td>\n",
       "      <td>t5-small</td>\n",
       "      <td>/scratch/arminz/training//t5-small_repo-based_...</td>\n",
       "      <td>0.2</td>\n",
       "      <td>excluded</td>\n",
       "    </tr>\n",
       "  </tbody>\n",
       "</table>\n",
       "</div>"
      ],
      "text/plain": [
       "   name repo   acc  #w  samples                 time     model  \\\n",
       "60  NaN  all  0.40  48     3374  25-01-2022_10-31-49  t5-small   \n",
       "61  NaN  all  0.38  48     3374  25-01-2022_10-35-54  t5-small   \n",
       "\n",
       "                                        model_address  split      type  \n",
       "60  /scratch/arminz/training/t5-small_repo-based-i...    0.2  included  \n",
       "61  /scratch/arminz/training//t5-small_repo-based_...    0.2  excluded  "
      ]
     },
     "execution_count": 48,
     "metadata": {},
     "output_type": "execute_result"
    }
   ],
   "source": [
    "results[(results['repo'] == 'all') & (results['split'] == 0.2)]"
   ]
  },
  {
   "cell_type": "code",
   "execution_count": 49,
   "id": "b538a616",
   "metadata": {},
   "outputs": [
    {
     "data": {
      "text/plain": [
       "0.019676308539944905"
      ]
     },
     "execution_count": 49,
     "metadata": {},
     "output_type": "execute_result"
    }
   ],
   "source": [
    "((0.02 * 3374) - (470 * 0.022)) / (3374 - 470)"
   ]
  },
  {
   "cell_type": "code",
   "execution_count": 50,
   "id": "d494f9d9",
   "metadata": {},
   "outputs": [],
   "source": [
    "from matplotlib import pyplot as plt"
   ]
  },
  {
   "cell_type": "code",
   "execution_count": 51,
   "id": "21b82f69",
   "metadata": {},
   "outputs": [
    {
     "data": {
      "text/plain": [
       "<matplotlib.legend.Legend at 0x7f63ae631c70>"
      ]
     },
     "execution_count": 51,
     "metadata": {},
     "output_type": "execute_result"
    },
    {
     "data": {
      "image/png": "[encoded data removed]",
      "text/plain": [
       "<Figure size 432x288 with 1 Axes>"
      ]
     },
     "metadata": {
      "needs_background": "light"
     },
     "output_type": "display_data"
    }
   ],
   "source": [
    "plt.scatter(inc_2['samples'], inc_2['acc'], label='included')\n",
    "plt.scatter(exc_2['samples'], exc_2['acc'], label='excluded')\n",
    "plt.scatter(good_2['samples'], good_2['acc'], label='tuned')\n",
    "plt.scatter(adapter['samples'], adapter['acc'], label='tuned with adapter')\n",
    "plt.legend()"
   ]
  },
  {
   "cell_type": "code",
   "execution_count": 52,
   "id": "e55a3da6",
   "metadata": {},
   "outputs": [],
   "source": [
    "diff_inc = inc_2.set_index('repo').join(inc_2.set_index('repo')['acc'] - exc_2.set_index('repo')['acc'], rsuffix='ـdiff')"
   ]
  },
  {
   "cell_type": "code",
   "execution_count": 53,
   "id": "fc121a17",
   "metadata": {},
   "outputs": [],
   "source": [
    "diff_good = good_2.set_index('repo').join(good_2.set_index('repo')['acc'] - exc_2.set_index('repo')['acc'], rsuffix='ـdiff')"
   ]
  },
  {
   "cell_type": "code",
   "execution_count": 54,
   "id": "001d24d7",
   "metadata": {},
   "outputs": [],
   "source": [
    "diff_adapter = adapter.set_index('repo').join(adapter.set_index('repo')['acc'] - exc_2.set_index('repo')['acc'], rsuffix='ـdiff')"
   ]
  },
  {
   "cell_type": "code",
   "execution_count": 55,
   "id": "d9e46c12",
   "metadata": {},
   "outputs": [
    {
     "data": {
      "text/plain": [
       "<matplotlib.legend.Legend at 0x7f63ae548d90>"
      ]
     },
     "execution_count": 55,
     "metadata": {},
     "output_type": "execute_result"
    },
    {
     "data": {
      "image/png": "[encoded data removed]",
      "text/plain": [
       "<Figure size 432x288 with 1 Axes>"
      ]
     },
     "metadata": {
      "needs_background": "light"
     },
     "output_type": "display_data"
    }
   ],
   "source": [
    "plt.scatter(diff_inc['samples'], diff_inc['acc'], label='included')\n",
    "plt.scatter(diff_adapter['samples'], diff_adapter['acc'], label='adapter')\n",
    "plt.legend()"
   ]
  },
  {
   "cell_type": "code",
   "execution_count": 105,
   "id": "774b0c24",
   "metadata": {},
   "outputs": [
    {
     "data": {
      "text/plain": [
       "<matplotlib.collections.PathCollection at 0x7f333b231910>"
      ]
     },
     "execution_count": 105,
     "metadata": {},
     "output_type": "execute_result"
    },
    {
     "data": {
      "image/png": "[encoded data removed]",
      "text/plain": [
       "<Figure size 432x288 with 1 Axes>"
      ]
     },
     "metadata": {
      "needs_background": "light"
     },
     "output_type": "display_data"
    }
   ],
   "source": [
    "plt.scatter(diff_good['samples'], diff_good['acc'], label='good')\n"
   ]
  },
  {
   "cell_type": "code",
   "execution_count": 106,
   "id": "a2a82751",
   "metadata": {},
   "outputs": [
    {
     "data": {
      "text/plain": [
       "<matplotlib.collections.PathCollection at 0x7f333b2cff10>"
      ]
     },
     "execution_count": 106,
     "metadata": {},
     "output_type": "execute_result"
    },
    {
     "data": {
      "image/png": "[encoded data removed]",
      "text/plain": [
       "<Figure size 432x288 with 1 Axes>"
      ]
     },
     "metadata": {
      "needs_background": "light"
     },
     "output_type": "display_data"
    }
   ],
   "source": [
    "plt.scatter(diff_adapter['samples'], diff_adapter['acc'], label='adapter')\n"
   ]
  },
  {
   "cell_type": "code",
   "execution_count": null,
   "id": "b6a5cb73",
   "metadata": {},
   "outputs": [],
   "source": []
  },
  {
   "cell_type": "code",
   "execution_count": null,
   "id": "b3906200",
   "metadata": {},
   "outputs": [],
   "source": []
  }
 ],
 "metadata": {
  "kernelspec": {
   "display_name": "Python 3",
   "language": "python",
   "name": "python3"
  },
  "language_info": {
   "codemirror_mode": {
    "name": "ipython",
    "version": 3
   },
   "file_extension": ".py",
   "mimetype": "text/x-python",
   "name": "python",
   "nbconvert_exporter": "python",
   "pygments_lexer": "ipython3",
   "version": "3.8.5"
  }
 },
 "nbformat": 4,
 "nbformat_minor": 5
}
