{
 "cells": [
  {
   "cell_type": "code",
   "execution_count": 93,
   "id": "3457da68",
   "metadata": {},
   "outputs": [],
   "source": [
    "import pandas as pd"
   ]
  },
  {
   "cell_type": "code",
   "execution_count": 94,
   "id": "4845eec1",
   "metadata": {},
   "outputs": [],
   "source": [
    "large = True"
   ]
  },
  {
   "cell_type": "code",
   "execution_count": 95,
   "id": "1d3551f8",
   "metadata": {},
   "outputs": [
    {
     "data": {
      "text/html": [
       "<div>\n",
       "<style scoped>\n",
       "    .dataframe tbody tr th:only-of-type {\n",
       "        vertical-align: middle;\n",
       "    }\n",
       "\n",
       "    .dataframe tbody tr th {\n",
       "        vertical-align: top;\n",
       "    }\n",
       "\n",
       "    .dataframe thead th {\n",
       "        text-align: right;\n",
       "    }\n",
       "</style>\n",
       "<table border=\"1\" class=\"dataframe\">\n",
       "  <thead>\n",
       "    <tr style=\"text-align: right;\">\n",
       "      <th></th>\n",
       "      <th>name</th>\n",
       "      <th>repo</th>\n",
       "      <th>acc</th>\n",
       "      <th>#w</th>\n",
       "      <th>samples</th>\n",
       "      <th>time</th>\n",
       "      <th>model</th>\n",
       "      <th>model_address</th>\n",
       "      <th>split</th>\n",
       "    </tr>\n",
       "  </thead>\n",
       "  <tbody>\n",
       "    <tr>\n",
       "      <th>159</th>\n",
       "      <td>normal</td>\n",
       "      <td>all</td>\n",
       "      <td>0.41</td>\n",
       "      <td>52</td>\n",
       "      <td>3529</td>\n",
       "      <td>31-05-2022_04-22-41</td>\n",
       "      <td>t5-large</td>\n",
       "      <td>/scratch/arminz/tmp/currl_/data/all/data/svgdo...</td>\n",
       "      <td>source-test</td>\n",
       "    </tr>\n",
       "  </tbody>\n",
       "</table>\n",
       "</div>"
      ],
      "text/plain": [
       "       name repo   acc  #w  samples                 time     model  \\\n",
       "159  normal  all  0.41  52     3529  31-05-2022_04-22-41  t5-large   \n",
       "\n",
       "                                         model_address        split  \n",
       "159  /scratch/arminz/tmp/currl_/data/all/data/svgdo...  source-test  "
      ]
     },
     "execution_count": 95,
     "metadata": {},
     "output_type": "execute_result"
    }
   ],
   "source": [
    "results = pd.read_csv('./results_large.csv' if large else './results.csv', names=['name', 'repo', 'acc', '#w', 'samples', 'time', 'model', 'model_address', 'split'])\n",
    "results.tail(1)"
   ]
  },
  {
   "cell_type": "code",
   "execution_count": 96,
   "id": "b946186e",
   "metadata": {},
   "outputs": [],
   "source": [
    "results = results[results['samples'] > 33]"
   ]
  },
  {
   "cell_type": "code",
   "execution_count": 97,
   "id": "326508d8",
   "metadata": {},
   "outputs": [],
   "source": [
    "results = results[results['model_address'].apply(lambda m: not ('svg.js' in m or 'foam' in m))]"
   ]
  },
  {
   "cell_type": "code",
   "execution_count": 98,
   "id": "4bac6860",
   "metadata": {},
   "outputs": [],
   "source": [
    "results['model_address'] = results['model_address'].apply(lambda s : s[20:])"
   ]
  },
  {
   "cell_type": "code",
   "execution_count": 99,
   "id": "0f678b93",
   "metadata": {},
   "outputs": [],
   "source": [
    "# results = results[results['repo'].apply(lambda x: not ('svg' in x or 'foam' in x))]"
   ]
  },
  {
   "cell_type": "code",
   "execution_count": 100,
   "id": "9a4f8f75",
   "metadata": {},
   "outputs": [],
   "source": [
    "import math\n",
    "results['true_acc'] = (results['acc'] * results['samples']).apply(math.ceil) / results['samples']\n",
    "results['true_acc'] = results['true_acc'].apply(lambda m: round(m * 100, 2))"
   ]
  },
  {
   "cell_type": "code",
   "execution_count": 101,
   "id": "4df19157",
   "metadata": {},
   "outputs": [],
   "source": [
    "results = results[results['split'] != 0.5]\n",
    "results = results[results['model'] == f't5-{\"large\" if large else \"small\"}']"
   ]
  },
  {
   "cell_type": "code",
   "execution_count": 102,
   "id": "f494a5ad",
   "metadata": {},
   "outputs": [],
   "source": [
    "def extract_type_from_address(address):\n",
    "    for keyword in ['_distance', 'bt', '_length_input', '_length_label', '_conf', 'included', 'ft', 'basic', 'finetuned', 'adapted']:\n",
    "        if keyword in address:\n",
    "            if keyword == 'ft' and '0.3_4' in address:\n",
    "                return 'ft_0.3_4'\n",
    "            return keyword\n",
    "    return 'excluded'"
   ]
  },
  {
   "cell_type": "code",
   "execution_count": 103,
   "id": "5a2a95d4",
   "metadata": {},
   "outputs": [],
   "source": [
    "results['type'] = results['model_address'].apply(extract_type_from_address)"
   ]
  },
  {
   "cell_type": "code",
   "execution_count": 104,
   "id": "709d7395",
   "metadata": {},
   "outputs": [
    {
     "data": {
      "text/plain": [
       "ft               24\n",
       "adapted          18\n",
       "finetuned        16\n",
       "_length_input    16\n",
       "_distance        16\n",
       "_length_label    15\n",
       "excluded          9\n",
       "included          9\n",
       "bt                8\n",
       "Name: type, dtype: int64"
      ]
     },
     "execution_count": 104,
     "metadata": {},
     "output_type": "execute_result"
    }
   ],
   "source": [
    "results['type'].value_counts()"
   ]
  },
  {
   "cell_type": "code",
   "execution_count": null,
   "id": "d2343ad2",
   "metadata": {},
   "outputs": [],
   "source": []
  },
  {
   "cell_type": "code",
   "execution_count": 105,
   "id": "7434efa0",
   "metadata": {},
   "outputs": [],
   "source": [
    "# results[results['type'] == '_distance']"
   ]
  },
  {
   "cell_type": "code",
   "execution_count": 106,
   "id": "be9b8fb2",
   "metadata": {},
   "outputs": [
    {
     "data": {
      "text/plain": [
       "'2.00, 1.00'"
      ]
     },
     "execution_count": 106,
     "metadata": {},
     "output_type": "execute_result"
    }
   ],
   "source": [
    "f'{1.995:.2f}, {1:.2f}'"
   ]
  },
  {
   "cell_type": "code",
   "execution_count": 107,
   "id": "130ee7f3",
   "metadata": {},
   "outputs": [],
   "source": [
    "def print_stats(df):\n",
    "    print(f\"{len(df)}, {(df['true_acc'] * df['samples']).sum() / df['samples'].sum():.2f}, {df['true_acc'].mean():.2f}, {df['true_acc'].median():.2f}\")\n",
    "    print(df[['model_address', 'true_acc', 'samples']])"
   ]
  },
  {
   "cell_type": "code",
   "execution_count": 108,
   "id": "54ab9749",
   "metadata": {},
   "outputs": [
    {
     "name": "stdout",
     "output_type": "stream",
     "text": [
      "8, 66.01, 68.39, 63.37\n",
      "                                        model_address  true_acc  samples\n",
      "11  ning/t5-large_global_repo-based-included_25-01...     58.26      115\n",
      "12  ning/t5-large_global_repo-based-included_25-01...     60.78       51\n",
      "13  ning/t5-large_global_repo-based-included_25-01...     65.96       47\n",
      "14  ning/t5-large_global_repo-based-included_25-01...     51.22       41\n",
      "15  ning/t5-large_global_repo-based-included_25-01...    100.00       39\n",
      "16  ning/t5-large_global_repo-based-included_25-01...     55.00       40\n",
      "17  ning/t5-large_global_repo-based-included_25-01...     86.49       37\n",
      "18  ning/t5-large_global_repo-based-included_25-01...     69.44       36\n"
     ]
    }
   ],
   "source": [
    "print_stats(results[(results['type'] == 'included') & (results['repo'] != 'all')])"
   ]
  },
  {
   "cell_type": "code",
   "execution_count": 109,
   "id": "95800636",
   "metadata": {},
   "outputs": [
    {
     "name": "stdout",
     "output_type": "stream",
     "text": [
      "1, 55.01, 55.01, 55.01\n",
      "                                        model_address  true_acc  samples\n",
      "21  ning/t5-large_global_repo-based-included_25-01...     55.01     3374\n"
     ]
    }
   ],
   "source": [
    "print_stats(results[(results['type'] == 'included') & (results['repo'] == 'all')])"
   ]
  },
  {
   "cell_type": "code",
   "execution_count": 110,
   "id": "f029e21c",
   "metadata": {},
   "outputs": [
    {
     "name": "stdout",
     "output_type": "stream",
     "text": [
      "8, 54.19, 56.94, 48.58\n",
      "                                       model_address  true_acc  samples\n",
      "0  ning/t5-large_global_repo-based_25-01-2022_10-...     46.09      115\n",
      "1  ning/t5-large_global_repo-based_25-01-2022_10-...     45.10       51\n",
      "2  ning/t5-large_global_repo-based_25-01-2022_10-...     51.06       47\n",
      "3  ning/t5-large_global_repo-based_25-01-2022_10-...     39.02       41\n",
      "4  ning/t5-lar/data/all/data/qooxdoo/qooxdooge_gl...    100.00       39\n",
      "5  ning/t5-large_global_repo-based_25-01-2022_10-...     40.00       40\n",
      "6  ning/t5-large_global_repo-based_25-01-2022_10-...     67.57       37\n",
      "7  ning/t5-large_global_repo-based_25-01-2022_10-...     66.67       36\n"
     ]
    }
   ],
   "source": [
    "print_stats(results[(results['type'] == 'excluded') & (results['repo'] != 'all')])"
   ]
  },
  {
   "cell_type": "code",
   "execution_count": 111,
   "id": "dbd0e029",
   "metadata": {},
   "outputs": [
    {
     "name": "stdout",
     "output_type": "stream",
     "text": [
      "1, 40.01, 40.01, 40.01\n",
      "                                        model_address  true_acc  samples\n",
      "10  ning/t5-large_global_repo-based_25-01-2022_10-...     40.01     3374\n"
     ]
    }
   ],
   "source": [
    "print_stats(results[(results['type'] == 'excluded') & (results['repo'] == 'all')])"
   ]
  },
  {
   "cell_type": "code",
   "execution_count": 112,
   "id": "8803447c",
   "metadata": {},
   "outputs": [
    {
     "name": "stdout",
     "output_type": "stream",
     "text": [
      "8, 67.24, 69.94, 64.59\n",
      "                                        model_address  true_acc  samples\n",
      "32           finetuned//data/all/data/qooxdoo/qooxdoo     58.26      115\n",
      "34          finetuned//data/all/data/zloirock/core-js     46.34       41\n",
      "36          finetuned//data/all/data/emberjs/ember.js     61.70       47\n",
      "40            finetuned//data/all/data/elastic/kibana     66.67       51\n",
      "42       finetuned//data/all/data/Encapsule-Annex/onm    100.00       39\n",
      "44       finetuned//data/all/data/sequelize/sequelize     62.50       40\n",
      "46              finetuned//data/all/data/dcos/dcos-ui     94.59       37\n",
      "48  finetuned//data/all/data/LivelyKernel/LivelyKe...     69.44       36\n"
     ]
    }
   ],
   "source": [
    "print_stats(results[(results['type'] == 'finetuned') & (results['repo'] != 'all')])"
   ]
  },
  {
   "cell_type": "code",
   "execution_count": 113,
   "id": "cc63e505",
   "metadata": {},
   "outputs": [
    {
     "name": "stdout",
     "output_type": "stream",
     "text": [
      "8, 46.39, 46.39, 46.02\n",
      "                                        model_address  true_acc  samples\n",
      "33           finetuned//data/all/data/qooxdoo/qooxdoo     45.03     3529\n",
      "35          finetuned//data/all/data/zloirock/core-js     47.01     3529\n",
      "37          finetuned//data/all/data/emberjs/ember.js     46.02     3529\n",
      "41            finetuned//data/all/data/elastic/kibana     47.01     3529\n",
      "43       finetuned//data/all/data/Encapsule-Annex/onm     46.02     3529\n",
      "45       finetuned//data/all/data/sequelize/sequelize     46.02     3529\n",
      "47              finetuned//data/all/data/dcos/dcos-ui     48.00     3529\n",
      "49  finetuned//data/all/data/LivelyKernel/LivelyKe...     46.02     3529\n"
     ]
    }
   ],
   "source": [
    "print_stats(results[(results['type'] == 'finetuned') & (results['repo'] == 'all')])"
   ]
  },
  {
   "cell_type": "code",
   "execution_count": 114,
   "id": "db68c1d9",
   "metadata": {},
   "outputs": [
    {
     "name": "stdout",
     "output_type": "stream",
     "text": [
      "8, 67.49, 69.23, 62.59\n",
      "      model_address  true_acc  samples\n",
      "52  /adapted_large/     63.48      115\n",
      "54  /adapted_large/     58.82       51\n",
      "56  /adapted_large/     61.70       47\n",
      "58  /adapted_large/     51.22       41\n",
      "60  /adapted_large/    100.00       39\n",
      "62  /adapted_large/     60.00       40\n",
      "64  /adapted_large/     89.19       37\n",
      "66  /adapted_large/     69.44       36\n"
     ]
    }
   ],
   "source": [
    "print_stats(results[(results['type'] == 'adapted') & (results['repo'] != 'all')])"
   ]
  },
  {
   "cell_type": "code",
   "execution_count": 115,
   "id": "f2a65a68",
   "metadata": {},
   "outputs": [
    {
     "name": "stdout",
     "output_type": "stream",
     "text": [
      "10, 43.92, 43.92, 44.01\n",
      "      model_address  true_acc  samples\n",
      "53  /adapted_large/     43.02     3529\n",
      "55  /adapted_large/     44.01     3529\n",
      "57  /adapted_large/     44.01     3529\n",
      "59  /adapted_large/     45.03     3529\n",
      "61  /adapted_large/     47.01     3529\n",
      "63  /adapted_large/     44.01     3529\n",
      "65  /adapted_large/     45.03     3529\n",
      "67  /adapted_large/     43.02     3529\n",
      "69  /adapted_large/     40.01     3529\n",
      "71  /adapted_large/     44.01     3529\n"
     ]
    }
   ],
   "source": [
    "print_stats(results[(results['type'] == 'adapted') & (results['repo'] == 'all')])"
   ]
  },
  {
   "cell_type": "code",
   "execution_count": 116,
   "id": "c66dc1f5",
   "metadata": {},
   "outputs": [
    {
     "name": "stdout",
     "output_type": "stream",
     "text": [
      "16, 49.63, 49.66, 51.17\n",
      "                                        model_address  true_acc  samples\n",
      "22                         /ft1_986_qooxdoo_0_1/best/     52.17      115\n",
      "23                          /ft1_825_kibana_0_1/best/     41.18       51\n",
      "24                        /ft1_177_ember.js_0_1/best/     46.81       47\n",
      "25                         /ft1_228_core-js_0_1/best/     29.27       41\n",
      "26                             /ft1_829_onm_0_1/best/     51.28       39\n",
      "27                       /ft1_717_sequelize_0_1/best/     35.00       40\n",
      "28                         /ft1_975_dcos-ui_0_1/best/     59.46       37\n",
      "29                    /ft1_807_LivelyKernel_0_1/best/     58.33       36\n",
      "72            ftl2_/data/all/data/qooxdoo/qooxdoo_0_1     52.17      115\n",
      "74             ftl2_/data/all/data/elastic/kibana_0_1     45.10       51\n",
      "76           ftl2_/data/all/data/emberjs/ember.js_0_1     51.06       47\n",
      "78           ftl2_/data/all/data/zloirock/core-js_0_1     29.27       41\n",
      "80        ftl2_/data/all/data/Encapsule-Annex/onm_0_1     79.49       39\n",
      "82        ftl2_/data/all/data/sequelize/sequelize_0_1     30.00       40\n",
      "84               ftl2_/data/all/data/dcos/dcos-ui_0_1     75.68       37\n",
      "86  ftl2_/data/all/data/LivelyKernel/LivelyKernel_0_1     58.33       36\n"
     ]
    }
   ],
   "source": [
    "print_stats(results[(results['type'] == 'ft') & (results['repo'] != 'all')])"
   ]
  },
  {
   "cell_type": "code",
   "execution_count": 117,
   "id": "0986f706",
   "metadata": {},
   "outputs": [
    {
     "name": "stdout",
     "output_type": "stream",
     "text": [
      "10, 43.92, 43.92, 44.01\n",
      "      model_address  true_acc  samples\n",
      "53  /adapted_large/     43.02     3529\n",
      "55  /adapted_large/     44.01     3529\n",
      "57  /adapted_large/     44.01     3529\n",
      "59  /adapted_large/     45.03     3529\n",
      "61  /adapted_large/     47.01     3529\n",
      "63  /adapted_large/     44.01     3529\n",
      "65  /adapted_large/     45.03     3529\n",
      "67  /adapted_large/     43.02     3529\n",
      "69  /adapted_large/     40.01     3529\n",
      "71  /adapted_large/     44.01     3529\n"
     ]
    }
   ],
   "source": [
    "print_stats(results[(results['type'] == 'adapted') & (results['repo'] == 'all')])"
   ]
  },
  {
   "cell_type": "code",
   "execution_count": 118,
   "id": "75ebd87b",
   "metadata": {},
   "outputs": [
    {
     "name": "stdout",
     "output_type": "stream",
     "text": [
      "8, 67.49, 69.23, 62.59\n",
      "      model_address  true_acc  samples\n",
      "52  /adapted_large/     63.48      115\n",
      "54  /adapted_large/     58.82       51\n",
      "56  /adapted_large/     61.70       47\n",
      "58  /adapted_large/     51.22       41\n",
      "60  /adapted_large/    100.00       39\n",
      "62  /adapted_large/     60.00       40\n",
      "64  /adapted_large/     89.19       37\n",
      "66  /adapted_large/     69.44       36\n"
     ]
    }
   ],
   "source": [
    "print_stats(results[(results['type'] == 'adapted') & (results['repo'] != 'all') & ~results['split'].isna()])"
   ]
  },
  {
   "cell_type": "code",
   "execution_count": 119,
   "id": "b727fb8b",
   "metadata": {},
   "outputs": [
    {
     "name": "stdout",
     "output_type": "stream",
     "text": [
      "0, nan, nan, nan\n",
      "Empty DataFrame\n",
      "Columns: [model_address, true_acc, samples]\n",
      "Index: []\n"
     ]
    },
    {
     "name": "stderr",
     "output_type": "stream",
     "text": [
      "/tmp/ipykernel_20162/898457943.py:2: RuntimeWarning: invalid value encountered in double_scalars\n",
      "  print(f\"{len(df)}, {(df['true_acc'] * df['samples']).sum() / df['samples'].sum():.2f}, {df['true_acc'].mean():.2f}, {df['true_acc'].median():.2f}\")\n"
     ]
    }
   ],
   "source": [
    "print_stats(results[(results['type'] == 'ft_0.3_4') & (results['repo'] != 'all')])"
   ]
  },
  {
   "cell_type": "code",
   "execution_count": 120,
   "id": "26fbf97e",
   "metadata": {},
   "outputs": [
    {
     "name": "stdout",
     "output_type": "stream",
     "text": [
      "0, nan, nan, nan\n",
      "Empty DataFrame\n",
      "Columns: [model_address, true_acc, samples]\n",
      "Index: []\n"
     ]
    },
    {
     "name": "stderr",
     "output_type": "stream",
     "text": [
      "/tmp/ipykernel_20162/898457943.py:2: RuntimeWarning: invalid value encountered in double_scalars\n",
      "  print(f\"{len(df)}, {(df['true_acc'] * df['samples']).sum() / df['samples'].sum():.2f}, {df['true_acc'].mean():.2f}, {df['true_acc'].median():.2f}\")\n"
     ]
    }
   ],
   "source": [
    "print_stats(results[(results['type'] == 'ft_0.3_4') & (results['repo'] == 'all')])"
   ]
  },
  {
   "cell_type": "code",
   "execution_count": 121,
   "id": "1a25a0e8",
   "metadata": {},
   "outputs": [
    {
     "name": "stdout",
     "output_type": "stream",
     "text": [
      "8, 83.91, 83.91, 84.53\n",
      "                                        model_address  true_acc  samples\n",
      "73            ftl2_/data/all/data/qooxdoo/qooxdoo_0_1     77.03     1746\n",
      "75             ftl2_/data/all/data/elastic/kibana_0_1     85.05     1746\n",
      "77           ftl2_/data/all/data/emberjs/ember.js_0_1     84.02     1746\n",
      "79           ftl2_/data/all/data/zloirock/core-js_0_1     80.01     1746\n",
      "81        ftl2_/data/all/data/Encapsule-Annex/onm_0_1     89.00     1746\n",
      "83        ftl2_/data/all/data/sequelize/sequelize_0_1     85.05     1746\n",
      "85               ftl2_/data/all/data/dcos/dcos-ui_0_1     88.03     1746\n",
      "87  ftl2_/data/all/data/LivelyKernel/LivelyKernel_0_1     83.05     1746\n"
     ]
    }
   ],
   "source": [
    "print_stats(results[(results['type'] == 'ft') & (results['repo'] == 'all')])"
   ]
  },
  {
   "cell_type": "code",
   "execution_count": 122,
   "id": "bdf8ebb2",
   "metadata": {},
   "outputs": [
    {
     "name": "stdout",
     "output_type": "stream",
     "text": [
      "16, 49.63, 49.66, 51.17\n",
      "                                        model_address  true_acc  samples\n",
      "22                         /ft1_986_qooxdoo_0_1/best/     52.17      115\n",
      "23                          /ft1_825_kibana_0_1/best/     41.18       51\n",
      "24                        /ft1_177_ember.js_0_1/best/     46.81       47\n",
      "25                         /ft1_228_core-js_0_1/best/     29.27       41\n",
      "26                             /ft1_829_onm_0_1/best/     51.28       39\n",
      "27                       /ft1_717_sequelize_0_1/best/     35.00       40\n",
      "28                         /ft1_975_dcos-ui_0_1/best/     59.46       37\n",
      "29                    /ft1_807_LivelyKernel_0_1/best/     58.33       36\n",
      "72            ftl2_/data/all/data/qooxdoo/qooxdoo_0_1     52.17      115\n",
      "74             ftl2_/data/all/data/elastic/kibana_0_1     45.10       51\n",
      "76           ftl2_/data/all/data/emberjs/ember.js_0_1     51.06       47\n",
      "78           ftl2_/data/all/data/zloirock/core-js_0_1     29.27       41\n",
      "80        ftl2_/data/all/data/Encapsule-Annex/onm_0_1     79.49       39\n",
      "82        ftl2_/data/all/data/sequelize/sequelize_0_1     30.00       40\n",
      "84               ftl2_/data/all/data/dcos/dcos-ui_0_1     75.68       37\n",
      "86  ftl2_/data/all/data/LivelyKernel/LivelyKernel_0_1     58.33       36\n"
     ]
    }
   ],
   "source": [
    "print_stats(results[(results['type'] == 'ft') & (results['repo'] != 'all')])"
   ]
  },
  {
   "cell_type": "code",
   "execution_count": 123,
   "id": "9879a38e",
   "metadata": {},
   "outputs": [
    {
     "name": "stdout",
     "output_type": "stream",
     "text": [
      "0, nan, nan, nan\n",
      "Empty DataFrame\n",
      "Columns: [model_address, true_acc, samples]\n",
      "Index: []\n"
     ]
    },
    {
     "name": "stderr",
     "output_type": "stream",
     "text": [
      "/tmp/ipykernel_20162/898457943.py:2: RuntimeWarning: invalid value encountered in double_scalars\n",
      "  print(f\"{len(df)}, {(df['true_acc'] * df['samples']).sum() / df['samples'].sum():.2f}, {df['true_acc'].mean():.2f}, {df['true_acc'].median():.2f}\")\n"
     ]
    }
   ],
   "source": [
    "print_stats(results[(results['type'] == '_conf') & (results['repo'] != 'all')])"
   ]
  },
  {
   "cell_type": "code",
   "execution_count": 124,
   "id": "caadf7b4",
   "metadata": {},
   "outputs": [
    {
     "name": "stdout",
     "output_type": "stream",
     "text": [
      "0, nan, nan, nan\n",
      "Empty DataFrame\n",
      "Columns: [model_address, true_acc, samples]\n",
      "Index: []\n"
     ]
    },
    {
     "name": "stderr",
     "output_type": "stream",
     "text": [
      "/tmp/ipykernel_20162/898457943.py:2: RuntimeWarning: invalid value encountered in double_scalars\n",
      "  print(f\"{len(df)}, {(df['true_acc'] * df['samples']).sum() / df['samples'].sum():.2f}, {df['true_acc'].mean():.2f}, {df['true_acc'].median():.2f}\")\n"
     ]
    }
   ],
   "source": [
    "print_stats(results[(results['type'] == '_conf') & (results['repo'] == 'all')])"
   ]
  },
  {
   "cell_type": "code",
   "execution_count": 125,
   "id": "dd0d3afc",
   "metadata": {},
   "outputs": [
    {
     "name": "stdout",
     "output_type": "stream",
     "text": [
      "8, 64.29, 66.60, 62.55\n",
      "                                         model_address  true_acc  samples\n",
      "140  currl_/data/all/data/qooxdoo/qooxdoo_distance_...     59.13      115\n",
      "142  currl_/data/all/data/zloirock/core-js_distance...     46.34       41\n",
      "144  currl_/data/all/data/emberjs/ember.js_distance...     65.96       47\n",
      "148  currl_/data/all/data/elastic/kibana_distance_b...     45.10       51\n",
      "150  currl_/data/all/data/Encapsule-Annex/onm_dista...    100.00       39\n",
      "152  currl_/data/all/data/sequelize/sequelize_dista...     55.00       40\n",
      "154   currl_/data/all/data/dcos/dcos-ui_distance_based     94.59       37\n",
      "156  currl_/data/all/data/LivelyKernel/LivelyKernel...     66.67       36\n"
     ]
    }
   ],
   "source": [
    "print_stats(results[(results['type'] == '_distance') & (results['repo'] != 'all')])"
   ]
  },
  {
   "cell_type": "code",
   "execution_count": 126,
   "id": "b7d727ed",
   "metadata": {},
   "outputs": [
    {
     "name": "stdout",
     "output_type": "stream",
     "text": [
      "8, 46.38, 46.38, 47.50\n",
      "                                         model_address  true_acc  samples\n",
      "141  currl_/data/all/data/qooxdoo/qooxdoo_distance_...     41.00     3529\n",
      "143  currl_/data/all/data/zloirock/core-js_distance...     47.01     3529\n",
      "145  currl_/data/all/data/emberjs/ember.js_distance...     44.01     3529\n",
      "149  currl_/data/all/data/elastic/kibana_distance_b...     48.00     3529\n",
      "151  currl_/data/all/data/Encapsule-Annex/onm_dista...     48.00     3529\n",
      "153  currl_/data/all/data/sequelize/sequelize_dista...     47.01     3529\n",
      "155   currl_/data/all/data/dcos/dcos-ui_distance_based     48.00     3529\n",
      "157  currl_/data/all/data/LivelyKernel/LivelyKernel...     48.00     3529\n"
     ]
    }
   ],
   "source": [
    "print_stats(results[(results['type'] == '_distance') & (results['repo'] == 'all')])"
   ]
  },
  {
   "cell_type": "code",
   "execution_count": 127,
   "id": "72ee1894",
   "metadata": {},
   "outputs": [
    {
     "name": "stdout",
     "output_type": "stream",
     "text": [
      "8, 57.14, 60.00, 51.11\n",
      "                                         model_address  true_acc  samples\n",
      "91   currl_/data/all/data/qooxdoo/qooxdoo_length_input     48.70      115\n",
      "93   currl_/data/all/data/zloirock/core-js_length_i...     39.02       41\n",
      "95   currl_/data/all/data/emberjs/ember.js_length_i...     53.19       47\n",
      "99    currl_/data/all/data/elastic/kibana_length_input     49.02       51\n",
      "101  currl_/data/all/data/Encapsule-Annex/onm_lengt...    100.00       39\n",
      "103  currl_/data/all/data/sequelize/sequelize_lengt...     45.00       40\n",
      "105     currl_/data/all/data/dcos/dcos-ui_length_input     78.38       37\n",
      "107  currl_/data/all/data/LivelyKernel/LivelyKernel...     66.67       36\n"
     ]
    }
   ],
   "source": [
    "print_stats(results[(results['type'] == '_length_input') & (results['repo'] != 'all')])"
   ]
  },
  {
   "cell_type": "code",
   "execution_count": 128,
   "id": "db37b61b",
   "metadata": {},
   "outputs": [
    {
     "name": "stdout",
     "output_type": "stream",
     "text": [
      "8, 47.88, 47.88, 48.00\n",
      "                                         model_address  true_acc  samples\n",
      "92   currl_/data/all/data/qooxdoo/qooxdoo_length_input     48.00     3529\n",
      "94   currl_/data/all/data/zloirock/core-js_length_i...     48.00     3529\n",
      "96   currl_/data/all/data/emberjs/ember.js_length_i...     48.00     3529\n",
      "100   currl_/data/all/data/elastic/kibana_length_input     47.01     3529\n",
      "102  currl_/data/all/data/Encapsule-Annex/onm_lengt...     48.00     3529\n",
      "104  currl_/data/all/data/sequelize/sequelize_lengt...     48.00     3529\n",
      "106     currl_/data/all/data/dcos/dcos-ui_length_input     48.00     3529\n",
      "108  currl_/data/all/data/LivelyKernel/LivelyKernel...     48.00     3529\n"
     ]
    }
   ],
   "source": [
    "print_stats(results[(results['type'] == '_length_input') & (results['repo'] == 'all')])"
   ]
  },
  {
   "cell_type": "code",
   "execution_count": 129,
   "id": "cc5cef96",
   "metadata": {},
   "outputs": [
    {
     "name": "stdout",
     "output_type": "stream",
     "text": [
      "8, 47.88, 47.88, 48.00\n",
      "                                         model_address  true_acc  samples\n",
      "111  currl_/data/all/data/qooxdoo/qooxdoo_length_label     47.01     3529\n",
      "113  currl_/data/all/data/zloirock/core-js_length_l...     48.00     3529\n",
      "115  currl_/data/all/data/emberjs/ember.js_length_l...     48.00     3529\n",
      "119   currl_/data/all/data/elastic/kibana_length_label     48.00     3529\n",
      "121  currl_/data/all/data/Encapsule-Annex/onm_lengt...     48.00     3529\n",
      "123  currl_/data/all/data/sequelize/sequelize_lengt...     48.00     3529\n",
      "125     currl_/data/all/data/dcos/dcos-ui_length_label     48.00     3529\n",
      "127  currl_/data/all/data/LivelyKernel/LivelyKernel...     48.00     3529\n"
     ]
    }
   ],
   "source": [
    "print_stats(results[(results['type'] == '_length_label') & (results['repo'] == 'all')])"
   ]
  },
  {
   "cell_type": "code",
   "execution_count": 130,
   "id": "ce929e9b",
   "metadata": {},
   "outputs": [
    {
     "name": "stdout",
     "output_type": "stream",
     "text": [
      "8, 59.85, 63.40, 56.27\n",
      "                                         model_address  true_acc  samples\n",
      "130         bt_t5-large//data/all/data/qooxdoo/qooxdoo     48.70      115\n",
      "131          bt_t5-large//data/all/data/elastic/kibana     47.06       51\n",
      "132        bt_t5-large//data/all/data/emberjs/ember.js     63.83       47\n",
      "133        bt_t5-large//data/all/data/zloirock/core-js     46.34       41\n",
      "134     bt_t5-large//data/all/data/Encapsule-Annex/onm    100.00       39\n",
      "135     bt_t5-large//data/all/data/sequelize/sequelize     40.00       40\n",
      "136            bt_t5-large//data/all/data/dcos/dcos-ui     94.59       37\n",
      "137  bt_t5-large//data/all/data/LivelyKernel/Lively...     66.67       36\n"
     ]
    }
   ],
   "source": [
    "print_stats(results[(results['type'] == 'bt') & (results['repo'] != 'all')])"
   ]
  },
  {
   "cell_type": "code",
   "execution_count": 131,
   "id": "ec23fdbc",
   "metadata": {},
   "outputs": [
    {
     "name": "stdout",
     "output_type": "stream",
     "text": [
      "0, nan, nan, nan\n",
      "Empty DataFrame\n",
      "Columns: [model_address, true_acc, samples]\n",
      "Index: []\n"
     ]
    },
    {
     "name": "stderr",
     "output_type": "stream",
     "text": [
      "/tmp/ipykernel_20162/898457943.py:2: RuntimeWarning: invalid value encountered in double_scalars\n",
      "  print(f\"{len(df)}, {(df['true_acc'] * df['samples']).sum() / df['samples'].sum():.2f}, {df['true_acc'].mean():.2f}, {df['true_acc'].median():.2f}\")\n"
     ]
    }
   ],
   "source": [
    "print_stats(results[(results['type'] == 'bt') & (results['repo'] == 'all')])"
   ]
  },
  {
   "cell_type": "code",
   "execution_count": 132,
   "id": "5a419387",
   "metadata": {},
   "outputs": [
    {
     "name": "stdout",
     "output_type": "stream",
     "text": [
      "8, 59.85, 63.40, 56.27\n",
      "                                         model_address  true_acc  samples\n",
      "130         bt_t5-large//data/all/data/qooxdoo/qooxdoo     48.70      115\n",
      "131          bt_t5-large//data/all/data/elastic/kibana     47.06       51\n",
      "132        bt_t5-large//data/all/data/emberjs/ember.js     63.83       47\n",
      "133        bt_t5-large//data/all/data/zloirock/core-js     46.34       41\n",
      "134     bt_t5-large//data/all/data/Encapsule-Annex/onm    100.00       39\n",
      "135     bt_t5-large//data/all/data/sequelize/sequelize     40.00       40\n",
      "136            bt_t5-large//data/all/data/dcos/dcos-ui     94.59       37\n",
      "137  bt_t5-large//data/all/data/LivelyKernel/Lively...     66.67       36\n"
     ]
    }
   ],
   "source": [
    "print_stats(results[(results['type'] == 'bt') & (results['repo'] != 'all')])"
   ]
  },
  {
   "cell_type": "code",
   "execution_count": 133,
   "id": "478a8c93",
   "metadata": {},
   "outputs": [
    {
     "data": {
      "text/plain": [
       "'3.0'"
      ]
     },
     "execution_count": 133,
     "metadata": {},
     "output_type": "execute_result"
    }
   ],
   "source": [
    "f\"{2.96:.1f}\""
   ]
  },
  {
   "cell_type": "code",
   "execution_count": 134,
   "id": "558fe756",
   "metadata": {},
   "outputs": [
    {
     "data": {
      "text/html": [
       "<div>\n",
       "<style scoped>\n",
       "    .dataframe tbody tr th:only-of-type {\n",
       "        vertical-align: middle;\n",
       "    }\n",
       "\n",
       "    .dataframe tbody tr th {\n",
       "        vertical-align: top;\n",
       "    }\n",
       "\n",
       "    .dataframe thead th {\n",
       "        text-align: right;\n",
       "    }\n",
       "</style>\n",
       "<table border=\"1\" class=\"dataframe\">\n",
       "  <thead>\n",
       "    <tr style=\"text-align: right;\">\n",
       "      <th></th>\n",
       "      <th>repo</th>\n",
       "      <th>true_acc</th>\n",
       "    </tr>\n",
       "  </thead>\n",
       "  <tbody>\n",
       "    <tr>\n",
       "      <th>130</th>\n",
       "      <td>/data/all/data/qooxdoo/qooxdoo</td>\n",
       "      <td>48.70</td>\n",
       "    </tr>\n",
       "    <tr>\n",
       "      <th>131</th>\n",
       "      <td>/data/all/data/elastic/kibana</td>\n",
       "      <td>47.06</td>\n",
       "    </tr>\n",
       "    <tr>\n",
       "      <th>132</th>\n",
       "      <td>/data/all/data/emberjs/ember.js</td>\n",
       "      <td>63.83</td>\n",
       "    </tr>\n",
       "    <tr>\n",
       "      <th>133</th>\n",
       "      <td>/data/all/data/zloirock/core-js</td>\n",
       "      <td>46.34</td>\n",
       "    </tr>\n",
       "    <tr>\n",
       "      <th>135</th>\n",
       "      <td>/data/all/data/sequelize/sequelize</td>\n",
       "      <td>40.00</td>\n",
       "    </tr>\n",
       "    <tr>\n",
       "      <th>134</th>\n",
       "      <td>/data/all/data/Encapsule-Annex/onm</td>\n",
       "      <td>100.00</td>\n",
       "    </tr>\n",
       "    <tr>\n",
       "      <th>136</th>\n",
       "      <td>/data/all/data/dcos/dcos-ui</td>\n",
       "      <td>94.59</td>\n",
       "    </tr>\n",
       "    <tr>\n",
       "      <th>137</th>\n",
       "      <td>/data/all/data/LivelyKernel/LivelyKernel</td>\n",
       "      <td>66.67</td>\n",
       "    </tr>\n",
       "  </tbody>\n",
       "</table>\n",
       "</div>"
      ],
      "text/plain": [
       "                                         repo  true_acc\n",
       "130            /data/all/data/qooxdoo/qooxdoo     48.70\n",
       "131             /data/all/data/elastic/kibana     47.06\n",
       "132           /data/all/data/emberjs/ember.js     63.83\n",
       "133           /data/all/data/zloirock/core-js     46.34\n",
       "135        /data/all/data/sequelize/sequelize     40.00\n",
       "134        /data/all/data/Encapsule-Annex/onm    100.00\n",
       "136               /data/all/data/dcos/dcos-ui     94.59\n",
       "137  /data/all/data/LivelyKernel/LivelyKernel     66.67"
      ]
     },
     "execution_count": 134,
     "metadata": {},
     "output_type": "execute_result"
    }
   ],
   "source": [
    "results[(results['type'] == 'bt') & (results['repo'] != 'all')].sort_values(by='samples', ascending=False)[['repo', 'true_acc']]"
   ]
  },
  {
   "cell_type": "code",
   "execution_count": 135,
   "id": "caf24d71",
   "metadata": {},
   "outputs": [
    {
     "data": {
      "text/html": [
       "<div>\n",
       "<style scoped>\n",
       "    .dataframe tbody tr th:only-of-type {\n",
       "        vertical-align: middle;\n",
       "    }\n",
       "\n",
       "    .dataframe tbody tr th {\n",
       "        vertical-align: top;\n",
       "    }\n",
       "\n",
       "    .dataframe thead th {\n",
       "        text-align: right;\n",
       "    }\n",
       "</style>\n",
       "<table border=\"1\" class=\"dataframe\">\n",
       "  <thead>\n",
       "    <tr style=\"text-align: right;\">\n",
       "      <th></th>\n",
       "      <th>name</th>\n",
       "      <th>repo</th>\n",
       "      <th>acc</th>\n",
       "      <th>#w</th>\n",
       "      <th>samples</th>\n",
       "      <th>time</th>\n",
       "      <th>model</th>\n",
       "      <th>model_address</th>\n",
       "      <th>split</th>\n",
       "      <th>true_acc</th>\n",
       "      <th>type</th>\n",
       "    </tr>\n",
       "  </thead>\n",
       "  <tbody>\n",
       "  </tbody>\n",
       "</table>\n",
       "</div>"
      ],
      "text/plain": [
       "Empty DataFrame\n",
       "Columns: [name, repo, acc, #w, samples, time, model, model_address, split, true_acc, type]\n",
       "Index: []"
      ]
     },
     "execution_count": 135,
     "metadata": {},
     "output_type": "execute_result"
    }
   ],
   "source": [
    "results[(results['type'] == 'by') & (results['repo'] != 'all')].sort_values(by='samples', ascending=False)"
   ]
  },
  {
   "cell_type": "code",
   "execution_count": 136,
   "id": "07b73529",
   "metadata": {},
   "outputs": [
    {
     "data": {
      "text/html": [
       "<div>\n",
       "<style scoped>\n",
       "    .dataframe tbody tr th:only-of-type {\n",
       "        vertical-align: middle;\n",
       "    }\n",
       "\n",
       "    .dataframe tbody tr th {\n",
       "        vertical-align: top;\n",
       "    }\n",
       "\n",
       "    .dataframe thead th {\n",
       "        text-align: right;\n",
       "    }\n",
       "</style>\n",
       "<table border=\"1\" class=\"dataframe\">\n",
       "  <thead>\n",
       "    <tr style=\"text-align: right;\">\n",
       "      <th></th>\n",
       "      <th>name</th>\n",
       "      <th>repo</th>\n",
       "      <th>acc</th>\n",
       "      <th>#w</th>\n",
       "      <th>samples</th>\n",
       "      <th>time</th>\n",
       "      <th>model</th>\n",
       "      <th>model_address</th>\n",
       "      <th>split</th>\n",
       "      <th>true_acc</th>\n",
       "      <th>type</th>\n",
       "    </tr>\n",
       "  </thead>\n",
       "  <tbody>\n",
       "  </tbody>\n",
       "</table>\n",
       "</div>"
      ],
      "text/plain": [
       "Empty DataFrame\n",
       "Columns: [name, repo, acc, #w, samples, time, model, model_address, split, true_acc, type]\n",
       "Index: []"
      ]
     },
     "execution_count": 136,
     "metadata": {},
     "output_type": "execute_result"
    }
   ],
   "source": [
    "results[(results['type'] == 'adapted') & (results['repo'] != 'all') & results['split'].isna()]"
   ]
  },
  {
   "cell_type": "code",
   "execution_count": 137,
   "id": "d494f9d9",
   "metadata": {},
   "outputs": [],
   "source": [
    "from matplotlib import pyplot as plt"
   ]
  },
  {
   "cell_type": "code",
   "execution_count": 138,
   "id": "21b82f69",
   "metadata": {},
   "outputs": [
    {
     "ename": "NameError",
     "evalue": "name 'inc_2' is not defined",
     "output_type": "error",
     "traceback": [
      "\u001b[0;31m---------------------------------------------------------------------------\u001b[0m",
      "\u001b[0;31mNameError\u001b[0m                                 Traceback (most recent call last)",
      "\u001b[0;32m/tmp/ipykernel_20162/4212831111.py\u001b[0m in \u001b[0;36m<module>\u001b[0;34m\u001b[0m\n\u001b[0;32m----> 1\u001b[0;31m \u001b[0mplt\u001b[0m\u001b[0;34m.\u001b[0m\u001b[0mscatter\u001b[0m\u001b[0;34m(\u001b[0m\u001b[0minc_2\u001b[0m\u001b[0;34m[\u001b[0m\u001b[0;34m'samples'\u001b[0m\u001b[0;34m]\u001b[0m\u001b[0;34m,\u001b[0m \u001b[0minc_2\u001b[0m\u001b[0;34m[\u001b[0m\u001b[0;34m'acc'\u001b[0m\u001b[0;34m]\u001b[0m\u001b[0;34m,\u001b[0m \u001b[0mlabel\u001b[0m\u001b[0;34m=\u001b[0m\u001b[0;34m'included'\u001b[0m\u001b[0;34m)\u001b[0m\u001b[0;34m\u001b[0m\u001b[0;34m\u001b[0m\u001b[0m\n\u001b[0m\u001b[1;32m      2\u001b[0m \u001b[0mplt\u001b[0m\u001b[0;34m.\u001b[0m\u001b[0mscatter\u001b[0m\u001b[0;34m(\u001b[0m\u001b[0mexc_2\u001b[0m\u001b[0;34m[\u001b[0m\u001b[0;34m'samples'\u001b[0m\u001b[0;34m]\u001b[0m\u001b[0;34m,\u001b[0m \u001b[0mexc_2\u001b[0m\u001b[0;34m[\u001b[0m\u001b[0;34m'acc'\u001b[0m\u001b[0;34m]\u001b[0m\u001b[0;34m,\u001b[0m \u001b[0mlabel\u001b[0m\u001b[0;34m=\u001b[0m\u001b[0;34m'excluded'\u001b[0m\u001b[0;34m)\u001b[0m\u001b[0;34m\u001b[0m\u001b[0;34m\u001b[0m\u001b[0m\n\u001b[1;32m      3\u001b[0m \u001b[0mplt\u001b[0m\u001b[0;34m.\u001b[0m\u001b[0mscatter\u001b[0m\u001b[0;34m(\u001b[0m\u001b[0mgood_2\u001b[0m\u001b[0;34m[\u001b[0m\u001b[0;34m'samples'\u001b[0m\u001b[0;34m]\u001b[0m\u001b[0;34m,\u001b[0m \u001b[0mgood_2\u001b[0m\u001b[0;34m[\u001b[0m\u001b[0;34m'acc'\u001b[0m\u001b[0;34m]\u001b[0m\u001b[0;34m,\u001b[0m \u001b[0mlabel\u001b[0m\u001b[0;34m=\u001b[0m\u001b[0;34m'tuned'\u001b[0m\u001b[0;34m)\u001b[0m\u001b[0;34m\u001b[0m\u001b[0;34m\u001b[0m\u001b[0m\n\u001b[1;32m      4\u001b[0m \u001b[0mplt\u001b[0m\u001b[0;34m.\u001b[0m\u001b[0mscatter\u001b[0m\u001b[0;34m(\u001b[0m\u001b[0madapter\u001b[0m\u001b[0;34m[\u001b[0m\u001b[0;34m'samples'\u001b[0m\u001b[0;34m]\u001b[0m\u001b[0;34m,\u001b[0m \u001b[0madapter\u001b[0m\u001b[0;34m[\u001b[0m\u001b[0;34m'acc'\u001b[0m\u001b[0;34m]\u001b[0m\u001b[0;34m,\u001b[0m \u001b[0mlabel\u001b[0m\u001b[0;34m=\u001b[0m\u001b[0;34m'tuned with adapter'\u001b[0m\u001b[0;34m)\u001b[0m\u001b[0;34m\u001b[0m\u001b[0;34m\u001b[0m\u001b[0m\n\u001b[1;32m      5\u001b[0m \u001b[0mplt\u001b[0m\u001b[0;34m.\u001b[0m\u001b[0mlegend\u001b[0m\u001b[0;34m(\u001b[0m\u001b[0;34m)\u001b[0m\u001b[0;34m\u001b[0m\u001b[0;34m\u001b[0m\u001b[0m\n",
      "\u001b[0;31mNameError\u001b[0m: name 'inc_2' is not defined"
     ]
    }
   ],
   "source": [
    "plt.scatter(inc_2['samples'], inc_2['acc'], label='included')\n",
    "plt.scatter(exc_2['samples'], exc_2['acc'], label='excluded')\n",
    "plt.scatter(good_2['samples'], good_2['acc'], label='tuned')\n",
    "plt.scatter(adapter['samples'], adapter['acc'], label='tuned with adapter')\n",
    "plt.legend()"
   ]
  },
  {
   "cell_type": "code",
   "execution_count": null,
   "id": "e55a3da6",
   "metadata": {},
   "outputs": [],
   "source": [
    "diff_inc = inc_2.set_index('repo').join(inc_2.set_index('repo')['acc'] - exc_2.set_index('repo')['acc'], rsuffix='ـdiff')"
   ]
  },
  {
   "cell_type": "code",
   "execution_count": null,
   "id": "fc121a17",
   "metadata": {},
   "outputs": [],
   "source": [
    "diff_good = good_2.set_index('repo').join(good_2.set_index('repo')['acc'] - exc_2.set_index('repo')['acc'], rsuffix='ـdiff')"
   ]
  },
  {
   "cell_type": "code",
   "execution_count": null,
   "id": "001d24d7",
   "metadata": {},
   "outputs": [],
   "source": [
    "diff_adapter = adapter.set_index('repo').join(adapter.set_index('repo')['acc'] - exc_2.set_index('repo')['acc'], rsuffix='ـdiff')"
   ]
  },
  {
   "cell_type": "code",
   "execution_count": null,
   "id": "d9e46c12",
   "metadata": {},
   "outputs": [],
   "source": [
    "plt.scatter(diff_inc['samples'], diff_inc['acc'], label='included')\n",
    "plt.scatter(diff_adapter['samples'], diff_adapter['acc'], label='adapter')\n",
    "plt.legend()"
   ]
  },
  {
   "cell_type": "code",
   "execution_count": null,
   "id": "774b0c24",
   "metadata": {},
   "outputs": [],
   "source": [
    "plt.scatter(diff_good['samples'], diff_good['acc'], label='good')\n"
   ]
  },
  {
   "cell_type": "code",
   "execution_count": 49,
   "id": "a2a82751",
   "metadata": {},
   "outputs": [
    {
     "ename": "NameError",
     "evalue": "name 'diff_adapter' is not defined",
     "output_type": "error",
     "traceback": [
      "\u001b[0;31m---------------------------------------------------------------------------\u001b[0m",
      "\u001b[0;31mNameError\u001b[0m                                 Traceback (most recent call last)",
      "\u001b[0;32m/tmp/ipykernel_14297/4236880819.py\u001b[0m in \u001b[0;36m<module>\u001b[0;34m\u001b[0m\n\u001b[0;32m----> 1\u001b[0;31m \u001b[0mplt\u001b[0m\u001b[0;34m.\u001b[0m\u001b[0mscatter\u001b[0m\u001b[0;34m(\u001b[0m\u001b[0mdiff_adapter\u001b[0m\u001b[0;34m[\u001b[0m\u001b[0;34m'samples'\u001b[0m\u001b[0;34m]\u001b[0m\u001b[0;34m,\u001b[0m \u001b[0mdiff_adapter\u001b[0m\u001b[0;34m[\u001b[0m\u001b[0;34m'acc'\u001b[0m\u001b[0;34m]\u001b[0m\u001b[0;34m,\u001b[0m \u001b[0mlabel\u001b[0m\u001b[0;34m=\u001b[0m\u001b[0;34m'adapter'\u001b[0m\u001b[0;34m)\u001b[0m\u001b[0;34m\u001b[0m\u001b[0;34m\u001b[0m\u001b[0m\n\u001b[0m",
      "\u001b[0;31mNameError\u001b[0m: name 'diff_adapter' is not defined"
     ]
    }
   ],
   "source": [
    "plt.scatter(diff_adapter['samples'], diff_adapter['acc'], label='adapter')\n"
   ]
  },
  {
   "cell_type": "code",
   "execution_count": 50,
   "id": "b6a5cb73",
   "metadata": {},
   "outputs": [],
   "source": [
    "import math\n",
    "results['true_acc'] = (results['acc'] * results['samples']).apply(math.ceil) / results['samples']"
   ]
  },
  {
   "cell_type": "code",
   "execution_count": 51,
   "id": "b3906200",
   "metadata": {},
   "outputs": [
    {
     "data": {
      "text/html": [
       "<div>\n",
       "<style scoped>\n",
       "    .dataframe tbody tr th:only-of-type {\n",
       "        vertical-align: middle;\n",
       "    }\n",
       "\n",
       "    .dataframe tbody tr th {\n",
       "        vertical-align: top;\n",
       "    }\n",
       "\n",
       "    .dataframe thead th {\n",
       "        text-align: right;\n",
       "    }\n",
       "</style>\n",
       "<table border=\"1\" class=\"dataframe\">\n",
       "  <thead>\n",
       "    <tr style=\"text-align: right;\">\n",
       "      <th></th>\n",
       "      <th>name</th>\n",
       "      <th>repo</th>\n",
       "      <th>acc</th>\n",
       "      <th>#w</th>\n",
       "      <th>samples</th>\n",
       "      <th>time</th>\n",
       "      <th>model</th>\n",
       "      <th>model_address</th>\n",
       "      <th>split</th>\n",
       "      <th>true_acc</th>\n",
       "      <th>type</th>\n",
       "    </tr>\n",
       "  </thead>\n",
       "  <tbody>\n",
       "    <tr>\n",
       "      <th>0</th>\n",
       "      <td>NaN</td>\n",
       "      <td>/data/all/data/qooxdoo/qooxdoo</td>\n",
       "      <td>0.48</td>\n",
       "      <td>18</td>\n",
       "      <td>115</td>\n",
       "      <td>24-01-2022_16-16-11</td>\n",
       "      <td>t5-small</td>\n",
       "      <td>t5-small_repo-based_21-01-2022_10-29-42/checkp...</td>\n",
       "      <td>0.2</td>\n",
       "      <td>0.486957</td>\n",
       "      <td>excluded</td>\n",
       "    </tr>\n",
       "    <tr>\n",
       "      <th>1</th>\n",
       "      <td>NaN</td>\n",
       "      <td>/data/all/data/elastic/kibana</td>\n",
       "      <td>0.43</td>\n",
       "      <td>17</td>\n",
       "      <td>51</td>\n",
       "      <td>24-01-2022_16-17-24</td>\n",
       "      <td>t5-small</td>\n",
       "      <td>t5-small_repo-based_21-01-2022_10-29-42/checkp...</td>\n",
       "      <td>0.2</td>\n",
       "      <td>0.431373</td>\n",
       "      <td>excluded</td>\n",
       "    </tr>\n",
       "  </tbody>\n",
       "</table>\n",
       "</div>"
      ],
      "text/plain": [
       "  name                            repo   acc  #w  samples  \\\n",
       "0  NaN  /data/all/data/qooxdoo/qooxdoo  0.48  18      115   \n",
       "1  NaN   /data/all/data/elastic/kibana  0.43  17       51   \n",
       "\n",
       "                  time     model  \\\n",
       "0  24-01-2022_16-16-11  t5-small   \n",
       "1  24-01-2022_16-17-24  t5-small   \n",
       "\n",
       "                                       model_address split  true_acc      type  \n",
       "0  t5-small_repo-based_21-01-2022_10-29-42/checkp...   0.2  0.486957  excluded  \n",
       "1  t5-small_repo-based_21-01-2022_10-29-42/checkp...   0.2  0.431373  excluded  "
      ]
     },
     "execution_count": 51,
     "metadata": {},
     "output_type": "execute_result"
    }
   ],
   "source": [
    "results.head(2)"
   ]
  },
  {
   "cell_type": "code",
   "execution_count": null,
   "id": "eaba0944",
   "metadata": {},
   "outputs": [],
   "source": []
  },
  {
   "cell_type": "code",
   "execution_count": null,
   "id": "9cf3f0b5",
   "metadata": {},
   "outputs": [],
   "source": []
  },
  {
   "cell_type": "code",
   "execution_count": null,
   "id": "33477d49",
   "metadata": {},
   "outputs": [],
   "source": []
  },
  {
   "cell_type": "code",
   "execution_count": null,
   "id": "fe54d438",
   "metadata": {},
   "outputs": [],
   "source": []
  }
 ],
 "metadata": {
  "kernelspec": {
   "display_name": "Python 3",
   "language": "python",
   "name": "python3"
  },
  "language_info": {
   "codemirror_mode": {
    "name": "ipython",
    "version": 3
   },
   "file_extension": ".py",
   "mimetype": "text/x-python",
   "name": "python",
   "nbconvert_exporter": "python",
   "pygments_lexer": "ipython3",
   "version": "3.8.10"
  }
 },
 "nbformat": 4,
 "nbformat_minor": 5
}
