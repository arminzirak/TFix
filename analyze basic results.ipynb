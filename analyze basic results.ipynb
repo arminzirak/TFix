{
 "cells": [
  {
   "cell_type": "code",
   "execution_count": 1,
   "id": "3457da68",
   "metadata": {},
   "outputs": [],
   "source": [
    "import pandas as pd"
   ]
  },
  {
   "cell_type": "code",
   "execution_count": 47,
   "id": "4845eec1",
   "metadata": {},
   "outputs": [],
   "source": [
    "large = True"
   ]
  },
  {
   "cell_type": "code",
   "execution_count": 48,
   "id": "1d3551f8",
   "metadata": {},
   "outputs": [
    {
     "data": {
      "text/html": [
       "<div>\n",
       "<style scoped>\n",
       "    .dataframe tbody tr th:only-of-type {\n",
       "        vertical-align: middle;\n",
       "    }\n",
       "\n",
       "    .dataframe tbody tr th {\n",
       "        vertical-align: top;\n",
       "    }\n",
       "\n",
       "    .dataframe thead th {\n",
       "        text-align: right;\n",
       "    }\n",
       "</style>\n",
       "<table border=\"1\" class=\"dataframe\">\n",
       "  <thead>\n",
       "    <tr style=\"text-align: right;\">\n",
       "      <th></th>\n",
       "      <th>name</th>\n",
       "      <th>repo</th>\n",
       "      <th>acc</th>\n",
       "      <th>#w</th>\n",
       "      <th>samples</th>\n",
       "      <th>time</th>\n",
       "      <th>model</th>\n",
       "      <th>model_address</th>\n",
       "      <th>split</th>\n",
       "    </tr>\n",
       "  </thead>\n",
       "  <tbody>\n",
       "    <tr>\n",
       "      <th>181</th>\n",
       "      <td>normal</td>\n",
       "      <td>all</td>\n",
       "      <td>0.28</td>\n",
       "      <td>52</td>\n",
       "      <td>3529</td>\n",
       "      <td>30-05-2022_15-53-05</td>\n",
       "      <td>t5-large</td>\n",
       "      <td>/scratch/arminz/tmp/currl_/data/all/data/svgdo...</td>\n",
       "      <td>source-test</td>\n",
       "    </tr>\n",
       "  </tbody>\n",
       "</table>\n",
       "</div>"
      ],
      "text/plain": [
       "       name repo   acc  #w  samples                 time     model  \\\n",
       "181  normal  all  0.28  52     3529  30-05-2022_15-53-05  t5-large   \n",
       "\n",
       "                                         model_address        split  \n",
       "181  /scratch/arminz/tmp/currl_/data/all/data/svgdo...  source-test  "
      ]
     },
     "execution_count": 48,
     "metadata": {},
     "output_type": "execute_result"
    }
   ],
   "source": [
    "results = pd.read_csv('./results_large.csv' if large else './results.csv', names=['name', 'repo', 'acc', '#w', 'samples', 'time', 'model', 'model_address', 'split'])\n",
    "results.tail(1)"
   ]
  },
  {
   "cell_type": "code",
   "execution_count": 49,
   "id": "b946186e",
   "metadata": {},
   "outputs": [],
   "source": [
    "# results = results[results['samples'] > 33]"
   ]
  },
  {
   "cell_type": "code",
   "execution_count": 50,
   "id": "0f678b93",
   "metadata": {},
   "outputs": [],
   "source": [
    "# results = results[results['repo'].apply(lambda x: not ('svg' in x or 'foam' in x))]"
   ]
  },
  {
   "cell_type": "code",
   "execution_count": 51,
   "id": "9a4f8f75",
   "metadata": {},
   "outputs": [],
   "source": [
    "import math\n",
    "results['true_acc'] = (results['acc'] * results['samples']).apply(math.ceil) / results['samples']"
   ]
  },
  {
   "cell_type": "code",
   "execution_count": 52,
   "id": "4df19157",
   "metadata": {},
   "outputs": [],
   "source": [
    "results = results[results['split'] != 0.5]\n",
    "results = results[results['model'] == f't5-{\"large\" if large else \"small\"}']"
   ]
  },
  {
   "cell_type": "code",
   "execution_count": 53,
   "id": "f494a5ad",
   "metadata": {},
   "outputs": [],
   "source": [
    "def extract_type_from_address(address):\n",
    "    for keyword in ['_distance', 'bt', '_length_input', '_length_label', '_conf', 'included', 'ft', 'basic', 'finetuned', 'adapted']:\n",
    "        if keyword in address:\n",
    "            if keyword == 'ft' and '0.3_4' in address:\n",
    "                return 'ft_0.3_4'\n",
    "            return keyword\n",
    "    return 'excluded'"
   ]
  },
  {
   "cell_type": "code",
   "execution_count": 54,
   "id": "5a2a95d4",
   "metadata": {},
   "outputs": [],
   "source": [
    "results['type'] = results['model_address'].apply(extract_type_from_address)"
   ]
  },
  {
   "cell_type": "code",
   "execution_count": 55,
   "id": "709d7395",
   "metadata": {},
   "outputs": [
    {
     "data": {
      "text/plain": [
       "ft               30\n",
       "finetuned        20\n",
       "adapted          20\n",
       "_conf            20\n",
       "_length_label    20\n",
       "_length_input    20\n",
       "_distance        20\n",
       "excluded         11\n",
       "included         11\n",
       "bt               10\n",
       "Name: type, dtype: int64"
      ]
     },
     "execution_count": 55,
     "metadata": {},
     "output_type": "execute_result"
    }
   ],
   "source": [
    "results['type'].value_counts()"
   ]
  },
  {
   "cell_type": "code",
   "execution_count": null,
   "id": "d2343ad2",
   "metadata": {},
   "outputs": [],
   "source": []
  },
  {
   "cell_type": "code",
   "execution_count": 56,
   "id": "7434efa0",
   "metadata": {},
   "outputs": [],
   "source": [
    "# results[results['type'] == '_distance']"
   ]
  },
  {
   "cell_type": "code",
   "execution_count": 57,
   "id": "be9b8fb2",
   "metadata": {},
   "outputs": [
    {
     "data": {
      "text/plain": [
       "'10.00, 1.00'"
      ]
     },
     "execution_count": 57,
     "metadata": {},
     "output_type": "execute_result"
    }
   ],
   "source": [
    "f'{10:.2f}, {1:.2f}'"
   ]
  },
  {
   "cell_type": "code",
   "execution_count": 58,
   "id": "130ee7f3",
   "metadata": {},
   "outputs": [],
   "source": [
    "def print_stats(df):\n",
    "    print(f\"{len(df)}, {100 * (df['true_acc'] * df['samples']).sum() / df['samples'].sum():.2f}, {100 * df['true_acc'].mean():.2f}, {100 * df['true_acc'].median():.2f}\")"
   ]
  },
  {
   "cell_type": "code",
   "execution_count": 59,
   "id": "54ab9749",
   "metadata": {},
   "outputs": [
    {
     "name": "stdout",
     "output_type": "stream",
     "text": [
      "10, 64.89, 66.38, 63.37\n"
     ]
    }
   ],
   "source": [
    "print_stats(results[(results['type'] == 'included') & (results['repo'] != 'all')])"
   ]
  },
  {
   "cell_type": "code",
   "execution_count": 60,
   "id": "f029e21c",
   "metadata": {},
   "outputs": [
    {
     "name": "stdout",
     "output_type": "stream",
     "text": [
      "10, 50.21, 50.48, 45.59\n"
     ]
    }
   ],
   "source": [
    "print_stats(results[(results['type'] == 'excluded') & (results['repo'] != 'all')])"
   ]
  },
  {
   "cell_type": "code",
   "execution_count": 61,
   "id": "40a7c77d",
   "metadata": {},
   "outputs": [
    {
     "name": "stdout",
     "output_type": "stream",
     "text": [
      "1, 40.01, 40.01, 40.01\n"
     ]
    }
   ],
   "source": [
    "print_stats(results[(results['type'] == 'excluded') & (results['repo'] == 'all')])"
   ]
  },
  {
   "cell_type": "code",
   "execution_count": 62,
   "id": "8803447c",
   "metadata": {},
   "outputs": [
    {
     "name": "stdout",
     "output_type": "stream",
     "text": [
      "10, 65.96, 67.61, 64.58\n"
     ]
    }
   ],
   "source": [
    "print_stats(results[(results['type'] == 'finetuned') & (results['repo'] != 'all')])"
   ]
  },
  {
   "cell_type": "code",
   "execution_count": 63,
   "id": "cc63e505",
   "metadata": {},
   "outputs": [
    {
     "name": "stdout",
     "output_type": "stream",
     "text": [
      "10, 46.51, 46.51, 46.02\n"
     ]
    }
   ],
   "source": [
    "print_stats(results[(results['type'] == 'finetuned') & (results['repo'] == 'all')])"
   ]
  },
  {
   "cell_type": "code",
   "execution_count": 64,
   "id": "db68c1d9",
   "metadata": {},
   "outputs": [
    {
     "name": "stdout",
     "output_type": "stream",
     "text": [
      "10, 66.81, 68.03, 62.59\n"
     ]
    }
   ],
   "source": [
    "print_stats(results[(results['type'] == 'adapted') & (results['repo'] != 'all')])"
   ]
  },
  {
   "cell_type": "code",
   "execution_count": 65,
   "id": "f2a65a68",
   "metadata": {},
   "outputs": [
    {
     "name": "stdout",
     "output_type": "stream",
     "text": [
      "10, 43.91, 43.91, 44.01\n"
     ]
    }
   ],
   "source": [
    "print_stats(results[(results['type'] == 'adapted') & (results['repo'] == 'all')])"
   ]
  },
  {
   "cell_type": "code",
   "execution_count": 66,
   "id": "c66dc1f5",
   "metadata": {},
   "outputs": [
    {
     "name": "stdout",
     "output_type": "stream",
     "text": [
      "20, 45.85, 44.05, 45.95\n"
     ]
    }
   ],
   "source": [
    "print_stats(results[(results['type'] == 'ft') & (results['repo'] != 'all')])"
   ]
  },
  {
   "cell_type": "code",
   "execution_count": 67,
   "id": "3ae488e1",
   "metadata": {},
   "outputs": [
    {
     "name": "stdout",
     "output_type": "stream",
     "text": [
      "0, nan, nan, nan\n"
     ]
    },
    {
     "name": "stderr",
     "output_type": "stream",
     "text": [
      "/tmp/ipykernel_39246/3509975532.py:2: RuntimeWarning: invalid value encountered in double_scalars\n",
      "  print(f\"{len(df)}, {100 * (df['true_acc'] * df['samples']).sum() / df['samples'].sum():.2f}, {100 * df['true_acc'].mean():.2f}, {100 * df['true_acc'].median():.2f}\")\n"
     ]
    }
   ],
   "source": [
    "print_stats(results[(results['type'] == 'curr') & (results['repo'] != 'all')])"
   ]
  },
  {
   "cell_type": "code",
   "execution_count": 68,
   "id": "856d827c",
   "metadata": {},
   "outputs": [
    {
     "name": "stdout",
     "output_type": "stream",
     "text": [
      "0, nan, nan, nan\n"
     ]
    },
    {
     "name": "stderr",
     "output_type": "stream",
     "text": [
      "/tmp/ipykernel_39246/3509975532.py:2: RuntimeWarning: invalid value encountered in double_scalars\n",
      "  print(f\"{len(df)}, {100 * (df['true_acc'] * df['samples']).sum() / df['samples'].sum():.2f}, {100 * df['true_acc'].mean():.2f}, {100 * df['true_acc'].median():.2f}\")\n"
     ]
    }
   ],
   "source": [
    "print_stats(results[(results['type'] == 'curr') & (results['repo'] == 'all')])"
   ]
  },
  {
   "cell_type": "code",
   "execution_count": 69,
   "id": "0986f706",
   "metadata": {},
   "outputs": [
    {
     "name": "stdout",
     "output_type": "stream",
     "text": [
      "10, 43.91, 43.91, 44.01\n"
     ]
    }
   ],
   "source": [
    "print_stats(results[(results['type'] == 'adapted') & (results['repo'] == 'all')])"
   ]
  },
  {
   "cell_type": "code",
   "execution_count": 70,
   "id": "afbe6e3c",
   "metadata": {},
   "outputs": [
    {
     "name": "stdout",
     "output_type": "stream",
     "text": [
      "0, nan, nan, nan\n"
     ]
    },
    {
     "name": "stderr",
     "output_type": "stream",
     "text": [
      "/tmp/ipykernel_39246/3509975532.py:2: RuntimeWarning: invalid value encountered in double_scalars\n",
      "  print(f\"{len(df)}, {100 * (df['true_acc'] * df['samples']).sum() / df['samples'].sum():.2f}, {100 * df['true_acc'].mean():.2f}, {100 * df['true_acc'].median():.2f}\")\n"
     ]
    }
   ],
   "source": [
    "print_stats(results[(results['type'] == 'adapted') & (results['repo'] != 'all') & results['split'].isna()])"
   ]
  },
  {
   "cell_type": "code",
   "execution_count": 71,
   "id": "75ebd87b",
   "metadata": {},
   "outputs": [
    {
     "name": "stdout",
     "output_type": "stream",
     "text": [
      "10, 66.81, 68.03, 62.59\n"
     ]
    }
   ],
   "source": [
    "print_stats(results[(results['type'] == 'adapted') & (results['repo'] != 'all') & ~results['split'].isna()])"
   ]
  },
  {
   "cell_type": "code",
   "execution_count": 72,
   "id": "b727fb8b",
   "metadata": {},
   "outputs": [
    {
     "name": "stdout",
     "output_type": "stream",
     "text": [
      "0, nan, nan, nan\n"
     ]
    },
    {
     "name": "stderr",
     "output_type": "stream",
     "text": [
      "/tmp/ipykernel_39246/3509975532.py:2: RuntimeWarning: invalid value encountered in double_scalars\n",
      "  print(f\"{len(df)}, {100 * (df['true_acc'] * df['samples']).sum() / df['samples'].sum():.2f}, {100 * df['true_acc'].mean():.2f}, {100 * df['true_acc'].median():.2f}\")\n"
     ]
    }
   ],
   "source": [
    "print_stats(results[(results['type'] == 'ft_0.3_4') & (results['repo'] != 'all')])"
   ]
  },
  {
   "cell_type": "code",
   "execution_count": 73,
   "id": "26fbf97e",
   "metadata": {},
   "outputs": [
    {
     "name": "stdout",
     "output_type": "stream",
     "text": [
      "0, nan, nan, nan\n"
     ]
    },
    {
     "name": "stderr",
     "output_type": "stream",
     "text": [
      "/tmp/ipykernel_39246/3509975532.py:2: RuntimeWarning: invalid value encountered in double_scalars\n",
      "  print(f\"{len(df)}, {100 * (df['true_acc'] * df['samples']).sum() / df['samples'].sum():.2f}, {100 * df['true_acc'].mean():.2f}, {100 * df['true_acc'].median():.2f}\")\n"
     ]
    }
   ],
   "source": [
    "print_stats(results[(results['type'] == 'ft_0.3_4') & (results['repo'] == 'all')])"
   ]
  },
  {
   "cell_type": "code",
   "execution_count": 74,
   "id": "1a25a0e8",
   "metadata": {},
   "outputs": [
    {
     "name": "stdout",
     "output_type": "stream",
     "text": [
      "10, 84.13, 84.13, 84.54\n"
     ]
    }
   ],
   "source": [
    "print_stats(results[(results['type'] == 'ft') & (results['repo'] == 'all')])"
   ]
  },
  {
   "cell_type": "code",
   "execution_count": 75,
   "id": "bdf8ebb2",
   "metadata": {},
   "outputs": [
    {
     "name": "stdout",
     "output_type": "stream",
     "text": [
      "20, 45.85, 44.05, 45.95\n"
     ]
    }
   ],
   "source": [
    "print_stats(results[(results['type'] == 'ft') & (results['repo'] != 'all')])"
   ]
  },
  {
   "cell_type": "code",
   "execution_count": 76,
   "id": "9879a38e",
   "metadata": {},
   "outputs": [
    {
     "name": "stdout",
     "output_type": "stream",
     "text": [
      "10, 54.47, 56.27, 50.31\n"
     ]
    }
   ],
   "source": [
    "print_stats(results[(results['type'] == '_conf') & (results['repo'] != 'all')])"
   ]
  },
  {
   "cell_type": "code",
   "execution_count": 77,
   "id": "caadf7b4",
   "metadata": {},
   "outputs": [
    {
     "name": "stdout",
     "output_type": "stream",
     "text": [
      "10, 34.62, 34.62, 35.02\n"
     ]
    }
   ],
   "source": [
    "print_stats(results[(results['type'] == '_conf') & (results['repo'] == 'all')])"
   ]
  },
  {
   "cell_type": "code",
   "execution_count": 78,
   "id": "dd0d3afc",
   "metadata": {},
   "outputs": [
    {
     "name": "stdout",
     "output_type": "stream",
     "text": [
      "10, 59.36, 60.41, 56.31\n"
     ]
    }
   ],
   "source": [
    "print_stats(results[(results['type'] == '_distance') & (results['repo'] != 'all')])"
   ]
  },
  {
   "cell_type": "code",
   "execution_count": 79,
   "id": "b7d727ed",
   "metadata": {},
   "outputs": [
    {
     "name": "stdout",
     "output_type": "stream",
     "text": [
      "10, 33.32, 33.32, 34.00\n"
     ]
    }
   ],
   "source": [
    "print_stats(results[(results['type'] == '_distance') & (results['repo'] == 'all')])"
   ]
  },
  {
   "cell_type": "code",
   "execution_count": 80,
   "id": "72ee1894",
   "metadata": {},
   "outputs": [
    {
     "name": "stdout",
     "output_type": "stream",
     "text": [
      "10, 50.64, 50.46, 46.35\n"
     ]
    }
   ],
   "source": [
    "print_stats(results[(results['type'] == '_length_input') & (results['repo'] != 'all')])"
   ]
  },
  {
   "cell_type": "code",
   "execution_count": 81,
   "id": "db37b61b",
   "metadata": {},
   "outputs": [
    {
     "name": "stdout",
     "output_type": "stream",
     "text": [
      "10, 54.68, 56.04, 51.62\n"
     ]
    }
   ],
   "source": [
    "print_stats(results[(results['type'] == '_length_label') & (results['repo'] != 'all')])"
   ]
  },
  {
   "cell_type": "code",
   "execution_count": 82,
   "id": "cc5cef96",
   "metadata": {},
   "outputs": [
    {
     "name": "stdout",
     "output_type": "stream",
     "text": [
      "10, 35.12, 35.12, 35.02\n"
     ]
    }
   ],
   "source": [
    "print_stats(results[(results['type'] == '_length_input') & (results['repo'] == 'all')])"
   ]
  },
  {
   "cell_type": "code",
   "execution_count": 83,
   "id": "ce929e9b",
   "metadata": {},
   "outputs": [
    {
     "name": "stdout",
     "output_type": "stream",
     "text": [
      "10, 55.11, 55.65, 47.88\n"
     ]
    }
   ],
   "source": [
    "print_stats(results[(results['type'] == 'bt') & (results['repo'] != 'all')])"
   ]
  },
  {
   "cell_type": "code",
   "execution_count": 84,
   "id": "ec23fdbc",
   "metadata": {},
   "outputs": [
    {
     "name": "stdout",
     "output_type": "stream",
     "text": [
      "0, nan, nan, nan\n"
     ]
    },
    {
     "name": "stderr",
     "output_type": "stream",
     "text": [
      "/tmp/ipykernel_39246/3509975532.py:2: RuntimeWarning: invalid value encountered in double_scalars\n",
      "  print(f\"{len(df)}, {100 * (df['true_acc'] * df['samples']).sum() / df['samples'].sum():.2f}, {100 * df['true_acc'].mean():.2f}, {100 * df['true_acc'].median():.2f}\")\n"
     ]
    }
   ],
   "source": [
    "print_stats(results[(results['type'] == 'bt') & (results['repo'] == 'all')])"
   ]
  },
  {
   "cell_type": "code",
   "execution_count": 85,
   "id": "5a419387",
   "metadata": {},
   "outputs": [
    {
     "name": "stdout",
     "output_type": "stream",
     "text": [
      "10, 55.11, 55.65, 47.88\n"
     ]
    }
   ],
   "source": [
    "print_stats(results[(results['type'] == 'bt') & (results['repo'] != 'all')])"
   ]
  },
  {
   "cell_type": "code",
   "execution_count": 86,
   "id": "478a8c93",
   "metadata": {},
   "outputs": [
    {
     "data": {
      "text/plain": [
       "'3.0'"
      ]
     },
     "execution_count": 86,
     "metadata": {},
     "output_type": "execute_result"
    }
   ],
   "source": [
    "f\"{2.96:.1f}\""
   ]
  },
  {
   "cell_type": "code",
   "execution_count": 87,
   "id": "558fe756",
   "metadata": {},
   "outputs": [
    {
     "data": {
      "text/html": [
       "<div>\n",
       "<style scoped>\n",
       "    .dataframe tbody tr th:only-of-type {\n",
       "        vertical-align: middle;\n",
       "    }\n",
       "\n",
       "    .dataframe tbody tr th {\n",
       "        vertical-align: top;\n",
       "    }\n",
       "\n",
       "    .dataframe thead th {\n",
       "        text-align: right;\n",
       "    }\n",
       "</style>\n",
       "<table border=\"1\" class=\"dataframe\">\n",
       "  <thead>\n",
       "    <tr style=\"text-align: right;\">\n",
       "      <th></th>\n",
       "      <th>repo</th>\n",
       "      <th>true_acc</th>\n",
       "    </tr>\n",
       "  </thead>\n",
       "  <tbody>\n",
       "    <tr>\n",
       "      <th>11</th>\n",
       "      <td>/data/all/data/qooxdoo/qooxdoo</td>\n",
       "      <td>0.582609</td>\n",
       "    </tr>\n",
       "    <tr>\n",
       "      <th>12</th>\n",
       "      <td>/data/all/data/elastic/kibana</td>\n",
       "      <td>0.607843</td>\n",
       "    </tr>\n",
       "    <tr>\n",
       "      <th>13</th>\n",
       "      <td>/data/all/data/emberjs/ember.js</td>\n",
       "      <td>0.659574</td>\n",
       "    </tr>\n",
       "    <tr>\n",
       "      <th>14</th>\n",
       "      <td>/data/all/data/zloirock/core-js</td>\n",
       "      <td>0.512195</td>\n",
       "    </tr>\n",
       "    <tr>\n",
       "      <th>16</th>\n",
       "      <td>/data/all/data/sequelize/sequelize</td>\n",
       "      <td>0.550000</td>\n",
       "    </tr>\n",
       "    <tr>\n",
       "      <th>15</th>\n",
       "      <td>/data/all/data/Encapsule-Annex/onm</td>\n",
       "      <td>1.000000</td>\n",
       "    </tr>\n",
       "    <tr>\n",
       "      <th>17</th>\n",
       "      <td>/data/all/data/dcos/dcos-ui</td>\n",
       "      <td>0.864865</td>\n",
       "    </tr>\n",
       "    <tr>\n",
       "      <th>18</th>\n",
       "      <td>/data/all/data/LivelyKernel/LivelyKernel</td>\n",
       "      <td>0.694444</td>\n",
       "    </tr>\n",
       "    <tr>\n",
       "      <th>20</th>\n",
       "      <td>/data/all/data/foam-framework/foam</td>\n",
       "      <td>0.424242</td>\n",
       "    </tr>\n",
       "    <tr>\n",
       "      <th>19</th>\n",
       "      <td>/data/all/data/svgdotjs/svg.js</td>\n",
       "      <td>0.741935</td>\n",
       "    </tr>\n",
       "  </tbody>\n",
       "</table>\n",
       "</div>"
      ],
      "text/plain": [
       "                                        repo  true_acc\n",
       "11            /data/all/data/qooxdoo/qooxdoo  0.582609\n",
       "12             /data/all/data/elastic/kibana  0.607843\n",
       "13           /data/all/data/emberjs/ember.js  0.659574\n",
       "14           /data/all/data/zloirock/core-js  0.512195\n",
       "16        /data/all/data/sequelize/sequelize  0.550000\n",
       "15        /data/all/data/Encapsule-Annex/onm  1.000000\n",
       "17               /data/all/data/dcos/dcos-ui  0.864865\n",
       "18  /data/all/data/LivelyKernel/LivelyKernel  0.694444\n",
       "20        /data/all/data/foam-framework/foam  0.424242\n",
       "19            /data/all/data/svgdotjs/svg.js  0.741935"
      ]
     },
     "execution_count": 87,
     "metadata": {},
     "output_type": "execute_result"
    }
   ],
   "source": [
    "results[(results['type'] == 'included') & (results['repo'] != 'all')].sort_values(by='samples', ascending=False)[['repo', 'true_acc']]"
   ]
  },
  {
   "cell_type": "code",
   "execution_count": 88,
   "id": "caf24d71",
   "metadata": {},
   "outputs": [
    {
     "data": {
      "text/html": [
       "<div>\n",
       "<style scoped>\n",
       "    .dataframe tbody tr th:only-of-type {\n",
       "        vertical-align: middle;\n",
       "    }\n",
       "\n",
       "    .dataframe tbody tr th {\n",
       "        vertical-align: top;\n",
       "    }\n",
       "\n",
       "    .dataframe thead th {\n",
       "        text-align: right;\n",
       "    }\n",
       "</style>\n",
       "<table border=\"1\" class=\"dataframe\">\n",
       "  <thead>\n",
       "    <tr style=\"text-align: right;\">\n",
       "      <th></th>\n",
       "      <th>name</th>\n",
       "      <th>repo</th>\n",
       "      <th>acc</th>\n",
       "      <th>#w</th>\n",
       "      <th>samples</th>\n",
       "      <th>time</th>\n",
       "      <th>model</th>\n",
       "      <th>model_address</th>\n",
       "      <th>split</th>\n",
       "      <th>true_acc</th>\n",
       "      <th>type</th>\n",
       "    </tr>\n",
       "  </thead>\n",
       "  <tbody>\n",
       "    <tr>\n",
       "      <th>52</th>\n",
       "      <td>withAdapter</td>\n",
       "      <td>/data/all/data/qooxdoo/qooxdoo</td>\n",
       "      <td>0.63</td>\n",
       "      <td>18</td>\n",
       "      <td>115</td>\n",
       "      <td>06-05-2022_14-06-47</td>\n",
       "      <td>t5-large</td>\n",
       "      <td>/scratch/arminz//tmp/adapted_large/</td>\n",
       "      <td>repo-based-included</td>\n",
       "      <td>0.634783</td>\n",
       "      <td>adapted</td>\n",
       "    </tr>\n",
       "    <tr>\n",
       "      <th>54</th>\n",
       "      <td>withAdapter</td>\n",
       "      <td>/data/all/data/elastic/kibana</td>\n",
       "      <td>0.57</td>\n",
       "      <td>17</td>\n",
       "      <td>51</td>\n",
       "      <td>06-05-2022_15-13-21</td>\n",
       "      <td>t5-large</td>\n",
       "      <td>/scratch/arminz//tmp/adapted_large/</td>\n",
       "      <td>repo-based-included</td>\n",
       "      <td>0.588235</td>\n",
       "      <td>adapted</td>\n",
       "    </tr>\n",
       "    <tr>\n",
       "      <th>56</th>\n",
       "      <td>withAdapter</td>\n",
       "      <td>/data/all/data/emberjs/ember.js</td>\n",
       "      <td>0.60</td>\n",
       "      <td>11</td>\n",
       "      <td>47</td>\n",
       "      <td>06-05-2022_16-21-56</td>\n",
       "      <td>t5-large</td>\n",
       "      <td>/scratch/arminz//tmp/adapted_large/</td>\n",
       "      <td>repo-based-included</td>\n",
       "      <td>0.617021</td>\n",
       "      <td>adapted</td>\n",
       "    </tr>\n",
       "    <tr>\n",
       "      <th>58</th>\n",
       "      <td>withAdapter</td>\n",
       "      <td>/data/all/data/zloirock/core-js</td>\n",
       "      <td>0.51</td>\n",
       "      <td>8</td>\n",
       "      <td>41</td>\n",
       "      <td>06-05-2022_17-29-38</td>\n",
       "      <td>t5-large</td>\n",
       "      <td>/scratch/arminz//tmp/adapted_large/</td>\n",
       "      <td>repo-based-included</td>\n",
       "      <td>0.512195</td>\n",
       "      <td>adapted</td>\n",
       "    </tr>\n",
       "    <tr>\n",
       "      <th>62</th>\n",
       "      <td>withAdapter</td>\n",
       "      <td>/data/all/data/sequelize/sequelize</td>\n",
       "      <td>0.60</td>\n",
       "      <td>12</td>\n",
       "      <td>40</td>\n",
       "      <td>06-05-2022_19-51-29</td>\n",
       "      <td>t5-large</td>\n",
       "      <td>/scratch/arminz//tmp/adapted_large/</td>\n",
       "      <td>repo-based-included</td>\n",
       "      <td>0.600000</td>\n",
       "      <td>adapted</td>\n",
       "    </tr>\n",
       "    <tr>\n",
       "      <th>60</th>\n",
       "      <td>withAdapter</td>\n",
       "      <td>/data/all/data/Encapsule-Annex/onm</td>\n",
       "      <td>1.00</td>\n",
       "      <td>1</td>\n",
       "      <td>39</td>\n",
       "      <td>06-05-2022_18-38-27</td>\n",
       "      <td>t5-large</td>\n",
       "      <td>/scratch/arminz//tmp/adapted_large/</td>\n",
       "      <td>repo-based-included</td>\n",
       "      <td>1.000000</td>\n",
       "      <td>adapted</td>\n",
       "    </tr>\n",
       "    <tr>\n",
       "      <th>64</th>\n",
       "      <td>withAdapter</td>\n",
       "      <td>/data/all/data/dcos/dcos-ui</td>\n",
       "      <td>0.89</td>\n",
       "      <td>9</td>\n",
       "      <td>37</td>\n",
       "      <td>06-05-2022_21-01-23</td>\n",
       "      <td>t5-large</td>\n",
       "      <td>/scratch/arminz//tmp/adapted_large/</td>\n",
       "      <td>repo-based-included</td>\n",
       "      <td>0.891892</td>\n",
       "      <td>adapted</td>\n",
       "    </tr>\n",
       "    <tr>\n",
       "      <th>66</th>\n",
       "      <td>withAdapter</td>\n",
       "      <td>/data/all/data/LivelyKernel/LivelyKernel</td>\n",
       "      <td>0.67</td>\n",
       "      <td>12</td>\n",
       "      <td>36</td>\n",
       "      <td>06-05-2022_22-10-38</td>\n",
       "      <td>t5-large</td>\n",
       "      <td>/scratch/arminz//tmp/adapted_large/</td>\n",
       "      <td>repo-based-included</td>\n",
       "      <td>0.694444</td>\n",
       "      <td>adapted</td>\n",
       "    </tr>\n",
       "    <tr>\n",
       "      <th>70</th>\n",
       "      <td>withAdapter</td>\n",
       "      <td>/data/all/data/foam-framework/foam</td>\n",
       "      <td>0.39</td>\n",
       "      <td>13</td>\n",
       "      <td>33</td>\n",
       "      <td>07-05-2022_00-34-43</td>\n",
       "      <td>t5-large</td>\n",
       "      <td>/scratch/arminz//tmp/adapted_large/</td>\n",
       "      <td>repo-based-included</td>\n",
       "      <td>0.393939</td>\n",
       "      <td>adapted</td>\n",
       "    </tr>\n",
       "    <tr>\n",
       "      <th>68</th>\n",
       "      <td>withAdapter</td>\n",
       "      <td>/data/all/data/svgdotjs/svg.js</td>\n",
       "      <td>0.84</td>\n",
       "      <td>5</td>\n",
       "      <td>31</td>\n",
       "      <td>06-05-2022_23-21-00</td>\n",
       "      <td>t5-large</td>\n",
       "      <td>/scratch/arminz//tmp/adapted_large/</td>\n",
       "      <td>repo-based-included</td>\n",
       "      <td>0.870968</td>\n",
       "      <td>adapted</td>\n",
       "    </tr>\n",
       "  </tbody>\n",
       "</table>\n",
       "</div>"
      ],
      "text/plain": [
       "           name                                      repo   acc  #w  samples  \\\n",
       "52  withAdapter            /data/all/data/qooxdoo/qooxdoo  0.63  18      115   \n",
       "54  withAdapter             /data/all/data/elastic/kibana  0.57  17       51   \n",
       "56  withAdapter           /data/all/data/emberjs/ember.js  0.60  11       47   \n",
       "58  withAdapter           /data/all/data/zloirock/core-js  0.51   8       41   \n",
       "62  withAdapter        /data/all/data/sequelize/sequelize  0.60  12       40   \n",
       "60  withAdapter        /data/all/data/Encapsule-Annex/onm  1.00   1       39   \n",
       "64  withAdapter               /data/all/data/dcos/dcos-ui  0.89   9       37   \n",
       "66  withAdapter  /data/all/data/LivelyKernel/LivelyKernel  0.67  12       36   \n",
       "70  withAdapter        /data/all/data/foam-framework/foam  0.39  13       33   \n",
       "68  withAdapter            /data/all/data/svgdotjs/svg.js  0.84   5       31   \n",
       "\n",
       "                   time     model                        model_address  \\\n",
       "52  06-05-2022_14-06-47  t5-large  /scratch/arminz//tmp/adapted_large/   \n",
       "54  06-05-2022_15-13-21  t5-large  /scratch/arminz//tmp/adapted_large/   \n",
       "56  06-05-2022_16-21-56  t5-large  /scratch/arminz//tmp/adapted_large/   \n",
       "58  06-05-2022_17-29-38  t5-large  /scratch/arminz//tmp/adapted_large/   \n",
       "62  06-05-2022_19-51-29  t5-large  /scratch/arminz//tmp/adapted_large/   \n",
       "60  06-05-2022_18-38-27  t5-large  /scratch/arminz//tmp/adapted_large/   \n",
       "64  06-05-2022_21-01-23  t5-large  /scratch/arminz//tmp/adapted_large/   \n",
       "66  06-05-2022_22-10-38  t5-large  /scratch/arminz//tmp/adapted_large/   \n",
       "70  07-05-2022_00-34-43  t5-large  /scratch/arminz//tmp/adapted_large/   \n",
       "68  06-05-2022_23-21-00  t5-large  /scratch/arminz//tmp/adapted_large/   \n",
       "\n",
       "                  split  true_acc     type  \n",
       "52  repo-based-included  0.634783  adapted  \n",
       "54  repo-based-included  0.588235  adapted  \n",
       "56  repo-based-included  0.617021  adapted  \n",
       "58  repo-based-included  0.512195  adapted  \n",
       "62  repo-based-included  0.600000  adapted  \n",
       "60  repo-based-included  1.000000  adapted  \n",
       "64  repo-based-included  0.891892  adapted  \n",
       "66  repo-based-included  0.694444  adapted  \n",
       "70  repo-based-included  0.393939  adapted  \n",
       "68  repo-based-included  0.870968  adapted  "
      ]
     },
     "execution_count": 88,
     "metadata": {},
     "output_type": "execute_result"
    }
   ],
   "source": [
    "results[(results['type'] == 'adapted') & (results['repo'] != 'all')].sort_values(by='samples', ascending=False)"
   ]
  },
  {
   "cell_type": "code",
   "execution_count": 89,
   "id": "07b73529",
   "metadata": {},
   "outputs": [
    {
     "data": {
      "text/html": [
       "<div>\n",
       "<style scoped>\n",
       "    .dataframe tbody tr th:only-of-type {\n",
       "        vertical-align: middle;\n",
       "    }\n",
       "\n",
       "    .dataframe tbody tr th {\n",
       "        vertical-align: top;\n",
       "    }\n",
       "\n",
       "    .dataframe thead th {\n",
       "        text-align: right;\n",
       "    }\n",
       "</style>\n",
       "<table border=\"1\" class=\"dataframe\">\n",
       "  <thead>\n",
       "    <tr style=\"text-align: right;\">\n",
       "      <th></th>\n",
       "      <th>name</th>\n",
       "      <th>repo</th>\n",
       "      <th>acc</th>\n",
       "      <th>#w</th>\n",
       "      <th>samples</th>\n",
       "      <th>time</th>\n",
       "      <th>model</th>\n",
       "      <th>model_address</th>\n",
       "      <th>split</th>\n",
       "      <th>true_acc</th>\n",
       "      <th>type</th>\n",
       "    </tr>\n",
       "  </thead>\n",
       "  <tbody>\n",
       "  </tbody>\n",
       "</table>\n",
       "</div>"
      ],
      "text/plain": [
       "Empty DataFrame\n",
       "Columns: [name, repo, acc, #w, samples, time, model, model_address, split, true_acc, type]\n",
       "Index: []"
      ]
     },
     "execution_count": 89,
     "metadata": {},
     "output_type": "execute_result"
    }
   ],
   "source": [
    "results[(results['type'] == 'adapted') & (results['repo'] != 'all') & results['split'].isna()]"
   ]
  },
  {
   "cell_type": "code",
   "execution_count": 90,
   "id": "d494f9d9",
   "metadata": {},
   "outputs": [],
   "source": [
    "from matplotlib import pyplot as plt"
   ]
  },
  {
   "cell_type": "code",
   "execution_count": 91,
   "id": "21b82f69",
   "metadata": {},
   "outputs": [
    {
     "ename": "NameError",
     "evalue": "name 'inc_2' is not defined",
     "output_type": "error",
     "traceback": [
      "\u001b[0;31m---------------------------------------------------------------------------\u001b[0m",
      "\u001b[0;31mNameError\u001b[0m                                 Traceback (most recent call last)",
      "\u001b[0;32m/tmp/ipykernel_39246/4212831111.py\u001b[0m in \u001b[0;36m<module>\u001b[0;34m\u001b[0m\n\u001b[0;32m----> 1\u001b[0;31m \u001b[0mplt\u001b[0m\u001b[0;34m.\u001b[0m\u001b[0mscatter\u001b[0m\u001b[0;34m(\u001b[0m\u001b[0minc_2\u001b[0m\u001b[0;34m[\u001b[0m\u001b[0;34m'samples'\u001b[0m\u001b[0;34m]\u001b[0m\u001b[0;34m,\u001b[0m \u001b[0minc_2\u001b[0m\u001b[0;34m[\u001b[0m\u001b[0;34m'acc'\u001b[0m\u001b[0;34m]\u001b[0m\u001b[0;34m,\u001b[0m \u001b[0mlabel\u001b[0m\u001b[0;34m=\u001b[0m\u001b[0;34m'included'\u001b[0m\u001b[0;34m)\u001b[0m\u001b[0;34m\u001b[0m\u001b[0;34m\u001b[0m\u001b[0m\n\u001b[0m\u001b[1;32m      2\u001b[0m \u001b[0mplt\u001b[0m\u001b[0;34m.\u001b[0m\u001b[0mscatter\u001b[0m\u001b[0;34m(\u001b[0m\u001b[0mexc_2\u001b[0m\u001b[0;34m[\u001b[0m\u001b[0;34m'samples'\u001b[0m\u001b[0;34m]\u001b[0m\u001b[0;34m,\u001b[0m \u001b[0mexc_2\u001b[0m\u001b[0;34m[\u001b[0m\u001b[0;34m'acc'\u001b[0m\u001b[0;34m]\u001b[0m\u001b[0;34m,\u001b[0m \u001b[0mlabel\u001b[0m\u001b[0;34m=\u001b[0m\u001b[0;34m'excluded'\u001b[0m\u001b[0;34m)\u001b[0m\u001b[0;34m\u001b[0m\u001b[0;34m\u001b[0m\u001b[0m\n\u001b[1;32m      3\u001b[0m \u001b[0mplt\u001b[0m\u001b[0;34m.\u001b[0m\u001b[0mscatter\u001b[0m\u001b[0;34m(\u001b[0m\u001b[0mgood_2\u001b[0m\u001b[0;34m[\u001b[0m\u001b[0;34m'samples'\u001b[0m\u001b[0;34m]\u001b[0m\u001b[0;34m,\u001b[0m \u001b[0mgood_2\u001b[0m\u001b[0;34m[\u001b[0m\u001b[0;34m'acc'\u001b[0m\u001b[0;34m]\u001b[0m\u001b[0;34m,\u001b[0m \u001b[0mlabel\u001b[0m\u001b[0;34m=\u001b[0m\u001b[0;34m'tuned'\u001b[0m\u001b[0;34m)\u001b[0m\u001b[0;34m\u001b[0m\u001b[0;34m\u001b[0m\u001b[0m\n\u001b[1;32m      4\u001b[0m \u001b[0mplt\u001b[0m\u001b[0;34m.\u001b[0m\u001b[0mscatter\u001b[0m\u001b[0;34m(\u001b[0m\u001b[0madapter\u001b[0m\u001b[0;34m[\u001b[0m\u001b[0;34m'samples'\u001b[0m\u001b[0;34m]\u001b[0m\u001b[0;34m,\u001b[0m \u001b[0madapter\u001b[0m\u001b[0;34m[\u001b[0m\u001b[0;34m'acc'\u001b[0m\u001b[0;34m]\u001b[0m\u001b[0;34m,\u001b[0m \u001b[0mlabel\u001b[0m\u001b[0;34m=\u001b[0m\u001b[0;34m'tuned with adapter'\u001b[0m\u001b[0;34m)\u001b[0m\u001b[0;34m\u001b[0m\u001b[0;34m\u001b[0m\u001b[0m\n\u001b[1;32m      5\u001b[0m \u001b[0mplt\u001b[0m\u001b[0;34m.\u001b[0m\u001b[0mlegend\u001b[0m\u001b[0;34m(\u001b[0m\u001b[0;34m)\u001b[0m\u001b[0;34m\u001b[0m\u001b[0;34m\u001b[0m\u001b[0m\n",
      "\u001b[0;31mNameError\u001b[0m: name 'inc_2' is not defined"
     ]
    }
   ],
   "source": [
    "plt.scatter(inc_2['samples'], inc_2['acc'], label='included')\n",
    "plt.scatter(exc_2['samples'], exc_2['acc'], label='excluded')\n",
    "plt.scatter(good_2['samples'], good_2['acc'], label='tuned')\n",
    "plt.scatter(adapter['samples'], adapter['acc'], label='tuned with adapter')\n",
    "plt.legend()"
   ]
  },
  {
   "cell_type": "code",
   "execution_count": null,
   "id": "e55a3da6",
   "metadata": {},
   "outputs": [],
   "source": [
    "diff_inc = inc_2.set_index('repo').join(inc_2.set_index('repo')['acc'] - exc_2.set_index('repo')['acc'], rsuffix='ـdiff')"
   ]
  },
  {
   "cell_type": "code",
   "execution_count": null,
   "id": "fc121a17",
   "metadata": {},
   "outputs": [],
   "source": [
    "diff_good = good_2.set_index('repo').join(good_2.set_index('repo')['acc'] - exc_2.set_index('repo')['acc'], rsuffix='ـdiff')"
   ]
  },
  {
   "cell_type": "code",
   "execution_count": null,
   "id": "001d24d7",
   "metadata": {},
   "outputs": [],
   "source": [
    "diff_adapter = adapter.set_index('repo').join(adapter.set_index('repo')['acc'] - exc_2.set_index('repo')['acc'], rsuffix='ـdiff')"
   ]
  },
  {
   "cell_type": "code",
   "execution_count": null,
   "id": "d9e46c12",
   "metadata": {},
   "outputs": [],
   "source": [
    "plt.scatter(diff_inc['samples'], diff_inc['acc'], label='included')\n",
    "plt.scatter(diff_adapter['samples'], diff_adapter['acc'], label='adapter')\n",
    "plt.legend()"
   ]
  },
  {
   "cell_type": "code",
   "execution_count": null,
   "id": "774b0c24",
   "metadata": {},
   "outputs": [],
   "source": [
    "plt.scatter(diff_good['samples'], diff_good['acc'], label='good')\n"
   ]
  },
  {
   "cell_type": "code",
   "execution_count": null,
   "id": "a2a82751",
   "metadata": {},
   "outputs": [],
   "source": [
    "plt.scatter(diff_adapter['samples'], diff_adapter['acc'], label='adapter')\n"
   ]
  },
  {
   "cell_type": "code",
   "execution_count": 13,
   "id": "b6a5cb73",
   "metadata": {},
   "outputs": [],
   "source": [
    "import math\n",
    "results['true_acc'] = (results['acc'] * results['samples']).apply(math.ceil) / results['samples']"
   ]
  },
  {
   "cell_type": "code",
   "execution_count": 15,
   "id": "b3906200",
   "metadata": {},
   "outputs": [
    {
     "data": {
      "text/html": [
       "<div>\n",
       "<style scoped>\n",
       "    .dataframe tbody tr th:only-of-type {\n",
       "        vertical-align: middle;\n",
       "    }\n",
       "\n",
       "    .dataframe tbody tr th {\n",
       "        vertical-align: top;\n",
       "    }\n",
       "\n",
       "    .dataframe thead th {\n",
       "        text-align: right;\n",
       "    }\n",
       "</style>\n",
       "<table border=\"1\" class=\"dataframe\">\n",
       "  <thead>\n",
       "    <tr style=\"text-align: right;\">\n",
       "      <th></th>\n",
       "      <th>name</th>\n",
       "      <th>repo</th>\n",
       "      <th>acc</th>\n",
       "      <th>#w</th>\n",
       "      <th>samples</th>\n",
       "      <th>time</th>\n",
       "      <th>model</th>\n",
       "      <th>model_address</th>\n",
       "      <th>split</th>\n",
       "      <th>type</th>\n",
       "      <th>true_acc</th>\n",
       "    </tr>\n",
       "  </thead>\n",
       "  <tbody>\n",
       "    <tr>\n",
       "      <th>0</th>\n",
       "      <td>NaN</td>\n",
       "      <td>/data/all/data/qooxdoo/qooxdoo</td>\n",
       "      <td>0.48</td>\n",
       "      <td>18</td>\n",
       "      <td>115</td>\n",
       "      <td>24-01-2022_16-16-11</td>\n",
       "      <td>t5-small</td>\n",
       "      <td>t5-small_repo-based_21-01-2022_10-29-42/checkp...</td>\n",
       "      <td>0.2</td>\n",
       "      <td>excluded</td>\n",
       "      <td>0.486957</td>\n",
       "    </tr>\n",
       "    <tr>\n",
       "      <th>1</th>\n",
       "      <td>NaN</td>\n",
       "      <td>/data/all/data/elastic/kibana</td>\n",
       "      <td>0.43</td>\n",
       "      <td>17</td>\n",
       "      <td>51</td>\n",
       "      <td>24-01-2022_16-17-24</td>\n",
       "      <td>t5-small</td>\n",
       "      <td>t5-small_repo-based_21-01-2022_10-29-42/checkp...</td>\n",
       "      <td>0.2</td>\n",
       "      <td>excluded</td>\n",
       "      <td>0.431373</td>\n",
       "    </tr>\n",
       "  </tbody>\n",
       "</table>\n",
       "</div>"
      ],
      "text/plain": [
       "  name                            repo   acc  #w  samples  \\\n",
       "0  NaN  /data/all/data/qooxdoo/qooxdoo  0.48  18      115   \n",
       "1  NaN   /data/all/data/elastic/kibana  0.43  17       51   \n",
       "\n",
       "                  time     model  \\\n",
       "0  24-01-2022_16-16-11  t5-small   \n",
       "1  24-01-2022_16-17-24  t5-small   \n",
       "\n",
       "                                       model_address split      type  true_acc  \n",
       "0  t5-small_repo-based_21-01-2022_10-29-42/checkp...   0.2  excluded  0.486957  \n",
       "1  t5-small_repo-based_21-01-2022_10-29-42/checkp...   0.2  excluded  0.431373  "
      ]
     },
     "execution_count": 15,
     "metadata": {},
     "output_type": "execute_result"
    }
   ],
   "source": [
    "results.head(2)"
   ]
  },
  {
   "cell_type": "code",
   "execution_count": null,
   "id": "eaba0944",
   "metadata": {},
   "outputs": [],
   "source": []
  }
 ],
 "metadata": {
  "kernelspec": {
   "display_name": "Python 3",
   "language": "python",
   "name": "python3"
  },
  "language_info": {
   "codemirror_mode": {
    "name": "ipython",
    "version": 3
   },
   "file_extension": ".py",
   "mimetype": "text/x-python",
   "name": "python",
   "nbconvert_exporter": "python",
   "pygments_lexer": "ipython3",
   "version": "3.8.10"
  }
 },
 "nbformat": 4,
 "nbformat_minor": 5
}
