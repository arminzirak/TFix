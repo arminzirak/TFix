{
 "cells": [
  {
   "cell_type": "code",
   "execution_count": 1,
   "id": "3457da68",
   "metadata": {},
   "outputs": [],
   "source": [
    "import pandas as pd"
   ]
  },
  {
   "cell_type": "code",
   "execution_count": 37,
   "id": "4845eec1",
   "metadata": {},
   "outputs": [],
   "source": [
    "large = True"
   ]
  },
  {
   "cell_type": "code",
   "execution_count": 38,
   "id": "1d3551f8",
   "metadata": {},
   "outputs": [
    {
     "data": {
      "text/html": [
       "<div>\n",
       "<style scoped>\n",
       "    .dataframe tbody tr th:only-of-type {\n",
       "        vertical-align: middle;\n",
       "    }\n",
       "\n",
       "    .dataframe tbody tr th {\n",
       "        vertical-align: top;\n",
       "    }\n",
       "\n",
       "    .dataframe thead th {\n",
       "        text-align: right;\n",
       "    }\n",
       "</style>\n",
       "<table border=\"1\" class=\"dataframe\">\n",
       "  <thead>\n",
       "    <tr style=\"text-align: right;\">\n",
       "      <th></th>\n",
       "      <th>name</th>\n",
       "      <th>repo</th>\n",
       "      <th>acc</th>\n",
       "      <th>#w</th>\n",
       "      <th>samples</th>\n",
       "      <th>time</th>\n",
       "      <th>model</th>\n",
       "      <th>model_address</th>\n",
       "      <th>split</th>\n",
       "    </tr>\n",
       "  </thead>\n",
       "  <tbody>\n",
       "    <tr>\n",
       "      <th>161</th>\n",
       "      <td>normal</td>\n",
       "      <td>/data/all/data/foam-framework/foam</td>\n",
       "      <td>0.36</td>\n",
       "      <td>13</td>\n",
       "      <td>33</td>\n",
       "      <td>10-05-2022_22-27-39</td>\n",
       "      <td>t5-large</td>\n",
       "      <td>/scratch/arminz/tmp/bt_t5-large//data/all/data...</td>\n",
       "      <td>repo-based-included</td>\n",
       "    </tr>\n",
       "  </tbody>\n",
       "</table>\n",
       "</div>"
      ],
      "text/plain": [
       "       name                                repo   acc  #w  samples  \\\n",
       "161  normal  /data/all/data/foam-framework/foam  0.36  13       33   \n",
       "\n",
       "                    time     model  \\\n",
       "161  10-05-2022_22-27-39  t5-large   \n",
       "\n",
       "                                         model_address                split  \n",
       "161  /scratch/arminz/tmp/bt_t5-large//data/all/data...  repo-based-included  "
      ]
     },
     "execution_count": 38,
     "metadata": {},
     "output_type": "execute_result"
    }
   ],
   "source": [
    "results = pd.read_csv('./results_large.csv' if large else './results.csv', names=['name', 'repo', 'acc', '#w', 'samples', 'time', 'model', 'model_address', 'split'])\n",
    "results.tail(1)"
   ]
  },
  {
   "cell_type": "code",
   "execution_count": 39,
   "id": "4df19157",
   "metadata": {},
   "outputs": [],
   "source": [
    "results = results[results['split'] != 0.5]\n",
    "results = results[results['model'] == f't5-{\"large\" if large else \"small\"}']"
   ]
  },
  {
   "cell_type": "code",
   "execution_count": 40,
   "id": "f494a5ad",
   "metadata": {},
   "outputs": [],
   "source": [
    "def extract_type_from_address(address):\n",
    "    for keyword in ['bt', '_length_input', '_length_label', '_conf', 'included', 'ft', 'basic', 'finetuned', 'adapted']:\n",
    "        if keyword in address:\n",
    "            if keyword == 'ft' and '0.3_4' in address:\n",
    "                return 'ft_0.3_4'\n",
    "            return keyword\n",
    "    return 'excluded'"
   ]
  },
  {
   "cell_type": "code",
   "execution_count": 41,
   "id": "5a2a95d4",
   "metadata": {},
   "outputs": [],
   "source": [
    "results['type'] = results['model_address'].apply(extract_type_from_address)"
   ]
  },
  {
   "cell_type": "code",
   "execution_count": 42,
   "id": "709d7395",
   "metadata": {},
   "outputs": [
    {
     "data": {
      "text/plain": [
       "ft               30\n",
       "finetuned        20\n",
       "adapted          20\n",
       "_conf            20\n",
       "_length_label    20\n",
       "_length_input    20\n",
       "excluded         11\n",
       "included         11\n",
       "bt               10\n",
       "Name: type, dtype: int64"
      ]
     },
     "execution_count": 42,
     "metadata": {},
     "output_type": "execute_result"
    }
   ],
   "source": [
    "results['type'].value_counts()"
   ]
  },
  {
   "cell_type": "code",
   "execution_count": 43,
   "id": "d2343ad2",
   "metadata": {},
   "outputs": [],
   "source": [
    "# results[results['type'] == 'ft']"
   ]
  },
  {
   "cell_type": "code",
   "execution_count": 44,
   "id": "7434efa0",
   "metadata": {},
   "outputs": [
    {
     "data": {
      "text/html": [
       "<div>\n",
       "<style scoped>\n",
       "    .dataframe tbody tr th:only-of-type {\n",
       "        vertical-align: middle;\n",
       "    }\n",
       "\n",
       "    .dataframe tbody tr th {\n",
       "        vertical-align: top;\n",
       "    }\n",
       "\n",
       "    .dataframe thead th {\n",
       "        text-align: right;\n",
       "    }\n",
       "</style>\n",
       "<table border=\"1\" class=\"dataframe\">\n",
       "  <thead>\n",
       "    <tr style=\"text-align: right;\">\n",
       "      <th></th>\n",
       "      <th>name</th>\n",
       "      <th>repo</th>\n",
       "      <th>acc</th>\n",
       "      <th>#w</th>\n",
       "      <th>samples</th>\n",
       "      <th>time</th>\n",
       "      <th>model</th>\n",
       "      <th>model_address</th>\n",
       "      <th>split</th>\n",
       "      <th>type</th>\n",
       "    </tr>\n",
       "  </thead>\n",
       "  <tbody>\n",
       "    <tr>\n",
       "      <th>159</th>\n",
       "      <td>normal</td>\n",
       "      <td>/data/all/data/LivelyKernel/LivelyKernel</td>\n",
       "      <td>0.64</td>\n",
       "      <td>12</td>\n",
       "      <td>36</td>\n",
       "      <td>10-05-2022_21-57-49</td>\n",
       "      <td>t5-large</td>\n",
       "      <td>/scratch/arminz/tmp/bt_t5-large//data/all/data...</td>\n",
       "      <td>repo-based-included</td>\n",
       "      <td>bt</td>\n",
       "    </tr>\n",
       "    <tr>\n",
       "      <th>160</th>\n",
       "      <td>normal</td>\n",
       "      <td>/data/all/data/svgdotjs/svg.js</td>\n",
       "      <td>0.10</td>\n",
       "      <td>5</td>\n",
       "      <td>31</td>\n",
       "      <td>10-05-2022_22-13-51</td>\n",
       "      <td>t5-large</td>\n",
       "      <td>/scratch/arminz/tmp/bt_t5-large//data/all/data...</td>\n",
       "      <td>repo-based-included</td>\n",
       "      <td>bt</td>\n",
       "    </tr>\n",
       "    <tr>\n",
       "      <th>161</th>\n",
       "      <td>normal</td>\n",
       "      <td>/data/all/data/foam-framework/foam</td>\n",
       "      <td>0.36</td>\n",
       "      <td>13</td>\n",
       "      <td>33</td>\n",
       "      <td>10-05-2022_22-27-39</td>\n",
       "      <td>t5-large</td>\n",
       "      <td>/scratch/arminz/tmp/bt_t5-large//data/all/data...</td>\n",
       "      <td>repo-based-included</td>\n",
       "      <td>bt</td>\n",
       "    </tr>\n",
       "  </tbody>\n",
       "</table>\n",
       "</div>"
      ],
      "text/plain": [
       "       name                                      repo   acc  #w  samples  \\\n",
       "159  normal  /data/all/data/LivelyKernel/LivelyKernel  0.64  12       36   \n",
       "160  normal            /data/all/data/svgdotjs/svg.js  0.10   5       31   \n",
       "161  normal        /data/all/data/foam-framework/foam  0.36  13       33   \n",
       "\n",
       "                    time     model  \\\n",
       "159  10-05-2022_21-57-49  t5-large   \n",
       "160  10-05-2022_22-13-51  t5-large   \n",
       "161  10-05-2022_22-27-39  t5-large   \n",
       "\n",
       "                                         model_address                split  \\\n",
       "159  /scratch/arminz/tmp/bt_t5-large//data/all/data...  repo-based-included   \n",
       "160  /scratch/arminz/tmp/bt_t5-large//data/all/data...  repo-based-included   \n",
       "161  /scratch/arminz/tmp/bt_t5-large//data/all/data...  repo-based-included   \n",
       "\n",
       "    type  \n",
       "159   bt  \n",
       "160   bt  \n",
       "161   bt  "
      ]
     },
     "execution_count": 44,
     "metadata": {},
     "output_type": "execute_result"
    }
   ],
   "source": [
    "results.tail(3)"
   ]
  },
  {
   "cell_type": "code",
   "execution_count": 45,
   "id": "be9b8fb2",
   "metadata": {},
   "outputs": [
    {
     "data": {
      "text/plain": [
       "'10.00, 1.00'"
      ]
     },
     "execution_count": 45,
     "metadata": {},
     "output_type": "execute_result"
    }
   ],
   "source": [
    "f'{10:.2f}, {1:.2f}'"
   ]
  },
  {
   "cell_type": "code",
   "execution_count": 46,
   "id": "130ee7f3",
   "metadata": {},
   "outputs": [],
   "source": [
    "def print_stats(df):\n",
    "    print(f\"{len(df)}, {100 * (df['acc'] * df['samples']).sum() / df['samples'].sum():.2f}, {100 * df['acc'].mean():.2f}, {100 * df['acc'].median():.2f}\")"
   ]
  },
  {
   "cell_type": "code",
   "execution_count": 47,
   "id": "54ab9749",
   "metadata": {},
   "outputs": [
    {
     "name": "stdout",
     "output_type": "stream",
     "text": [
      "10, 63.76, 65.10, 61.50\n"
     ]
    }
   ],
   "source": [
    "print_stats(results[(results['type'] == 'included') & (results['repo'] != 'all')])"
   ]
  },
  {
   "cell_type": "code",
   "execution_count": 48,
   "id": "f029e21c",
   "metadata": {},
   "outputs": [
    {
     "name": "stdout",
     "output_type": "stream",
     "text": [
      "10, 49.20, 49.20, 45.50\n"
     ]
    }
   ],
   "source": [
    "print_stats(results[(results['type'] == 'excluded') & (results['repo'] != 'all')])"
   ]
  },
  {
   "cell_type": "code",
   "execution_count": 49,
   "id": "8803447c",
   "metadata": {},
   "outputs": [
    {
     "name": "stdout",
     "output_type": "stream",
     "text": [
      "10, 64.84, 66.30, 63.50\n"
     ]
    }
   ],
   "source": [
    "print_stats(results[(results['type'] == 'finetuned') & (results['repo'] != 'all')])"
   ]
  },
  {
   "cell_type": "code",
   "execution_count": 50,
   "id": "cc63e505",
   "metadata": {},
   "outputs": [
    {
     "name": "stdout",
     "output_type": "stream",
     "text": [
      "10, 46.50, 46.50, 46.00\n"
     ]
    }
   ],
   "source": [
    "print_stats(results[(results['type'] == 'finetuned') & (results['repo'] == 'all')])"
   ]
  },
  {
   "cell_type": "code",
   "execution_count": 51,
   "id": "db68c1d9",
   "metadata": {},
   "outputs": [
    {
     "name": "stdout",
     "output_type": "stream",
     "text": [
      "10, 65.87, 67.00, 61.50\n"
     ]
    }
   ],
   "source": [
    "print_stats(results[(results['type'] == 'adapted') & (results['repo'] != 'all')])"
   ]
  },
  {
   "cell_type": "code",
   "execution_count": 52,
   "id": "f2a65a68",
   "metadata": {},
   "outputs": [
    {
     "name": "stdout",
     "output_type": "stream",
     "text": [
      "10, 43.90, 43.90, 44.00\n"
     ]
    }
   ],
   "source": [
    "print_stats(results[(results['type'] == 'adapted') & (results['repo'] == 'all')])"
   ]
  },
  {
   "cell_type": "code",
   "execution_count": 53,
   "id": "c66dc1f5",
   "metadata": {},
   "outputs": [
    {
     "name": "stdout",
     "output_type": "stream",
     "text": [
      "20, 44.86, 42.85, 45.00\n"
     ]
    }
   ],
   "source": [
    "print_stats(results[(results['type'] == 'ft') & (results['repo'] != 'all')])"
   ]
  },
  {
   "cell_type": "code",
   "execution_count": 54,
   "id": "3ae488e1",
   "metadata": {},
   "outputs": [
    {
     "name": "stdout",
     "output_type": "stream",
     "text": [
      "0, nan, nan, nan\n"
     ]
    },
    {
     "name": "stderr",
     "output_type": "stream",
     "text": [
      "/tmp/ipykernel_49347/2078206976.py:2: RuntimeWarning: invalid value encountered in double_scalars\n",
      "  print(f\"{len(df)}, {100 * (df['acc'] * df['samples']).sum() / df['samples'].sum():.2f}, {100 * df['acc'].mean():.2f}, {100 * df['acc'].median():.2f}\")\n"
     ]
    }
   ],
   "source": [
    "print_stats(results[(results['type'] == 'curr') & (results['repo'] != 'all')])"
   ]
  },
  {
   "cell_type": "code",
   "execution_count": 55,
   "id": "856d827c",
   "metadata": {},
   "outputs": [
    {
     "name": "stdout",
     "output_type": "stream",
     "text": [
      "0, nan, nan, nan\n"
     ]
    },
    {
     "name": "stderr",
     "output_type": "stream",
     "text": [
      "/tmp/ipykernel_49347/2078206976.py:2: RuntimeWarning: invalid value encountered in double_scalars\n",
      "  print(f\"{len(df)}, {100 * (df['acc'] * df['samples']).sum() / df['samples'].sum():.2f}, {100 * df['acc'].mean():.2f}, {100 * df['acc'].median():.2f}\")\n"
     ]
    }
   ],
   "source": [
    "print_stats(results[(results['type'] == 'curr') & (results['repo'] == 'all')])"
   ]
  },
  {
   "cell_type": "code",
   "execution_count": 56,
   "id": "0986f706",
   "metadata": {},
   "outputs": [
    {
     "name": "stdout",
     "output_type": "stream",
     "text": [
      "10, 43.90, 43.90, 44.00\n"
     ]
    }
   ],
   "source": [
    "print_stats(results[(results['type'] == 'adapted') & (results['repo'] == 'all')])"
   ]
  },
  {
   "cell_type": "code",
   "execution_count": 57,
   "id": "afbe6e3c",
   "metadata": {},
   "outputs": [
    {
     "name": "stdout",
     "output_type": "stream",
     "text": [
      "0, nan, nan, nan\n"
     ]
    },
    {
     "name": "stderr",
     "output_type": "stream",
     "text": [
      "/tmp/ipykernel_49347/2078206976.py:2: RuntimeWarning: invalid value encountered in double_scalars\n",
      "  print(f\"{len(df)}, {100 * (df['acc'] * df['samples']).sum() / df['samples'].sum():.2f}, {100 * df['acc'].mean():.2f}, {100 * df['acc'].median():.2f}\")\n"
     ]
    }
   ],
   "source": [
    "print_stats(results[(results['type'] == 'adapted') & (results['repo'] != 'all') & results['split'].isna()])"
   ]
  },
  {
   "cell_type": "code",
   "execution_count": 58,
   "id": "75ebd87b",
   "metadata": {},
   "outputs": [
    {
     "name": "stdout",
     "output_type": "stream",
     "text": [
      "10, 65.87, 67.00, 61.50\n"
     ]
    }
   ],
   "source": [
    "print_stats(results[(results['type'] == 'adapted') & (results['repo'] != 'all') & ~results['split'].isna()])"
   ]
  },
  {
   "cell_type": "code",
   "execution_count": 59,
   "id": "b727fb8b",
   "metadata": {},
   "outputs": [
    {
     "name": "stdout",
     "output_type": "stream",
     "text": [
      "0, nan, nan, nan\n"
     ]
    },
    {
     "name": "stderr",
     "output_type": "stream",
     "text": [
      "/tmp/ipykernel_49347/2078206976.py:2: RuntimeWarning: invalid value encountered in double_scalars\n",
      "  print(f\"{len(df)}, {100 * (df['acc'] * df['samples']).sum() / df['samples'].sum():.2f}, {100 * df['acc'].mean():.2f}, {100 * df['acc'].median():.2f}\")\n"
     ]
    }
   ],
   "source": [
    "print_stats(results[(results['type'] == 'ft_0.3_4') & (results['repo'] != 'all')])"
   ]
  },
  {
   "cell_type": "code",
   "execution_count": 60,
   "id": "26fbf97e",
   "metadata": {},
   "outputs": [
    {
     "name": "stdout",
     "output_type": "stream",
     "text": [
      "0, nan, nan, nan\n"
     ]
    },
    {
     "name": "stderr",
     "output_type": "stream",
     "text": [
      "/tmp/ipykernel_49347/2078206976.py:2: RuntimeWarning: invalid value encountered in double_scalars\n",
      "  print(f\"{len(df)}, {100 * (df['acc'] * df['samples']).sum() / df['samples'].sum():.2f}, {100 * df['acc'].mean():.2f}, {100 * df['acc'].median():.2f}\")\n"
     ]
    }
   ],
   "source": [
    "print_stats(results[(results['type'] == 'ft_0.3_4') & (results['repo'] == 'all')])"
   ]
  },
  {
   "cell_type": "code",
   "execution_count": 61,
   "id": "1a25a0e8",
   "metadata": {},
   "outputs": [
    {
     "name": "stdout",
     "output_type": "stream",
     "text": [
      "10, 84.10, 84.10, 84.50\n"
     ]
    }
   ],
   "source": [
    "print_stats(results[(results['type'] == 'ft') & (results['repo'] == 'all')])"
   ]
  },
  {
   "cell_type": "code",
   "execution_count": 62,
   "id": "bdf8ebb2",
   "metadata": {},
   "outputs": [
    {
     "name": "stdout",
     "output_type": "stream",
     "text": [
      "20, 44.86, 42.85, 45.00\n"
     ]
    }
   ],
   "source": [
    "print_stats(results[(results['type'] == 'ft') & (results['repo'] != 'all')])"
   ]
  },
  {
   "cell_type": "code",
   "execution_count": 63,
   "id": "9879a38e",
   "metadata": {},
   "outputs": [
    {
     "name": "stdout",
     "output_type": "stream",
     "text": [
      "10, 53.54, 55.20, 50.00\n"
     ]
    }
   ],
   "source": [
    "print_stats(results[(results['type'] == '_conf') & (results['repo'] != 'all')])"
   ]
  },
  {
   "cell_type": "code",
   "execution_count": 64,
   "id": "caadf7b4",
   "metadata": {},
   "outputs": [
    {
     "name": "stdout",
     "output_type": "stream",
     "text": [
      "10, 34.60, 34.60, 35.00\n"
     ]
    }
   ],
   "source": [
    "print_stats(results[(results['type'] == '_conf') & (results['repo'] == 'all')])"
   ]
  },
  {
   "cell_type": "code",
   "execution_count": 65,
   "id": "72ee1894",
   "metadata": {},
   "outputs": [
    {
     "name": "stdout",
     "output_type": "stream",
     "text": [
      "10, 54.00, 55.20, 51.50\n"
     ]
    }
   ],
   "source": [
    "print_stats(results[(results['type'] == '_length_label') & (results['repo'] != 'all')])"
   ]
  },
  {
   "cell_type": "code",
   "execution_count": 66,
   "id": "c9216529",
   "metadata": {},
   "outputs": [
    {
     "name": "stdout",
     "output_type": "stream",
     "text": [
      "10, 34.80, 34.80, 35.00\n"
     ]
    }
   ],
   "source": [
    "print_stats(results[(results['type'] == '_length_label') & (results['repo'] == 'all')])"
   ]
  },
  {
   "cell_type": "code",
   "execution_count": 67,
   "id": "db37b61b",
   "metadata": {},
   "outputs": [
    {
     "name": "stdout",
     "output_type": "stream",
     "text": [
      "10, 49.71, 49.40, 46.00\n"
     ]
    }
   ],
   "source": [
    "print_stats(results[(results['type'] == '_length_input') & (results['repo'] != 'all')])"
   ]
  },
  {
   "cell_type": "code",
   "execution_count": 68,
   "id": "cc5cef96",
   "metadata": {},
   "outputs": [
    {
     "name": "stdout",
     "output_type": "stream",
     "text": [
      "10, 35.10, 35.10, 35.00\n"
     ]
    }
   ],
   "source": [
    "print_stats(results[(results['type'] == '_length_input') & (results['repo'] == 'all')])"
   ]
  },
  {
   "cell_type": "code",
   "execution_count": 69,
   "id": "ce929e9b",
   "metadata": {},
   "outputs": [
    {
     "name": "stdout",
     "output_type": "stream",
     "text": [
      "10, 53.75, 54.10, 47.50\n"
     ]
    }
   ],
   "source": [
    "print_stats(results[(results['type'] == 'bt') & (results['repo'] != 'all')])"
   ]
  },
  {
   "cell_type": "code",
   "execution_count": 70,
   "id": "ec23fdbc",
   "metadata": {},
   "outputs": [
    {
     "name": "stdout",
     "output_type": "stream",
     "text": [
      "0, nan, nan, nan\n"
     ]
    },
    {
     "name": "stderr",
     "output_type": "stream",
     "text": [
      "/tmp/ipykernel_49347/2078206976.py:2: RuntimeWarning: invalid value encountered in double_scalars\n",
      "  print(f\"{len(df)}, {100 * (df['acc'] * df['samples']).sum() / df['samples'].sum():.2f}, {100 * df['acc'].mean():.2f}, {100 * df['acc'].median():.2f}\")\n"
     ]
    }
   ],
   "source": [
    "print_stats(results[(results['type'] == 'bt') & (results['repo'] == 'all')])"
   ]
  },
  {
   "cell_type": "code",
   "execution_count": 71,
   "id": "5a419387",
   "metadata": {},
   "outputs": [
    {
     "name": "stdout",
     "output_type": "stream",
     "text": [
      "10, 53.75, 54.10, 47.50\n"
     ]
    }
   ],
   "source": [
    "print_stats(results[(results['type'] == 'bt') & (results['repo'] != 'all')])"
   ]
  },
  {
   "cell_type": "code",
   "execution_count": 141,
   "id": "558fe756",
   "metadata": {},
   "outputs": [
    {
     "data": {
      "text/html": [
       "<div>\n",
       "<style scoped>\n",
       "    .dataframe tbody tr th:only-of-type {\n",
       "        vertical-align: middle;\n",
       "    }\n",
       "\n",
       "    .dataframe tbody tr th {\n",
       "        vertical-align: top;\n",
       "    }\n",
       "\n",
       "    .dataframe thead th {\n",
       "        text-align: right;\n",
       "    }\n",
       "</style>\n",
       "<table border=\"1\" class=\"dataframe\">\n",
       "  <thead>\n",
       "    <tr style=\"text-align: right;\">\n",
       "      <th></th>\n",
       "      <th>name</th>\n",
       "      <th>repo</th>\n",
       "      <th>acc</th>\n",
       "      <th>#w</th>\n",
       "      <th>samples</th>\n",
       "      <th>time</th>\n",
       "      <th>model</th>\n",
       "      <th>model_address</th>\n",
       "      <th>split</th>\n",
       "      <th>type</th>\n",
       "    </tr>\n",
       "  </thead>\n",
       "  <tbody>\n",
       "    <tr>\n",
       "      <th>22</th>\n",
       "      <td>withAdapter</td>\n",
       "      <td>/data/all/data/qooxdoo/qooxdoo</td>\n",
       "      <td>0.63</td>\n",
       "      <td>18</td>\n",
       "      <td>115</td>\n",
       "      <td>31-01-2022_17-30-12</td>\n",
       "      <td>t5-large</td>\n",
       "      <td>/scratch/arminz//tmp/adapted</td>\n",
       "      <td>NaN</td>\n",
       "      <td>adapted</td>\n",
       "    </tr>\n",
       "    <tr>\n",
       "      <th>23</th>\n",
       "      <td>withAdapter</td>\n",
       "      <td>/data/all/data/elastic/kibana</td>\n",
       "      <td>0.59</td>\n",
       "      <td>17</td>\n",
       "      <td>51</td>\n",
       "      <td>31-01-2022_17-39-08</td>\n",
       "      <td>t5-large</td>\n",
       "      <td>/scratch/arminz//tmp/adapted</td>\n",
       "      <td>NaN</td>\n",
       "      <td>adapted</td>\n",
       "    </tr>\n",
       "    <tr>\n",
       "      <th>24</th>\n",
       "      <td>withAdapter</td>\n",
       "      <td>/data/all/data/emberjs/ember.js</td>\n",
       "      <td>0.57</td>\n",
       "      <td>11</td>\n",
       "      <td>47</td>\n",
       "      <td>31-01-2022_17-47-51</td>\n",
       "      <td>t5-large</td>\n",
       "      <td>/scratch/arminz//tmp/adapted</td>\n",
       "      <td>NaN</td>\n",
       "      <td>adapted</td>\n",
       "    </tr>\n",
       "    <tr>\n",
       "      <th>25</th>\n",
       "      <td>withAdapter</td>\n",
       "      <td>/data/all/data/Encapsule-Annex/onm</td>\n",
       "      <td>1.00</td>\n",
       "      <td>1</td>\n",
       "      <td>39</td>\n",
       "      <td>31-01-2022_18-05-38</td>\n",
       "      <td>t5-large</td>\n",
       "      <td>/scratch/arminz//tmp/adapted</td>\n",
       "      <td>NaN</td>\n",
       "      <td>adapted</td>\n",
       "    </tr>\n",
       "    <tr>\n",
       "      <th>26</th>\n",
       "      <td>withAdapter</td>\n",
       "      <td>/data/all/data/dcos/dcos-ui</td>\n",
       "      <td>0.92</td>\n",
       "      <td>9</td>\n",
       "      <td>37</td>\n",
       "      <td>31-01-2022_18-22-39</td>\n",
       "      <td>t5-large</td>\n",
       "      <td>/scratch/arminz//tmp/adapted</td>\n",
       "      <td>NaN</td>\n",
       "      <td>adapted</td>\n",
       "    </tr>\n",
       "    <tr>\n",
       "      <th>27</th>\n",
       "      <td>withAdapter</td>\n",
       "      <td>/data/all/data/svgdotjs/svg.js</td>\n",
       "      <td>0.84</td>\n",
       "      <td>5</td>\n",
       "      <td>31</td>\n",
       "      <td>31-01-2022_18-38-53</td>\n",
       "      <td>t5-large</td>\n",
       "      <td>/scratch/arminz//tmp/adapted</td>\n",
       "      <td>NaN</td>\n",
       "      <td>adapted</td>\n",
       "    </tr>\n",
       "    <tr>\n",
       "      <th>28</th>\n",
       "      <td>withAdapter</td>\n",
       "      <td>/data/all/data/foam-framework/foam</td>\n",
       "      <td>0.39</td>\n",
       "      <td>13</td>\n",
       "      <td>33</td>\n",
       "      <td>31-01-2022_18-47-10</td>\n",
       "      <td>t5-large</td>\n",
       "      <td>/scratch/arminz//tmp/adapted</td>\n",
       "      <td>NaN</td>\n",
       "      <td>adapted</td>\n",
       "    </tr>\n",
       "    <tr>\n",
       "      <th>29</th>\n",
       "      <td>withAdapter</td>\n",
       "      <td>/data/all/data/sequelize/sequelize</td>\n",
       "      <td>0.50</td>\n",
       "      <td>12</td>\n",
       "      <td>40</td>\n",
       "      <td>31-01-2022_20-23-31</td>\n",
       "      <td>t5-large</td>\n",
       "      <td>/scratch/arminz//tmp/adapted</td>\n",
       "      <td>NaN</td>\n",
       "      <td>adapted</td>\n",
       "    </tr>\n",
       "    <tr>\n",
       "      <th>30</th>\n",
       "      <td>normal</td>\n",
       "      <td>/data/all/data/foam-framework/foam</td>\n",
       "      <td>0.42</td>\n",
       "      <td>13</td>\n",
       "      <td>33</td>\n",
       "      <td>31-01-2022_131-01-2022_20-32-47</td>\n",
       "      <td>t5-large</td>\n",
       "      <td>/scratch/arminz//tmp/adapted</td>\n",
       "      <td>NaN</td>\n",
       "      <td>adapted</td>\n",
       "    </tr>\n",
       "    <tr>\n",
       "      <th>31</th>\n",
       "      <td>withAdapter</td>\n",
       "      <td>/data/all/data/zloirock/core-js</td>\n",
       "      <td>0.59</td>\n",
       "      <td>8</td>\n",
       "      <td>41</td>\n",
       "      <td>01-02-2022_15-31-56</td>\n",
       "      <td>t5-large</td>\n",
       "      <td>/scratch/arminz//tmp/adapted</td>\n",
       "      <td>NaN</td>\n",
       "      <td>adapted</td>\n",
       "    </tr>\n",
       "  </tbody>\n",
       "</table>\n",
       "</div>"
      ],
      "text/plain": [
       "           name                                repo   acc  #w  samples  \\\n",
       "22  withAdapter      /data/all/data/qooxdoo/qooxdoo  0.63  18      115   \n",
       "23  withAdapter       /data/all/data/elastic/kibana  0.59  17       51   \n",
       "24  withAdapter     /data/all/data/emberjs/ember.js  0.57  11       47   \n",
       "25  withAdapter  /data/all/data/Encapsule-Annex/onm  1.00   1       39   \n",
       "26  withAdapter         /data/all/data/dcos/dcos-ui  0.92   9       37   \n",
       "27  withAdapter      /data/all/data/svgdotjs/svg.js  0.84   5       31   \n",
       "28  withAdapter  /data/all/data/foam-framework/foam  0.39  13       33   \n",
       "29  withAdapter  /data/all/data/sequelize/sequelize  0.50  12       40   \n",
       "30       normal  /data/all/data/foam-framework/foam  0.42  13       33   \n",
       "31  withAdapter     /data/all/data/zloirock/core-js  0.59   8       41   \n",
       "\n",
       "                               time     model                 model_address  \\\n",
       "22              31-01-2022_17-30-12  t5-large  /scratch/arminz//tmp/adapted   \n",
       "23              31-01-2022_17-39-08  t5-large  /scratch/arminz//tmp/adapted   \n",
       "24              31-01-2022_17-47-51  t5-large  /scratch/arminz//tmp/adapted   \n",
       "25              31-01-2022_18-05-38  t5-large  /scratch/arminz//tmp/adapted   \n",
       "26              31-01-2022_18-22-39  t5-large  /scratch/arminz//tmp/adapted   \n",
       "27              31-01-2022_18-38-53  t5-large  /scratch/arminz//tmp/adapted   \n",
       "28              31-01-2022_18-47-10  t5-large  /scratch/arminz//tmp/adapted   \n",
       "29              31-01-2022_20-23-31  t5-large  /scratch/arminz//tmp/adapted   \n",
       "30  31-01-2022_131-01-2022_20-32-47  t5-large  /scratch/arminz//tmp/adapted   \n",
       "31              01-02-2022_15-31-56  t5-large  /scratch/arminz//tmp/adapted   \n",
       "\n",
       "   split     type  \n",
       "22   NaN  adapted  \n",
       "23   NaN  adapted  \n",
       "24   NaN  adapted  \n",
       "25   NaN  adapted  \n",
       "26   NaN  adapted  \n",
       "27   NaN  adapted  \n",
       "28   NaN  adapted  \n",
       "29   NaN  adapted  \n",
       "30   NaN  adapted  \n",
       "31   NaN  adapted  "
      ]
     },
     "execution_count": 141,
     "metadata": {},
     "output_type": "execute_result"
    }
   ],
   "source": [
    "results[(results['type'] == 'adapted') & (results['repo'] != 'all') & results['split'].isna()]"
   ]
  },
  {
   "cell_type": "code",
   "execution_count": 135,
   "id": "07b73529",
   "metadata": {},
   "outputs": [
    {
     "data": {
      "text/html": [
       "<div>\n",
       "<style scoped>\n",
       "    .dataframe tbody tr th:only-of-type {\n",
       "        vertical-align: middle;\n",
       "    }\n",
       "\n",
       "    .dataframe tbody tr th {\n",
       "        vertical-align: top;\n",
       "    }\n",
       "\n",
       "    .dataframe thead th {\n",
       "        text-align: right;\n",
       "    }\n",
       "</style>\n",
       "<table border=\"1\" class=\"dataframe\">\n",
       "  <thead>\n",
       "    <tr style=\"text-align: right;\">\n",
       "      <th></th>\n",
       "      <th>name</th>\n",
       "      <th>repo</th>\n",
       "      <th>acc</th>\n",
       "      <th>#w</th>\n",
       "      <th>samples</th>\n",
       "      <th>time</th>\n",
       "      <th>model</th>\n",
       "      <th>model_address</th>\n",
       "      <th>split</th>\n",
       "      <th>type</th>\n",
       "    </tr>\n",
       "  </thead>\n",
       "  <tbody>\n",
       "    <tr>\n",
       "      <th>22</th>\n",
       "      <td>withAdapter</td>\n",
       "      <td>/data/all/data/qooxdoo/qooxdoo</td>\n",
       "      <td>0.63</td>\n",
       "      <td>18</td>\n",
       "      <td>115</td>\n",
       "      <td>31-01-2022_17-30-12</td>\n",
       "      <td>t5-large</td>\n",
       "      <td>/scratch/arminz//tmp/adapted</td>\n",
       "      <td>NaN</td>\n",
       "      <td>adapted</td>\n",
       "    </tr>\n",
       "    <tr>\n",
       "      <th>23</th>\n",
       "      <td>withAdapter</td>\n",
       "      <td>/data/all/data/elastic/kibana</td>\n",
       "      <td>0.59</td>\n",
       "      <td>17</td>\n",
       "      <td>51</td>\n",
       "      <td>31-01-2022_17-39-08</td>\n",
       "      <td>t5-large</td>\n",
       "      <td>/scratch/arminz//tmp/adapted</td>\n",
       "      <td>NaN</td>\n",
       "      <td>adapted</td>\n",
       "    </tr>\n",
       "    <tr>\n",
       "      <th>24</th>\n",
       "      <td>withAdapter</td>\n",
       "      <td>/data/all/data/emberjs/ember.js</td>\n",
       "      <td>0.57</td>\n",
       "      <td>11</td>\n",
       "      <td>47</td>\n",
       "      <td>31-01-2022_17-47-51</td>\n",
       "      <td>t5-large</td>\n",
       "      <td>/scratch/arminz//tmp/adapted</td>\n",
       "      <td>NaN</td>\n",
       "      <td>adapted</td>\n",
       "    </tr>\n",
       "    <tr>\n",
       "      <th>25</th>\n",
       "      <td>withAdapter</td>\n",
       "      <td>/data/all/data/Encapsule-Annex/onm</td>\n",
       "      <td>1.00</td>\n",
       "      <td>1</td>\n",
       "      <td>39</td>\n",
       "      <td>31-01-2022_18-05-38</td>\n",
       "      <td>t5-large</td>\n",
       "      <td>/scratch/arminz//tmp/adapted</td>\n",
       "      <td>NaN</td>\n",
       "      <td>adapted</td>\n",
       "    </tr>\n",
       "    <tr>\n",
       "      <th>26</th>\n",
       "      <td>withAdapter</td>\n",
       "      <td>/data/all/data/dcos/dcos-ui</td>\n",
       "      <td>0.92</td>\n",
       "      <td>9</td>\n",
       "      <td>37</td>\n",
       "      <td>31-01-2022_18-22-39</td>\n",
       "      <td>t5-large</td>\n",
       "      <td>/scratch/arminz//tmp/adapted</td>\n",
       "      <td>NaN</td>\n",
       "      <td>adapted</td>\n",
       "    </tr>\n",
       "    <tr>\n",
       "      <th>27</th>\n",
       "      <td>withAdapter</td>\n",
       "      <td>/data/all/data/svgdotjs/svg.js</td>\n",
       "      <td>0.84</td>\n",
       "      <td>5</td>\n",
       "      <td>31</td>\n",
       "      <td>31-01-2022_18-38-53</td>\n",
       "      <td>t5-large</td>\n",
       "      <td>/scratch/arminz//tmp/adapted</td>\n",
       "      <td>NaN</td>\n",
       "      <td>adapted</td>\n",
       "    </tr>\n",
       "    <tr>\n",
       "      <th>28</th>\n",
       "      <td>withAdapter</td>\n",
       "      <td>/data/all/data/foam-framework/foam</td>\n",
       "      <td>0.39</td>\n",
       "      <td>13</td>\n",
       "      <td>33</td>\n",
       "      <td>31-01-2022_18-47-10</td>\n",
       "      <td>t5-large</td>\n",
       "      <td>/scratch/arminz//tmp/adapted</td>\n",
       "      <td>NaN</td>\n",
       "      <td>adapted</td>\n",
       "    </tr>\n",
       "    <tr>\n",
       "      <th>29</th>\n",
       "      <td>withAdapter</td>\n",
       "      <td>/data/all/data/sequelize/sequelize</td>\n",
       "      <td>0.50</td>\n",
       "      <td>12</td>\n",
       "      <td>40</td>\n",
       "      <td>31-01-2022_20-23-31</td>\n",
       "      <td>t5-large</td>\n",
       "      <td>/scratch/arminz//tmp/adapted</td>\n",
       "      <td>NaN</td>\n",
       "      <td>adapted</td>\n",
       "    </tr>\n",
       "    <tr>\n",
       "      <th>30</th>\n",
       "      <td>normal</td>\n",
       "      <td>/data/all/data/foam-framework/foam</td>\n",
       "      <td>0.42</td>\n",
       "      <td>13</td>\n",
       "      <td>33</td>\n",
       "      <td>31-01-2022_131-01-2022_20-32-47</td>\n",
       "      <td>t5-large</td>\n",
       "      <td>/scratch/arminz//tmp/adapted</td>\n",
       "      <td>NaN</td>\n",
       "      <td>adapted</td>\n",
       "    </tr>\n",
       "    <tr>\n",
       "      <th>31</th>\n",
       "      <td>withAdapter</td>\n",
       "      <td>/data/all/data/zloirock/core-js</td>\n",
       "      <td>0.59</td>\n",
       "      <td>8</td>\n",
       "      <td>41</td>\n",
       "      <td>01-02-2022_15-31-56</td>\n",
       "      <td>t5-large</td>\n",
       "      <td>/scratch/arminz//tmp/adapted</td>\n",
       "      <td>NaN</td>\n",
       "      <td>adapted</td>\n",
       "    </tr>\n",
       "  </tbody>\n",
       "</table>\n",
       "</div>"
      ],
      "text/plain": [
       "           name                                repo   acc  #w  samples  \\\n",
       "22  withAdapter      /data/all/data/qooxdoo/qooxdoo  0.63  18      115   \n",
       "23  withAdapter       /data/all/data/elastic/kibana  0.59  17       51   \n",
       "24  withAdapter     /data/all/data/emberjs/ember.js  0.57  11       47   \n",
       "25  withAdapter  /data/all/data/Encapsule-Annex/onm  1.00   1       39   \n",
       "26  withAdapter         /data/all/data/dcos/dcos-ui  0.92   9       37   \n",
       "27  withAdapter      /data/all/data/svgdotjs/svg.js  0.84   5       31   \n",
       "28  withAdapter  /data/all/data/foam-framework/foam  0.39  13       33   \n",
       "29  withAdapter  /data/all/data/sequelize/sequelize  0.50  12       40   \n",
       "30       normal  /data/all/data/foam-framework/foam  0.42  13       33   \n",
       "31  withAdapter     /data/all/data/zloirock/core-js  0.59   8       41   \n",
       "\n",
       "                               time     model                 model_address  \\\n",
       "22              31-01-2022_17-30-12  t5-large  /scratch/arminz//tmp/adapted   \n",
       "23              31-01-2022_17-39-08  t5-large  /scratch/arminz//tmp/adapted   \n",
       "24              31-01-2022_17-47-51  t5-large  /scratch/arminz//tmp/adapted   \n",
       "25              31-01-2022_18-05-38  t5-large  /scratch/arminz//tmp/adapted   \n",
       "26              31-01-2022_18-22-39  t5-large  /scratch/arminz//tmp/adapted   \n",
       "27              31-01-2022_18-38-53  t5-large  /scratch/arminz//tmp/adapted   \n",
       "28              31-01-2022_18-47-10  t5-large  /scratch/arminz//tmp/adapted   \n",
       "29              31-01-2022_20-23-31  t5-large  /scratch/arminz//tmp/adapted   \n",
       "30  31-01-2022_131-01-2022_20-32-47  t5-large  /scratch/arminz//tmp/adapted   \n",
       "31              01-02-2022_15-31-56  t5-large  /scratch/arminz//tmp/adapted   \n",
       "\n",
       "   split     type  \n",
       "22   NaN  adapted  \n",
       "23   NaN  adapted  \n",
       "24   NaN  adapted  \n",
       "25   NaN  adapted  \n",
       "26   NaN  adapted  \n",
       "27   NaN  adapted  \n",
       "28   NaN  adapted  \n",
       "29   NaN  adapted  \n",
       "30   NaN  adapted  \n",
       "31   NaN  adapted  "
      ]
     },
     "execution_count": 135,
     "metadata": {},
     "output_type": "execute_result"
    }
   ],
   "source": [
    "results[(results['type'] == 'adapted') & (results['repo'] != 'all') & results['split'].isna()]"
   ]
  },
  {
   "cell_type": "code",
   "execution_count": 35,
   "id": "d494f9d9",
   "metadata": {},
   "outputs": [],
   "source": [
    "from matplotlib import pyplot as plt"
   ]
  },
  {
   "cell_type": "code",
   "execution_count": 36,
   "id": "21b82f69",
   "metadata": {},
   "outputs": [
    {
     "ename": "NameError",
     "evalue": "name 'inc_2' is not defined",
     "output_type": "error",
     "traceback": [
      "\u001b[0;31m---------------------------------------------------------------------------\u001b[0m",
      "\u001b[0;31mNameError\u001b[0m                                 Traceback (most recent call last)",
      "\u001b[0;32m/tmp/ipykernel_96616/4212831111.py\u001b[0m in \u001b[0;36m<module>\u001b[0;34m\u001b[0m\n\u001b[0;32m----> 1\u001b[0;31m \u001b[0mplt\u001b[0m\u001b[0;34m.\u001b[0m\u001b[0mscatter\u001b[0m\u001b[0;34m(\u001b[0m\u001b[0minc_2\u001b[0m\u001b[0;34m[\u001b[0m\u001b[0;34m'samples'\u001b[0m\u001b[0;34m]\u001b[0m\u001b[0;34m,\u001b[0m \u001b[0minc_2\u001b[0m\u001b[0;34m[\u001b[0m\u001b[0;34m'acc'\u001b[0m\u001b[0;34m]\u001b[0m\u001b[0;34m,\u001b[0m \u001b[0mlabel\u001b[0m\u001b[0;34m=\u001b[0m\u001b[0;34m'included'\u001b[0m\u001b[0;34m)\u001b[0m\u001b[0;34m\u001b[0m\u001b[0;34m\u001b[0m\u001b[0m\n\u001b[0m\u001b[1;32m      2\u001b[0m \u001b[0mplt\u001b[0m\u001b[0;34m.\u001b[0m\u001b[0mscatter\u001b[0m\u001b[0;34m(\u001b[0m\u001b[0mexc_2\u001b[0m\u001b[0;34m[\u001b[0m\u001b[0;34m'samples'\u001b[0m\u001b[0;34m]\u001b[0m\u001b[0;34m,\u001b[0m \u001b[0mexc_2\u001b[0m\u001b[0;34m[\u001b[0m\u001b[0;34m'acc'\u001b[0m\u001b[0;34m]\u001b[0m\u001b[0;34m,\u001b[0m \u001b[0mlabel\u001b[0m\u001b[0;34m=\u001b[0m\u001b[0;34m'excluded'\u001b[0m\u001b[0;34m)\u001b[0m\u001b[0;34m\u001b[0m\u001b[0;34m\u001b[0m\u001b[0m\n\u001b[1;32m      3\u001b[0m \u001b[0mplt\u001b[0m\u001b[0;34m.\u001b[0m\u001b[0mscatter\u001b[0m\u001b[0;34m(\u001b[0m\u001b[0mgood_2\u001b[0m\u001b[0;34m[\u001b[0m\u001b[0;34m'samples'\u001b[0m\u001b[0;34m]\u001b[0m\u001b[0;34m,\u001b[0m \u001b[0mgood_2\u001b[0m\u001b[0;34m[\u001b[0m\u001b[0;34m'acc'\u001b[0m\u001b[0;34m]\u001b[0m\u001b[0;34m,\u001b[0m \u001b[0mlabel\u001b[0m\u001b[0;34m=\u001b[0m\u001b[0;34m'tuned'\u001b[0m\u001b[0;34m)\u001b[0m\u001b[0;34m\u001b[0m\u001b[0;34m\u001b[0m\u001b[0m\n\u001b[1;32m      4\u001b[0m \u001b[0mplt\u001b[0m\u001b[0;34m.\u001b[0m\u001b[0mscatter\u001b[0m\u001b[0;34m(\u001b[0m\u001b[0madapter\u001b[0m\u001b[0;34m[\u001b[0m\u001b[0;34m'samples'\u001b[0m\u001b[0;34m]\u001b[0m\u001b[0;34m,\u001b[0m \u001b[0madapter\u001b[0m\u001b[0;34m[\u001b[0m\u001b[0;34m'acc'\u001b[0m\u001b[0;34m]\u001b[0m\u001b[0;34m,\u001b[0m \u001b[0mlabel\u001b[0m\u001b[0;34m=\u001b[0m\u001b[0;34m'tuned with adapter'\u001b[0m\u001b[0;34m)\u001b[0m\u001b[0;34m\u001b[0m\u001b[0;34m\u001b[0m\u001b[0m\n\u001b[1;32m      5\u001b[0m \u001b[0mplt\u001b[0m\u001b[0;34m.\u001b[0m\u001b[0mlegend\u001b[0m\u001b[0;34m(\u001b[0m\u001b[0;34m)\u001b[0m\u001b[0;34m\u001b[0m\u001b[0;34m\u001b[0m\u001b[0m\n",
      "\u001b[0;31mNameError\u001b[0m: name 'inc_2' is not defined"
     ]
    }
   ],
   "source": [
    "plt.scatter(inc_2['samples'], inc_2['acc'], label='included')\n",
    "plt.scatter(exc_2['samples'], exc_2['acc'], label='excluded')\n",
    "plt.scatter(good_2['samples'], good_2['acc'], label='tuned')\n",
    "plt.scatter(adapter['samples'], adapter['acc'], label='tuned with adapter')\n",
    "plt.legend()"
   ]
  },
  {
   "cell_type": "code",
   "execution_count": null,
   "id": "e55a3da6",
   "metadata": {},
   "outputs": [],
   "source": [
    "diff_inc = inc_2.set_index('repo').join(inc_2.set_index('repo')['acc'] - exc_2.set_index('repo')['acc'], rsuffix='ـdiff')"
   ]
  },
  {
   "cell_type": "code",
   "execution_count": null,
   "id": "fc121a17",
   "metadata": {},
   "outputs": [],
   "source": [
    "diff_good = good_2.set_index('repo').join(good_2.set_index('repo')['acc'] - exc_2.set_index('repo')['acc'], rsuffix='ـdiff')"
   ]
  },
  {
   "cell_type": "code",
   "execution_count": null,
   "id": "001d24d7",
   "metadata": {},
   "outputs": [],
   "source": [
    "diff_adapter = adapter.set_index('repo').join(adapter.set_index('repo')['acc'] - exc_2.set_index('repo')['acc'], rsuffix='ـdiff')"
   ]
  },
  {
   "cell_type": "code",
   "execution_count": null,
   "id": "d9e46c12",
   "metadata": {},
   "outputs": [],
   "source": [
    "plt.scatter(diff_inc['samples'], diff_inc['acc'], label='included')\n",
    "plt.scatter(diff_adapter['samples'], diff_adapter['acc'], label='adapter')\n",
    "plt.legend()"
   ]
  },
  {
   "cell_type": "code",
   "execution_count": null,
   "id": "774b0c24",
   "metadata": {},
   "outputs": [],
   "source": [
    "plt.scatter(diff_good['samples'], diff_good['acc'], label='good')\n"
   ]
  },
  {
   "cell_type": "code",
   "execution_count": null,
   "id": "a2a82751",
   "metadata": {},
   "outputs": [],
   "source": [
    "plt.scatter(diff_adapter['samples'], diff_adapter['acc'], label='adapter')\n"
   ]
  },
  {
   "cell_type": "code",
   "execution_count": null,
   "id": "b6a5cb73",
   "metadata": {},
   "outputs": [],
   "source": []
  },
  {
   "cell_type": "code",
   "execution_count": null,
   "id": "b3906200",
   "metadata": {},
   "outputs": [],
   "source": []
  },
  {
   "cell_type": "code",
   "execution_count": null,
   "id": "eaba0944",
   "metadata": {},
   "outputs": [],
   "source": []
  }
 ],
 "metadata": {
  "kernelspec": {
   "display_name": "Python 3",
   "language": "python",
   "name": "python3"
  },
  "language_info": {
   "codemirror_mode": {
    "name": "ipython",
    "version": 3
   },
   "file_extension": ".py",
   "mimetype": "text/x-python",
   "name": "python",
   "nbconvert_exporter": "python",
   "pygments_lexer": "ipython3",
   "version": "3.8.10"
  }
 },
 "nbformat": 4,
 "nbformat_minor": 5
}
