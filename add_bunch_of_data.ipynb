{
 "cells": [
  {
   "cell_type": "code",
   "execution_count": 1,
   "id": "be4408fe",
   "metadata": {},
   "outputs": [],
   "source": [
    "%load_ext autoreload\n",
    "%autoreload 2"
   ]
  },
  {
   "cell_type": "code",
   "execution_count": 2,
   "id": "77f3ceef",
   "metadata": {},
   "outputs": [],
   "source": [
    "import sys\n",
    "sys.path.append(\"./hf_transformers/\")"
   ]
  },
  {
   "cell_type": "code",
   "execution_count": 3,
   "id": "7c260cca",
   "metadata": {},
   "outputs": [],
   "source": [
    "from transformers import Seq2SeqTrainer\n",
    "from transformers import Seq2SeqTrainingArguments\n",
    "from transformers import T5Config\n",
    "from transformers import T5ForConditionalGeneration\n",
    "from transformers import T5Tokenizer\n",
    "from transformers import set_seed"
   ]
  },
  {
   "cell_type": "code",
   "execution_count": 4,
   "id": "d9d9db76",
   "metadata": {},
   "outputs": [],
   "source": [
    "from datetime import datetime\n",
    "import argparse\n",
    "import os"
   ]
  },
  {
   "cell_type": "code",
   "execution_count": 5,
   "id": "63c12af6",
   "metadata": {},
   "outputs": [],
   "source": [
    "import torch\n",
    "\n",
    "from data_reader import GetDataAsPython\n",
    "from prepare_data import create_data\n",
    "from prepare_data import create_dataset\n",
    "from prepare_data import extract_warning_types\n",
    "from utils import boolean_string\n",
    "from utils import get_current_time\n",
    "import csv\n",
    "import numpy as np\n",
    "import random\n"
   ]
  },
  {
   "cell_type": "code",
   "execution_count": 6,
   "id": "c6a3bbf6",
   "metadata": {},
   "outputs": [],
   "source": [
    "local = True\n",
    "\n",
    "if local:\n",
    "    storage_directory = './storage/'\n",
    "    base_model = f'./{storage_directory}/checkpoint-37375'\n",
    "    batch_size = 16\n",
    "    codebert_address = \"microsoft/codebert-base\"\n",
    "else:\n",
    "    storage_directory = '/scratch/arminz/'\n",
    "    batch_size = 64\n",
    "    # base_model = f'/{storage_directory}/t5-small_global_repo-based_03-11-2021_15-28-40/checkpoint-37375/'\n",
    "    base_model = f'{storage_directory}/checkpoint-37375'\n",
    "    codebert_address = \"/home/arminz/codebert-base\"\n"
   ]
  },
  {
   "cell_type": "code",
   "execution_count": null,
   "id": "9714988d",
   "metadata": {},
   "outputs": [
    {
     "data": {
      "application/vnd.jupyter.widget-view+json": {
       "model_id": "13367640fa6e4bd6a510b09ec7154028",
       "version_major": 2,
       "version_minor": 0
      },
      "text/plain": [
       "HBox(children=(HTML(value='Downloading'), FloatProgress(value=0.0, max=498.0), HTML(value='')))"
      ]
     },
     "metadata": {},
     "output_type": "display_data"
    },
    {
     "name": "stdout",
     "output_type": "stream",
     "text": [
      "\n"
     ]
    },
    {
     "data": {
      "application/vnd.jupyter.widget-view+json": {
       "model_id": "952dfc2609324cf0b57338deca4b3691",
       "version_major": 2,
       "version_minor": 0
      },
      "text/plain": [
       "HBox(children=(HTML(value='Downloading'), FloatProgress(value=0.0, max=498627950.0), HTML(value='')))"
      ]
     },
     "metadata": {},
     "output_type": "display_data"
    }
   ],
   "source": [
    "import codebert_utils\n",
    "codebert_utils.load(codebert_address)"
   ]
  },
  {
   "cell_type": "code",
   "execution_count": null,
   "id": "39d6e585",
   "metadata": {},
   "outputs": [],
   "source": [
    "exec_number = random.randint(0, 1000)\n",
    "\n",
    "# parser = argparse.ArgumentParser()\n",
    "# parser.add_argument(\"-a\", \"--append\", type=int, required=True)\n",
    "# parser.add_argument(\"-rp\", \"--repo_percent\", type=float, required=True)\n",
    "# parser.add_argument(\"-r\", \"--repo\", type=str, required=True)\n",
    "\n",
    "# args = parser.parse_args()\n",
    "append = 0#args.append\n",
    "repo = '/data/all/data/girder/girder' #,/data/all/data/request/request'#, args.repo\n",
    "repo_percent = 0.65 # args.repo_percent\n"
   ]
  },
  {
   "cell_type": "code",
   "execution_count": 9,
   "id": "980ef80f",
   "metadata": {},
   "outputs": [
    {
     "data": {
      "text/plain": [
       "104804"
      ]
     },
     "execution_count": 9,
     "metadata": {},
     "output_type": "execute_result"
    }
   ],
   "source": [
    "data = GetDataAsPython(f\"{storage_directory}/data_and_models/data/data_autofix_tracking_repo_specific_final.json\")\n",
    "data_eslint = GetDataAsPython(f\"{storage_directory}/data_and_models/data/data_autofix_tracking_eslint_final.json\")\n",
    "data += data_eslint\n",
    "len(data)"
   ]
  },
  {
   "cell_type": "code",
   "execution_count": 10,
   "id": "69d7a298",
   "metadata": {},
   "outputs": [
    {
     "data": {
      "text/plain": [
       "'/data/all/data/xpl/useless'"
      ]
     },
     "execution_count": 10,
     "metadata": {},
     "output_type": "execute_result"
    }
   ],
   "source": [
    "data[0].repo"
   ]
  },
  {
   "cell_type": "code",
   "execution_count": 11,
   "id": "722ce948",
   "metadata": {},
   "outputs": [],
   "source": [
    "name = 'added'"
   ]
  },
  {
   "cell_type": "code",
   "execution_count": 12,
   "id": "a2ed81d8",
   "metadata": {},
   "outputs": [
    {
     "name": "stdout",
     "output_type": "stream",
     "text": [
      "splitting by : repo-based-included\n",
      "train size: 37\n",
      "val size: 14\n",
      "test size: 52\n",
      "splitting by : repo-based\n",
      "train size: 75087\n",
      "val size: 25055\n",
      "test size: 2383\n"
     ]
    }
   ],
   "source": [
    "all_warning_types = extract_warning_types(data)\n",
    "\n",
    "# In[16]:\n",
    "\n",
    "\n",
    "(repo_train_inputs, repo_train_labels, repo_val_inputs, repo_val_labels, repo_test_inputs, repo_test_labels,\n",
    " repo_train_info, repo_val_info, repo_test_info,) = create_data(data, all_warning_types, include_warning=True,\n",
    "                                                                design='repo-based-included', select_repo=repo)\n",
    "\n",
    "# In[17]:\n",
    "\n",
    "\n",
    "(general_train_inputs, general_train_labels, general_val_inputs, general_val_labels, general_test_inputs,\n",
    " general_test_labels, general_train_info, general_val_info, general_test_info,) = create_data(data, all_warning_types,\n",
    "                                                                                              include_warning=True,\n",
    "                                                                                              design='repo-based')"
   ]
  },
  {
   "cell_type": "code",
   "execution_count": 13,
   "id": "6ace570e",
   "metadata": {},
   "outputs": [],
   "source": [
    "repo_vecs = np.array([codebert_utils.code_to_vec(item) for item in repo_train_inputs])"
   ]
  },
  {
   "cell_type": "code",
   "execution_count": 14,
   "id": "9b8a281f",
   "metadata": {},
   "outputs": [],
   "source": [
    "from sklearn.neighbors import NearestNeighbors"
   ]
  },
  {
   "cell_type": "code",
   "execution_count": 23,
   "id": "302a54aa",
   "metadata": {},
   "outputs": [
    {
     "data": {
      "text/plain": [
       "(75087, 768)"
      ]
     },
     "execution_count": 23,
     "metadata": {},
     "output_type": "execute_result"
    }
   ],
   "source": [
    "general_vecs = np.load('general_arr_all.npy')\n",
    "\n",
    "general_vecs.shape\n",
    "\n",
    "\n"
   ]
  },
  {
   "cell_type": "code",
   "execution_count": 22,
   "id": "46309b39",
   "metadata": {},
   "outputs": [],
   "source": [
    "nbrs = NearestNeighbors(n_neighbors=1, algorithm='ball_tree').fit(repo_vecs)"
   ]
  },
  {
   "cell_type": "code",
   "execution_count": 24,
   "id": "7266f0a6",
   "metadata": {},
   "outputs": [],
   "source": [
    "distances, indices = nbrs.kneighbors(general_vecs)"
   ]
  },
  {
   "cell_type": "code",
   "execution_count": 25,
   "id": "e2408bd8",
   "metadata": {},
   "outputs": [],
   "source": [
    "repo_nbrs = NearestNeighbors(n_neighbors=2, algorithm='ball_tree').fit(repo_vecs)\n",
    "repo_distances, index = repo_nbrs.kneighbors(repo_vecs)"
   ]
  },
  {
   "cell_type": "code",
   "execution_count": 26,
   "id": "a4e8c670",
   "metadata": {},
   "outputs": [
    {
     "name": "stdout",
     "output_type": "stream",
     "text": [
      "threshold: [0.] append: 0 0\n"
     ]
    }
   ],
   "source": [
    "threshold = sorted(distances)[int(append * 5 / 4)]\n",
    "print('threshold:', threshold, 'append:', append, int(append * 5 / 4))\n"
   ]
  },
  {
   "cell_type": "code",
   "execution_count": 27,
   "id": "1daecb77",
   "metadata": {},
   "outputs": [],
   "source": [
    "selected = (distances < threshold)"
   ]
  },
  {
   "cell_type": "code",
   "execution_count": 28,
   "id": "4f934fab",
   "metadata": {},
   "outputs": [],
   "source": [
    "assert selected.sum() == int(append * 5 / 4)"
   ]
  },
  {
   "cell_type": "code",
   "execution_count": 29,
   "id": "62929203",
   "metadata": {},
   "outputs": [
    {
     "name": "stdout",
     "output_type": "stream",
     "text": [
      "all repo samples: 37\n",
      "train samples of repo: 24 (0.65)\n"
     ]
    }
   ],
   "source": [
    "samples = int(repo_percent * len(repo_train_inputs))\n",
    "print(f'all repo samples: {len(repo_train_inputs)}\\ntrain samples of repo: {samples} ({repo_percent})')"
   ]
  },
  {
   "cell_type": "code",
   "execution_count": 30,
   "id": "7119d75b",
   "metadata": {},
   "outputs": [],
   "source": [
    "assert len(distances) == len(general_train_inputs)"
   ]
  },
  {
   "cell_type": "code",
   "execution_count": 31,
   "id": "f7b03982",
   "metadata": {},
   "outputs": [],
   "source": [
    "filtered_general_inputs = list()\n",
    "filtered_general_labels = list()\n",
    "filtered_general_info = list()\n",
    "for ind in range(len(general_train_inputs)):\n",
    "    if selected[ind]:\n",
    "        filtered_general_inputs.append(general_train_inputs[ind])\n",
    "        filtered_general_labels.append(general_train_labels[ind])\n",
    "        filtered_general_info.append(general_train_info[ind])"
   ]
  },
  {
   "cell_type": "code",
   "execution_count": 32,
   "id": "b2ac9099",
   "metadata": {},
   "outputs": [
    {
     "data": {
      "text/plain": [
       "(75087, 1)"
      ]
     },
     "execution_count": 32,
     "metadata": {},
     "output_type": "execute_result"
    }
   ],
   "source": [
    "selected.shape"
   ]
  },
  {
   "cell_type": "code",
   "execution_count": 34,
   "id": "27d0ee6b",
   "metadata": {},
   "outputs": [],
   "source": [
    "if selected.any():\n",
    "    filtered_general_distances, _ = nbrs.kneighbors(general_vecs[selected[:, 0]])\n",
    "    filtered_general_distances.shape"
   ]
  },
  {
   "cell_type": "code",
   "execution_count": 35,
   "id": "969a2b30",
   "metadata": {},
   "outputs": [
    {
     "data": {
      "image/png": "[encoded data removed]",
      "text/plain": [
       "<Figure size 432x288 with 1 Axes>"
      ]
     },
     "metadata": {
      "needs_background": "light"
     },
     "output_type": "display_data"
    }
   ],
   "source": [
    "from matplotlib import pyplot as plt\n",
    "if selected.any():\n",
    "    plt.boxplot([distances.squeeze(), repo_distances[:, 1], filtered_general_distances.squeeze()])\n",
    "else:\n",
    "    plt.boxplot([distances.squeeze(), repo_distances[:, 1], []])\n",
    "    "
   ]
  },
  {
   "cell_type": "code",
   "execution_count": 36,
   "id": "421b53cb",
   "metadata": {},
   "outputs": [
    {
     "name": "stdout",
     "output_type": "stream",
     "text": [
      "0\n"
     ]
    }
   ],
   "source": [
    "print(len(filtered_general_inputs))\n",
    "assert len(filtered_general_inputs) == int(append * 5 / 4)"
   ]
  },
  {
   "cell_type": "code",
   "execution_count": 37,
   "id": "4493c928",
   "metadata": {},
   "outputs": [
    {
     "name": "stdout",
     "output_type": "stream",
     "text": [
      "0\n"
     ]
    }
   ],
   "source": [
    "validation_point = append\n",
    "print(validation_point)"
   ]
  },
  {
   "cell_type": "code",
   "execution_count": 38,
   "id": "2e098be4",
   "metadata": {},
   "outputs": [],
   "source": [
    "added_inputs_train = filtered_general_inputs[:validation_point]\n",
    "added_labels_train = filtered_general_labels[:validation_point]\n",
    "added_info_train = filtered_general_info[:validation_point]"
   ]
  },
  {
   "cell_type": "code",
   "execution_count": 39,
   "id": "bf1d1a41",
   "metadata": {},
   "outputs": [],
   "source": [
    "added_inputs_val = filtered_general_inputs[validation_point:]\n",
    "added_labels_val = filtered_general_labels[validation_point:]\n",
    "added_info_val = filtered_general_info[validation_point:]"
   ]
  },
  {
   "cell_type": "code",
   "execution_count": 40,
   "id": "1836d2b7",
   "metadata": {},
   "outputs": [
    {
     "name": "stdout",
     "output_type": "stream",
     "text": [
      "37 0\n"
     ]
    }
   ],
   "source": [
    "print(len(repo_train_inputs), len(added_inputs_train))"
   ]
  },
  {
   "cell_type": "code",
   "execution_count": 41,
   "id": "4ddaa6f1",
   "metadata": {},
   "outputs": [],
   "source": [
    "assert len(added_inputs_train) == append"
   ]
  },
  {
   "cell_type": "code",
   "execution_count": 42,
   "id": "ea1a511f",
   "metadata": {},
   "outputs": [],
   "source": [
    "added_inputs_train += repo_train_inputs[:samples]\n",
    "added_labels_train += repo_train_labels[:samples]\n",
    "added_info_train += repo_train_info[:samples]\n"
   ]
  },
  {
   "cell_type": "code",
   "execution_count": 43,
   "id": "2b76bef2",
   "metadata": {},
   "outputs": [],
   "source": [
    "added_inputs_val += repo_val_inputs\n",
    "added_labels_val += repo_val_labels\n",
    "added_info_val += repo_val_info"
   ]
  },
  {
   "cell_type": "code",
   "execution_count": 44,
   "id": "3a84f04c",
   "metadata": {},
   "outputs": [
    {
     "name": "stdout",
     "output_type": "stream",
     "text": [
      "added inputs train 24\n",
      "added inputs val 14\n"
     ]
    }
   ],
   "source": [
    "print('added inputs train', len(added_inputs_train))\n",
    "print('added inputs val', len(added_inputs_val))\n"
   ]
  },
  {
   "cell_type": "code",
   "execution_count": 45,
   "id": "f1f95204",
   "metadata": {},
   "outputs": [
    {
     "name": "stdout",
     "output_type": "stream",
     "text": [
      "repo val inputs 14\n"
     ]
    }
   ],
   "source": [
    "print('repo val inputs', len(repo_val_inputs))"
   ]
  },
  {
   "cell_type": "code",
   "execution_count": 46,
   "id": "d7873bad",
   "metadata": {},
   "outputs": [],
   "source": [
    "assert len(added_inputs_train) == append + samples"
   ]
  },
  {
   "cell_type": "code",
   "execution_count": 47,
   "id": "5033c7a0",
   "metadata": {},
   "outputs": [
    {
     "name": "stderr",
     "output_type": "stream",
     "text": [
      "/home/armin/TFix/env/lib/python3.8/site-packages/transformers/models/t5/tokenization_t5.py:185: UserWarning: This sequence already has </s>. In future versions this behavior may lead to duplicated eos tokens being added.\n",
      "  warnings.warn(\n"
     ]
    },
    {
     "data": {
      "text/plain": [
       "'./storage//tmp/added_605_girder_0.65_24_0'"
      ]
     },
     "execution_count": 47,
     "metadata": {},
     "output_type": "execute_result"
    }
   ],
   "source": [
    "tokenizer = T5Tokenizer.from_pretrained(base_model)\n",
    "\n",
    "# In[48]:\n",
    "\n",
    "\n",
    "train_dataset = create_dataset(added_inputs_train, added_labels_train, tokenizer, pad_truncate=True, max_length=128)\n",
    "val_dataset = create_dataset(added_inputs_val, added_labels_val, tokenizer, pad_truncate=True)\n",
    "test_dataset = create_dataset(repo_val_inputs, repo_val_labels, tokenizer, pad_truncate=True)\n",
    "\n",
    "# In[49]:\n",
    "\n",
    "\n",
    "now = datetime.now()\n",
    "test_result_directory = f'{storage_directory}/fine-tune-result'\n",
    "full_name = f'{name}_{exec_number}_{repo.rsplit(\"/\", 1)[1][-20:]}_{repo_percent}_{samples}_{append}'\n",
    "model_directory = f'{storage_directory}/tmp/{full_name}'\n",
    "model_directory"
   ]
  },
  {
   "cell_type": "code",
   "execution_count": 48,
   "id": "51dc8426",
   "metadata": {},
   "outputs": [
    {
     "data": {
      "text/plain": [
       "52"
      ]
     },
     "execution_count": 48,
     "metadata": {},
     "output_type": "execute_result"
    }
   ],
   "source": [
    "len(repo_test_inputs)"
   ]
  },
  {
   "cell_type": "code",
   "execution_count": 49,
   "id": "17752a8e",
   "metadata": {},
   "outputs": [],
   "source": [
    "lr = 4e-3\n",
    "ws = 300\n",
    "wd = 0.4"
   ]
  },
  {
   "cell_type": "code",
   "execution_count": 50,
   "id": "fc7c0133",
   "metadata": {},
   "outputs": [
    {
     "data": {
      "text/plain": [
       "Embedding(32104, 512)"
      ]
     },
     "execution_count": 50,
     "metadata": {},
     "output_type": "execute_result"
    }
   ],
   "source": [
    "tokenizer = T5Tokenizer.from_pretrained(base_model)\n",
    "model = T5ForConditionalGeneration.from_pretrained(base_model)\n",
    "model.resize_token_embeddings(len(tokenizer))"
   ]
  },
  {
   "cell_type": "code",
   "execution_count": 51,
   "id": "6eafdc34",
   "metadata": {},
   "outputs": [],
   "source": [
    "from transformers import EarlyStoppingCallback\n",
    "\n",
    "training_args = Seq2SeqTrainingArguments(\n",
    "    output_dir=model_directory,\n",
    "    num_train_epochs=15,\n",
    "    per_device_train_batch_size=batch_size,\n",
    "    per_device_eval_batch_size=batch_size,\n",
    "    warmup_steps=ws,\n",
    "    weight_decay=wd,\n",
    "    logging_dir=model_directory,\n",
    "    logging_steps=100,\n",
    "    do_eval=True,\n",
    "    evaluation_strategy=\"epoch\",\n",
    "    learning_rate=lr,\n",
    "    load_best_model_at_end=True,\n",
    "    metric_for_best_model=\"eval_loss\",\n",
    "    greater_is_better=False,\n",
    "    save_total_limit=1,\n",
    "    eval_accumulation_steps=1,  # set this lower, if testing or validation crashes\n",
    "    disable_tqdm=False,\n",
    "    predict_with_generate=True,  # never set this to false.\n",
    "    seed=42,  # default value\n",
    ")\n"
   ]
  },
  {
   "cell_type": "code",
   "execution_count": 52,
   "id": "3e0fc59c",
   "metadata": {},
   "outputs": [],
   "source": [
    "trainer = Seq2SeqTrainer(\n",
    "    model=model,\n",
    "    args=training_args,\n",
    "    train_dataset=train_dataset,\n",
    "    eval_dataset=val_dataset,\n",
    "    optimizers=[torch.optim.Adam(params=model.parameters(), lr=lr), None],\n",
    "    tokenizer=tokenizer,\n",
    "    callbacks=[EarlyStoppingCallback(early_stopping_patience=4)]\n",
    "    #     compute_metrics=compute_metrics\n",
    ")"
   ]
  },
  {
   "cell_type": "code",
   "execution_count": 53,
   "id": "6642f0d0",
   "metadata": {},
   "outputs": [
    {
     "data": {
      "text/html": [
       "\n",
       "    <div>\n",
       "        <style>\n",
       "            /* Turns off some styling */\n",
       "            progress {\n",
       "                /* gets rid of default border in Firefox and Opera. */\n",
       "                border: none;\n",
       "                /* Needs to be in here for Safari polyfill so background images work as expected. */\n",
       "                background-size: auto;\n",
       "            }\n",
       "        </style>\n",
       "      \n",
       "      <progress value='26' max='30' style='width:300px; height:20px; vertical-align: middle;'></progress>\n",
       "      [26/30 00:16 < 00:02, 1.44 it/s, Epoch 13/15]\n",
       "    </div>\n",
       "    <table border=\"1\" class=\"dataframe\">\n",
       "  <thead>\n",
       "    <tr style=\"text-align: left;\">\n",
       "      <th>Epoch</th>\n",
       "      <th>Training Loss</th>\n",
       "      <th>Validation Loss</th>\n",
       "      <th>Runtime</th>\n",
       "      <th>Samples Per Second</th>\n",
       "    </tr>\n",
       "  </thead>\n",
       "  <tbody>\n",
       "    <tr>\n",
       "      <td>1</td>\n",
       "      <td>No log</td>\n",
       "      <td>0.061004</td>\n",
       "      <td>0.033100</td>\n",
       "      <td>422.600000</td>\n",
       "    </tr>\n",
       "    <tr>\n",
       "      <td>2</td>\n",
       "      <td>No log</td>\n",
       "      <td>0.055694</td>\n",
       "      <td>0.033800</td>\n",
       "      <td>413.753000</td>\n",
       "    </tr>\n",
       "    <tr>\n",
       "      <td>3</td>\n",
       "      <td>No log</td>\n",
       "      <td>0.048673</td>\n",
       "      <td>0.033100</td>\n",
       "      <td>422.500000</td>\n",
       "    </tr>\n",
       "    <tr>\n",
       "      <td>4</td>\n",
       "      <td>No log</td>\n",
       "      <td>0.043399</td>\n",
       "      <td>0.032900</td>\n",
       "      <td>426.117000</td>\n",
       "    </tr>\n",
       "    <tr>\n",
       "      <td>5</td>\n",
       "      <td>No log</td>\n",
       "      <td>0.041139</td>\n",
       "      <td>0.033600</td>\n",
       "      <td>416.465000</td>\n",
       "    </tr>\n",
       "    <tr>\n",
       "      <td>6</td>\n",
       "      <td>No log</td>\n",
       "      <td>0.040751</td>\n",
       "      <td>0.032900</td>\n",
       "      <td>425.179000</td>\n",
       "    </tr>\n",
       "    <tr>\n",
       "      <td>7</td>\n",
       "      <td>No log</td>\n",
       "      <td>0.040693</td>\n",
       "      <td>0.040000</td>\n",
       "      <td>350.286000</td>\n",
       "    </tr>\n",
       "    <tr>\n",
       "      <td>8</td>\n",
       "      <td>No log</td>\n",
       "      <td>0.039918</td>\n",
       "      <td>0.034000</td>\n",
       "      <td>412.066000</td>\n",
       "    </tr>\n",
       "    <tr>\n",
       "      <td>9</td>\n",
       "      <td>No log</td>\n",
       "      <td>0.039546</td>\n",
       "      <td>0.034300</td>\n",
       "      <td>408.654000</td>\n",
       "    </tr>\n",
       "    <tr>\n",
       "      <td>10</td>\n",
       "      <td>No log</td>\n",
       "      <td>0.040092</td>\n",
       "      <td>0.033000</td>\n",
       "      <td>424.780000</td>\n",
       "    </tr>\n",
       "    <tr>\n",
       "      <td>11</td>\n",
       "      <td>No log</td>\n",
       "      <td>0.041933</td>\n",
       "      <td>0.033800</td>\n",
       "      <td>414.586000</td>\n",
       "    </tr>\n",
       "    <tr>\n",
       "      <td>12</td>\n",
       "      <td>No log</td>\n",
       "      <td>0.044098</td>\n",
       "      <td>0.047300</td>\n",
       "      <td>295.912000</td>\n",
       "    </tr>\n",
       "    <tr>\n",
       "      <td>13</td>\n",
       "      <td>No log</td>\n",
       "      <td>0.046660</td>\n",
       "      <td>0.033100</td>\n",
       "      <td>422.639000</td>\n",
       "    </tr>\n",
       "  </tbody>\n",
       "</table><p>"
      ],
      "text/plain": [
       "<IPython.core.display.HTML object>"
      ]
     },
     "metadata": {},
     "output_type": "display_data"
    },
    {
     "data": {
      "text/plain": [
       "TrainOutput(global_step=26, training_loss=0.042005364711468034, metrics={'train_runtime': 16.8377, 'train_samples_per_second': 1.782, 'total_flos': 12909975257088, 'epoch': 13.0})"
      ]
     },
     "execution_count": 53,
     "metadata": {},
     "output_type": "execute_result"
    }
   ],
   "source": [
    "trainer.train()"
   ]
  },
  {
   "cell_type": "code",
   "execution_count": 55,
   "id": "9f920956",
   "metadata": {},
   "outputs": [
    {
     "name": "stdout",
     "output_type": "stream",
     "text": [
      "eval 0.03954636678099632\n"
     ]
    }
   ],
   "source": [
    "print('eval', trainer.evaluate()['eval_loss'])"
   ]
  },
  {
   "cell_type": "code",
   "execution_count": 56,
   "id": "b94fa5bd",
   "metadata": {},
   "outputs": [
    {
     "name": "stdout",
     "output_type": "stream",
     "text": [
      "best model dir ./storage//tmp/added_605_girder_0.65_24_0/best/\n"
     ]
    }
   ],
   "source": [
    "best_model_dir = f'{model_directory}/best/'\n",
    "trainer.save_model(best_model_dir)\n",
    "print('best model dir', best_model_dir)"
   ]
  },
  {
   "cell_type": "code",
   "execution_count": 57,
   "id": "a2a4b937",
   "metadata": {},
   "outputs": [],
   "source": [
    "from numba import cuda \n",
    "device = cuda.get_current_device()\n",
    "device.reset()"
   ]
  },
  {
   "cell_type": "code",
   "execution_count": 58,
   "id": "5e091f78",
   "metadata": {},
   "outputs": [
    {
     "name": "stderr",
     "output_type": "stream",
     "text": [
      "/home/armin/TFix/env/lib/python3.8/site-packages/transformers/models/t5/tokenization_t5.py:185: UserWarning: This sequence already has </s>. In future versions this behavior may lead to duplicated eos tokens being added.\n",
      "  warnings.warn(\n",
      "6it [00:05,  1.11it/s]                       "
     ]
    },
    {
     "name": "stdout",
     "output_type": "stream",
     "text": [
      "start time:  11:34:59\n",
      "['no-invalid-this', 'no-throw-literal', 'no-new-wrappers', 'guard-for-in', 'no-new-object', 'comma-style', 'prefer-spread', 'no-caller', 'no-extra-bind', 'no-array-constructor', 'prefer-rest-params', 'generator-star-spacing', 'no-this-before-super', 'no-extend-native', 'no-undef', 'no-useless-escape', 'no-dupe-keys', 'no-console', 'no-constant-condition', 'no-duplicate-case', 'no-empty', 'no-extra-semi', 'no-redeclare', 'no-cond-assign', 'no-extra-boolean-cast', 'no-fallthrough', 'no-unreachable', 'valid-typeof', 'no-unsafe-finally', 'no-unused-vars', 'no-debugger', 'no-unsafe-negation', 'no-case-declarations', 'no-self-assign', 'no-process-exit', 'no-inner-declarations', 'for-direction', 'no-compare-neg-zero', 'no-sparse-arrays', 'no-func-assign', 'no-const-assign', 'no-global-assign', 'use-isnan', 'no-unused-labels', 'require-yield', 'getter-return', 'no-dupe-class-members', 'no-ex-assign', 'constructor-super', 'no-new-symbol', 'no-empty-pattern', 'no-class-assign']\n",
      "splitting by : repo-based-included\n",
      "train size: 37\n",
      "val size: 14\n",
      "test size: 52\n",
      "Loaded tokenizer from directory ./storage//tmp/added_605_girder_0.65_24_0/best/\n",
      "Loaded model from directory ./storage//tmp/added_605_girder_0.65_24_0/best/\n",
      "cuda:0\n",
      "Testing has started\n",
      "Number of testing samples:  52\n",
      "score average: 0.6730769230769231 samples_count: 52\n",
      "result : ./storage//15/per-repo/t5-small_test_girder_15-12-2021_11-34-59\n",
      "end time:  11:35:14\n"
     ]
    },
    {
     "data": {
      "text/plain": [
       "0"
      ]
     },
     "execution_count": 58,
     "metadata": {},
     "output_type": "execute_result"
    }
   ],
   "source": [
    "\n",
    "os.system(\n",
    "    f'python hf_transformers/tfix_testing.py --load-model {best_model_dir} -bs {batch_size} --model-name t5-small -d repo-based-included -r {repo}')"
   ]
  },
  {
   "cell_type": "code",
   "execution_count": 59,
   "id": "c0beb2b8",
   "metadata": {},
   "outputs": [],
   "source": [
    "import shutil"
   ]
  },
  {
   "cell_type": "code",
   "execution_count": 60,
   "id": "672bc9ac",
   "metadata": {},
   "outputs": [],
   "source": [
    "shutil.rmtree(model_directory)"
   ]
  },
  {
   "cell_type": "code",
   "execution_count": null,
   "id": "87c0cee5",
   "metadata": {},
   "outputs": [],
   "source": []
  }
 ],
 "metadata": {
  "kernelspec": {
   "display_name": "Python 3",
   "language": "python",
   "name": "python3"
  },
  "language_info": {
   "codemirror_mode": {
    "name": "ipython",
    "version": 3
   },
   "file_extension": ".py",
   "mimetype": "text/x-python",
   "name": "python",
   "nbconvert_exporter": "python",
   "pygments_lexer": "ipython3",
   "version": "3.8.5"
  }
 },
 "nbformat": 4,
 "nbformat_minor": 5
}
